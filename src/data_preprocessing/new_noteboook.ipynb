{
 "cells": [
  {
   "cell_type": "code",
   "execution_count": 278,
   "metadata": {},
   "outputs": [],
   "source": [
    "import pandas as pd\n",
    "import numpy as np\n",
    "import seaborn as sns\n",
    "import matplotlib.pyplot as plt\n",
    "from scipy.signal import argrelextrema\n",
    "import xgboost as xgb\n",
    "from sklearn.metrics import plot_confusion_matrix"
   ]
  },
  {
   "cell_type": "code",
   "execution_count": 279,
   "metadata": {
    "pycharm": {
     "name": "#%%\n"
    }
   },
   "outputs": [],
   "source": [
    "from pandasql import sqldf\n",
    "pysqldf = lambda q: sqldf(q,globals())"
   ]
  },
  {
   "cell_type": "code",
   "execution_count": 280,
   "metadata": {
    "pycharm": {
     "name": "#%%\n"
    }
   },
   "outputs": [
    {
     "name": "stderr",
     "output_type": "stream",
     "text": [
      "C:\\Users\\lbushman\\AppData\\Local\\Temp\\ipykernel_12588\\1626634897.py:1: DtypeWarning: Columns (1,3,4,5,6,7) have mixed types. Specify dtype option on import or set low_memory=False.\n",
      "  df = pd.read_csv('../../data/data/H161.csv', parse_dates=['utc_time'])\n"
     ]
    }
   ],
   "source": [
    "df = pd.read_csv('../../data/data/H161.csv', parse_dates=['utc_time'])\n",
    "df.columns = ['time','batch','phase', 'heat_time', 'weight', 'head_temp', 'head_pressure', 'vac_temp']"
   ]
  },
  {
   "cell_type": "code",
   "execution_count": 281,
   "metadata": {
    "pycharm": {
     "name": "#%%\n"
    }
   },
   "outputs": [],
   "source": [
    "df = df[df['phase'].str.contains ('DRYING|DISCHRG') == True]\n",
    "# df = df[df['phase'].str.contains ('DRYING') == True]\n"
   ]
  },
  {
   "cell_type": "code",
   "execution_count": 282,
   "metadata": {
    "pycharm": {
     "name": "#%%\n"
    }
   },
   "outputs": [],
   "source": [
    "df[\"time\"] = df[\"time\"].dt.tz_localize(None)\n",
    "df['date'] = df['time'].dt.date\n",
    "df['day'] = df['time'].dt.dayofweek\n"
   ]
  },
  {
   "cell_type": "code",
   "execution_count": 283,
   "metadata": {
    "pycharm": {
     "name": "#%%\n"
    }
   },
   "outputs": [],
   "source": [
    "df.replace({'??????': None}, inplace=True)\n",
    "df.replace({'????????': None}, inplace=True)\n",
    "df.dropna(inplace=True)"
   ]
  },
  {
   "cell_type": "code",
   "execution_count": 284,
   "metadata": {
    "pycharm": {
     "name": "#%%\n"
    }
   },
   "outputs": [],
   "source": [
    "df['head_temp'] = df.head_temp.astype(float)\n",
    "df['weight'] = df.weight.astype(float)\n",
    "df['head_pressure'] = df.head_pressure.astype(float)\n",
    "df['heat_time'] = df.heat_time.astype(float)\n",
    "df['vac_temp'] = df.vac_temp.astype(float)\n",
    "df['batch'] = df.batch.astype(float)\n",
    "df['phase'] = df.phase.astype('category')"
   ]
  },
  {
   "cell_type": "code",
   "execution_count": 285,
   "metadata": {
    "pycharm": {
     "name": "#%%\n"
    }
   },
   "outputs": [],
   "source": [
    "n = 30  # number of points to be checked before and after\n",
    "\n",
    "# Find local peaks\n",
    "df['max_temp'] = 0\n",
    "df['max_temp'] = df.iloc[argrelextrema(df.head_temp.values, np.greater_equal, order=n)]['head_temp']"
   ]
  },
  {
   "cell_type": "code",
   "execution_count": 286,
   "metadata": {
    "pycharm": {
     "name": "#%%\n"
    }
   },
   "outputs": [],
   "source": [
    "df['ready'] = 0\n",
    "delta_t = 2\n",
    "\n",
    "for i in range (1, len(df['ready']-1)):\n",
    "    if df.max_temp.values[i] > 0:\n",
    "        local_max = df.max_temp.values[i]\n",
    "        current = df.batch.values[i]\n",
    "        while df['batch'].values[i] == current:\n",
    "            if local_max - df.head_temp.values[i] > delta_t:\n",
    "                i += 1\n",
    "                df.ready.values[i] = 1\n",
    "            else:\n",
    "                i += 1\n",
    "                df.ready.values[i] = 2\n",
    "            \n",
    "                \n",
    "df = df.drop(['max_temp'], axis=1)\n",
    "df = df[df['phase'].str.contains ('DRYING') == True]"
   ]
  },
  {
   "cell_type": "code",
   "execution_count": 287,
   "metadata": {
    "pycharm": {
     "name": "#%%\n"
    },
    "scrolled": true
   },
   "outputs": [
    {
     "data": {
      "text/plain": "                  time    batch   phase  heat_time  weight  head_temp  \\\n28 2020-04-17 11:49:11  22096.0  DRYING       25.4  3956.1       57.5   \n29 2020-04-17 11:50:11  22096.0  DRYING       26.4  3954.5       57.5   \n30 2020-04-17 11:51:11  22096.0  DRYING       27.4  3952.9       57.5   \n31 2020-04-17 11:52:11  22096.0  DRYING       28.4  3951.4       57.5   \n32 2020-04-17 11:53:11  22096.0  DRYING       29.4  3949.8       57.5   \n\n    head_pressure  vac_temp        date  day  ...  head_pressure_30  \\\n28          186.7     31.27  2020-04-17    4  ...             222.7   \n29          186.2     31.34  2020-04-17    4  ...             226.9   \n30          185.7     31.42  2020-04-17    4  ...             231.1   \n31          185.2     31.50  2020-04-17    4  ...             235.3   \n32          184.7     31.58  2020-04-17    4  ...             239.5   \n\n    head_temp_30  weight_30  heat_time_30  vac_temp_30  head_pressure_40  \\\n28          57.6     3901.6          55.4        32.95             264.7   \n29          57.6     3899.9          56.4        32.95             268.9   \n30          57.7     3898.2          57.4        32.95             273.0   \n31          57.7     3896.6          58.4        32.96             277.2   \n32          57.7     3894.9          59.4        32.96             281.4   \n\n    head_temp_40  weight_40  heat_time_40  vac_temp_40  \n28          57.8     3884.9          65.4        32.98  \n29          57.8     3883.3          66.4        32.98  \n30          57.9     3881.6          67.4        32.99  \n31          57.9     3880.0          68.4        32.99  \n32          57.9     3878.3          69.4        32.99  \n\n[5 rows x 26 columns]",
      "text/html": "<div>\n<style scoped>\n    .dataframe tbody tr th:only-of-type {\n        vertical-align: middle;\n    }\n\n    .dataframe tbody tr th {\n        vertical-align: top;\n    }\n\n    .dataframe thead th {\n        text-align: right;\n    }\n</style>\n<table border=\"1\" class=\"dataframe\">\n  <thead>\n    <tr style=\"text-align: right;\">\n      <th></th>\n      <th>time</th>\n      <th>batch</th>\n      <th>phase</th>\n      <th>heat_time</th>\n      <th>weight</th>\n      <th>head_temp</th>\n      <th>head_pressure</th>\n      <th>vac_temp</th>\n      <th>date</th>\n      <th>day</th>\n      <th>...</th>\n      <th>head_pressure_30</th>\n      <th>head_temp_30</th>\n      <th>weight_30</th>\n      <th>heat_time_30</th>\n      <th>vac_temp_30</th>\n      <th>head_pressure_40</th>\n      <th>head_temp_40</th>\n      <th>weight_40</th>\n      <th>heat_time_40</th>\n      <th>vac_temp_40</th>\n    </tr>\n  </thead>\n  <tbody>\n    <tr>\n      <th>28</th>\n      <td>2020-04-17 11:49:11</td>\n      <td>22096.0</td>\n      <td>DRYING</td>\n      <td>25.4</td>\n      <td>3956.1</td>\n      <td>57.5</td>\n      <td>186.7</td>\n      <td>31.27</td>\n      <td>2020-04-17</td>\n      <td>4</td>\n      <td>...</td>\n      <td>222.7</td>\n      <td>57.6</td>\n      <td>3901.6</td>\n      <td>55.4</td>\n      <td>32.95</td>\n      <td>264.7</td>\n      <td>57.8</td>\n      <td>3884.9</td>\n      <td>65.4</td>\n      <td>32.98</td>\n    </tr>\n    <tr>\n      <th>29</th>\n      <td>2020-04-17 11:50:11</td>\n      <td>22096.0</td>\n      <td>DRYING</td>\n      <td>26.4</td>\n      <td>3954.5</td>\n      <td>57.5</td>\n      <td>186.2</td>\n      <td>31.34</td>\n      <td>2020-04-17</td>\n      <td>4</td>\n      <td>...</td>\n      <td>226.9</td>\n      <td>57.6</td>\n      <td>3899.9</td>\n      <td>56.4</td>\n      <td>32.95</td>\n      <td>268.9</td>\n      <td>57.8</td>\n      <td>3883.3</td>\n      <td>66.4</td>\n      <td>32.98</td>\n    </tr>\n    <tr>\n      <th>30</th>\n      <td>2020-04-17 11:51:11</td>\n      <td>22096.0</td>\n      <td>DRYING</td>\n      <td>27.4</td>\n      <td>3952.9</td>\n      <td>57.5</td>\n      <td>185.7</td>\n      <td>31.42</td>\n      <td>2020-04-17</td>\n      <td>4</td>\n      <td>...</td>\n      <td>231.1</td>\n      <td>57.7</td>\n      <td>3898.2</td>\n      <td>57.4</td>\n      <td>32.95</td>\n      <td>273.0</td>\n      <td>57.9</td>\n      <td>3881.6</td>\n      <td>67.4</td>\n      <td>32.99</td>\n    </tr>\n    <tr>\n      <th>31</th>\n      <td>2020-04-17 11:52:11</td>\n      <td>22096.0</td>\n      <td>DRYING</td>\n      <td>28.4</td>\n      <td>3951.4</td>\n      <td>57.5</td>\n      <td>185.2</td>\n      <td>31.50</td>\n      <td>2020-04-17</td>\n      <td>4</td>\n      <td>...</td>\n      <td>235.3</td>\n      <td>57.7</td>\n      <td>3896.6</td>\n      <td>58.4</td>\n      <td>32.96</td>\n      <td>277.2</td>\n      <td>57.9</td>\n      <td>3880.0</td>\n      <td>68.4</td>\n      <td>32.99</td>\n    </tr>\n    <tr>\n      <th>32</th>\n      <td>2020-04-17 11:53:11</td>\n      <td>22096.0</td>\n      <td>DRYING</td>\n      <td>29.4</td>\n      <td>3949.8</td>\n      <td>57.5</td>\n      <td>184.7</td>\n      <td>31.58</td>\n      <td>2020-04-17</td>\n      <td>4</td>\n      <td>...</td>\n      <td>239.5</td>\n      <td>57.7</td>\n      <td>3894.9</td>\n      <td>59.4</td>\n      <td>32.96</td>\n      <td>281.4</td>\n      <td>57.9</td>\n      <td>3878.3</td>\n      <td>69.4</td>\n      <td>32.99</td>\n    </tr>\n  </tbody>\n</table>\n<p>5 rows × 26 columns</p>\n</div>"
     },
     "execution_count": 287,
     "metadata": {},
     "output_type": "execute_result"
    }
   ],
   "source": [
    "df['head_pressure_20'] = df['head_pressure'].shift(-20)\n",
    "df['head_temp_20'] = df['head_temp'].shift(-20)\n",
    "df['weight_20'] = df['weight'].shift(-20)\n",
    "df['heat_time_20'] = df['heat_time'].shift(-20)\n",
    "df['vac_temp_20'] = df['vac_temp'].shift(-20)\n",
    "\n",
    "df['head_pressure_30'] = df['head_pressure'].shift(-30)\n",
    "df['head_temp_30'] = df['head_temp'].shift(-30)\n",
    "df['weight_30'] = df['weight'].shift(-30)\n",
    "df['heat_time_30'] = df['heat_time'].shift(-30)\n",
    "df['vac_temp_30'] = df['vac_temp'].shift(-30)\n",
    "\n",
    "df['head_pressure_40'] = df['head_pressure'].shift(-40)\n",
    "df['head_temp_40'] = df['head_temp'].shift(-40)\n",
    "df['weight_40'] = df['weight'].shift(-40)\n",
    "df['heat_time_40'] = df['heat_time'].shift(-40)\n",
    "df['vac_temp_40'] = df['vac_temp'].shift(-40)\n",
    "df.dropna(inplace=True)\n",
    "df.head()\n"
   ]
  },
  {
   "cell_type": "code",
   "execution_count": 288,
   "metadata": {
    "pycharm": {
     "name": "#%%\n"
    }
   },
   "outputs": [],
   "source": [
    "# def load_query(path):\n",
    "#     with open(path) as file:\n",
    "#         return file.read()"
   ]
  },
  {
   "cell_type": "code",
   "execution_count": 289,
   "metadata": {
    "pycharm": {
     "name": "#%%\n"
    }
   },
   "outputs": [],
   "source": [
    "# query = load_query('queries/daily_cycles.sql')\n",
    "# daily_cycles = pysqldf(query)"
   ]
  },
  {
   "cell_type": "code",
   "execution_count": 290,
   "metadata": {
    "pycharm": {
     "name": "#%%\n"
    }
   },
   "outputs": [],
   "source": [
    "# daily_cycles.sample(4)"
   ]
  },
  {
   "cell_type": "code",
   "execution_count": 291,
   "metadata": {
    "pycharm": {
     "name": "#%%\n"
    }
   },
   "outputs": [],
   "source": [
    "# daily_cycles.describe()"
   ]
  },
  {
   "cell_type": "code",
   "execution_count": 292,
   "metadata": {
    "pycharm": {
     "name": "#%%\n"
    }
   },
   "outputs": [],
   "source": [
    "import logging\n",
    "logging.getLogger().setLevel(logging.CRITICAL)"
   ]
  },
  {
   "cell_type": "code",
   "execution_count": 293,
   "metadata": {
    "pycharm": {
     "name": "#%%\n"
    }
   },
   "outputs": [],
   "source": [
    "# plt.rcParams.update({'figure.figsize': (17, 3), 'figure.dpi': 300})\n",
    "# fig, ax = plt.subplots()\n",
    "# sns.lineplot(data=daily_cycles.tail(50), x='DATE', y='num_cycles')\n",
    "# plt.grid(linestyle='-', linewidth=0.3)\n",
    "# ax.tick_params(axis='x', rotation=90)"
   ]
  },
  {
   "cell_type": "code",
   "execution_count": 294,
   "metadata": {
    "pycharm": {
     "name": "#%%\n"
    }
   },
   "outputs": [],
   "source": [
    "# query = load_query('queries/weekly_cycles.sql')\n",
    "# weekly_cycles = pysqldf(query)"
   ]
  },
  {
   "cell_type": "code",
   "execution_count": 295,
   "metadata": {
    "pycharm": {
     "name": "#%%\n"
    }
   },
   "outputs": [],
   "source": [
    "# weekly_cycles.tail()"
   ]
  },
  {
   "cell_type": "code",
   "execution_count": 296,
   "metadata": {
    "pycharm": {
     "name": "#%%\n"
    }
   },
   "outputs": [],
   "source": [
    "# plt.rcParams.update({'figure.figsize': (17, 3), 'figure.dpi': 300})\n",
    "# fig, ax = plt.subplots()\n",
    "# sns.lineplot(data=weekly_cycles.tail(50), x='week', y='num_cycles')\n",
    "# plt.grid(linestyle='-', linewidth=0.3)\n",
    "# ax.tick_params(axis='x', rotation=90)"
   ]
  },
  {
   "cell_type": "code",
   "execution_count": 297,
   "outputs": [],
   "source": [
    "df = df[df['ready'] < 2]"
   ],
   "metadata": {
    "collapsed": false,
    "pycharm": {
     "name": "#%%\n"
    }
   }
  },
  {
   "cell_type": "code",
   "execution_count": 325,
   "metadata": {
    "pycharm": {
     "name": "#%%\n"
    }
   },
   "outputs": [],
   "source": [
    "\n",
    "\n",
    "\n",
    "features = [\n",
    "            # 'heat_time', 'weight', 'head_temp', 'head_pressure', 'vac_temp',\n",
    "            # 'heat_time_20', 'weight_20', 'head_temp_20', 'head_pressure_20', 'vac_temp_20',\n",
    "            'heat_time_30', 'weight_30', 'head_temp_30', 'head_pressure_30', 'vac_temp_30',\n",
    "            'heat_time_40', 'weight_40', 'head_temp_40', 'head_pressure_40', 'vac_temp_40'\n",
    "            ]\n",
    "label = ['ready']\n",
    "train_df = df.head(int(df.shape[0]*.75))\n",
    "test_df = df.tail(int(df.shape[0]*0.25))\n",
    "\n",
    "\n",
    "X_train, y_train = train_df[features], train_df[label]\n",
    "X_test, y_test = test_df[features], test_df[label]\n"
   ]
  },
  {
   "cell_type": "code",
   "execution_count": 334,
   "metadata": {
    "pycharm": {
     "name": "#%%\n"
    }
   },
   "outputs": [],
   "source": [
    "clf_xgb = xgb.XGBClassifier(objective='binary:logistic',\n",
    "                            # gamma=0.25,\n",
    "                            max_depth=8,\n",
    "                            seed=42)"
   ]
  },
  {
   "cell_type": "code",
   "execution_count": 335,
   "metadata": {
    "pycharm": {
     "name": "#%%\n"
    }
   },
   "outputs": [
    {
     "name": "stderr",
     "output_type": "stream",
     "text": [
      "C:\\Users\\lbushman\\.virtualenvs\\drayers-ZSJxV8Z-\\lib\\site-packages\\xgboost\\sklearn.py:1224: UserWarning: The use of label encoder in XGBClassifier is deprecated and will be removed in a future release. To remove this warning, do the following: 1) Pass option use_label_encoder=False when constructing XGBClassifier object; and 2) Encode your labels (y) as integers starting with 0, i.e. 0, 1, 2, ..., [num_class - 1].\n",
      "  warnings.warn(label_encoder_deprecation_msg, UserWarning)\n",
      "C:\\Users\\lbushman\\.virtualenvs\\drayers-ZSJxV8Z-\\lib\\site-packages\\sklearn\\preprocessing\\_label.py:98: DataConversionWarning: A column-vector y was passed when a 1d array was expected. Please change the shape of y to (n_samples, ), for example using ravel().\n",
      "  y = column_or_1d(y, warn=True)\n",
      "C:\\Users\\lbushman\\.virtualenvs\\drayers-ZSJxV8Z-\\lib\\site-packages\\sklearn\\preprocessing\\_label.py:133: DataConversionWarning: A column-vector y was passed when a 1d array was expected. Please change the shape of y to (n_samples, ), for example using ravel().\n",
      "  y = column_or_1d(y, warn=True)\n",
      "C:\\Users\\lbushman\\.virtualenvs\\drayers-ZSJxV8Z-\\lib\\site-packages\\xgboost\\data.py:262: FutureWarning: pandas.Int64Index is deprecated and will be removed from pandas in a future version. Use pandas.Index with the appropriate dtype instead.\n",
      "  elif isinstance(data.columns, (pd.Int64Index, pd.RangeIndex)):\n"
     ]
    },
    {
     "name": "stdout",
     "output_type": "stream",
     "text": [
      "[0]\tvalidation_0-aucpr:0.98668\tvalidation_1-aucpr:0.96084\n",
      "[1]\tvalidation_0-aucpr:0.98925\tvalidation_1-aucpr:0.96856\n",
      "[2]\tvalidation_0-aucpr:0.99089\tvalidation_1-aucpr:0.97338\n",
      "[3]\tvalidation_0-aucpr:0.99155\tvalidation_1-aucpr:0.97469\n",
      "[4]\tvalidation_0-aucpr:0.99233\tvalidation_1-aucpr:0.97415\n",
      "[5]\tvalidation_0-aucpr:0.99283\tvalidation_1-aucpr:0.97486\n",
      "[6]\tvalidation_0-aucpr:0.99335\tvalidation_1-aucpr:0.97515\n",
      "[7]\tvalidation_0-aucpr:0.99398\tvalidation_1-aucpr:0.97539\n",
      "[8]\tvalidation_0-aucpr:0.99438\tvalidation_1-aucpr:0.97529\n",
      "[9]\tvalidation_0-aucpr:0.99471\tvalidation_1-aucpr:0.97561\n",
      "[10]\tvalidation_0-aucpr:0.99508\tvalidation_1-aucpr:0.97560\n",
      "[11]\tvalidation_0-aucpr:0.99539\tvalidation_1-aucpr:0.97580\n",
      "[12]\tvalidation_0-aucpr:0.99560\tvalidation_1-aucpr:0.97592\n",
      "[13]\tvalidation_0-aucpr:0.99584\tvalidation_1-aucpr:0.97689\n",
      "[14]\tvalidation_0-aucpr:0.99598\tvalidation_1-aucpr:0.97639\n",
      "[15]\tvalidation_0-aucpr:0.99623\tvalidation_1-aucpr:0.97598\n",
      "[16]\tvalidation_0-aucpr:0.99630\tvalidation_1-aucpr:0.97557\n",
      "[17]\tvalidation_0-aucpr:0.99651\tvalidation_1-aucpr:0.97504\n",
      "[18]\tvalidation_0-aucpr:0.99668\tvalidation_1-aucpr:0.97487\n",
      "[19]\tvalidation_0-aucpr:0.99669\tvalidation_1-aucpr:0.97402\n",
      "[20]\tvalidation_0-aucpr:0.99688\tvalidation_1-aucpr:0.97384\n",
      "[21]\tvalidation_0-aucpr:0.99694\tvalidation_1-aucpr:0.97397\n",
      "[22]\tvalidation_0-aucpr:0.99724\tvalidation_1-aucpr:0.96978\n"
     ]
    },
    {
     "data": {
      "text/plain": "XGBClassifier(base_score=0.5, booster='gbtree', colsample_bylevel=1,\n              colsample_bynode=1, colsample_bytree=1, enable_categorical=False,\n              gamma=0, gpu_id=-1, importance_type=None,\n              interaction_constraints='', learning_rate=0.300000012,\n              max_delta_step=0, max_depth=8, min_child_weight=1, missing=nan,\n              monotone_constraints='()', n_estimators=100, n_jobs=8,\n              num_parallel_tree=1, predictor='auto', random_state=42,\n              reg_alpha=0, reg_lambda=1, scale_pos_weight=1, seed=42,\n              subsample=1, tree_method='exact', validate_parameters=1,\n              verbosity=None)"
     },
     "execution_count": 335,
     "metadata": {},
     "output_type": "execute_result"
    }
   ],
   "source": [
    "clf_xgb.fit(X_train,\n",
    "            y_train,\n",
    "            verbose=True,\n",
    "            early_stopping_rounds=10,\n",
    "            eval_metric='aucpr',\n",
    "            eval_set=[(X_train, y_train),(X_test, y_test)])"
   ]
  },
  {
   "cell_type": "code",
   "execution_count": 336,
   "metadata": {},
   "outputs": [
    {
     "data": {
      "text/plain": "<AxesSubplot:>"
     },
     "execution_count": 336,
     "metadata": {},
     "output_type": "execute_result"
    },
    {
     "data": {
      "text/plain": "<Figure size 432x288 with 2 Axes>",
      "image/png": "[encoded data removed]"
     },
     "metadata": {
      "needs_background": "light"
     },
     "output_type": "display_data"
    }
   ],
   "source": [
    "from sklearn.metrics import confusion_matrix\n",
    "import seaborn as sns\n",
    "\n",
    "pred = clf_xgb.predict_proba(X_test)[:,1]\n",
    "thr=0.7\n",
    "sns.heatmap(confusion_matrix(y_test,pred>thr),annot=True,fmt='', cmap='Blues')"
   ]
  },
  {
   "cell_type": "code",
   "execution_count": 337,
   "metadata": {},
   "outputs": [
    {
     "data": {
      "text/plain": "[<matplotlib.lines.Line2D at 0x2c82383ebc0>]"
     },
     "execution_count": 337,
     "metadata": {},
     "output_type": "execute_result"
    },
    {
     "data": {
      "text/plain": "<Figure size 432x288 with 1 Axes>",
      "image/png": "[encoded data removed]"
     },
     "metadata": {
      "needs_background": "light"
     },
     "output_type": "display_data"
    }
   ],
   "source": [
    "plt.plot(pd.Series(pred[-1000:]))"
   ]
  },
  {
   "cell_type": "code",
   "execution_count": 338,
   "metadata": {
    "pycharm": {
     "name": "#%%\n"
    }
   },
   "outputs": [
    {
     "name": "stderr",
     "output_type": "stream",
     "text": [
      "C:\\Users\\lbushman\\.virtualenvs\\drayers-ZSJxV8Z-\\lib\\site-packages\\sklearn\\utils\\deprecation.py:87: FutureWarning: Function plot_confusion_matrix is deprecated; Function `plot_confusion_matrix` is deprecated in 1.0 and will be removed in 1.2. Use one of the class methods: ConfusionMatrixDisplay.from_predictions or ConfusionMatrixDisplay.from_estimator.\n",
      "  warnings.warn(msg, category=FutureWarning)\n",
      "C:\\Users\\lbushman\\.virtualenvs\\drayers-ZSJxV8Z-\\lib\\site-packages\\xgboost\\data.py:262: FutureWarning: pandas.Int64Index is deprecated and will be removed from pandas in a future version. Use pandas.Index with the appropriate dtype instead.\n",
      "  elif isinstance(data.columns, (pd.Int64Index, pd.RangeIndex)):\n"
     ]
    },
    {
     "data": {
      "text/plain": "<sklearn.metrics._plot.confusion_matrix.ConfusionMatrixDisplay at 0x2c83dc0f5b0>"
     },
     "execution_count": 338,
     "metadata": {},
     "output_type": "execute_result"
    },
    {
     "data": {
      "text/plain": "<Figure size 432x288 with 2 Axes>",
      "image/png": "[encoded data removed]"
     },
     "metadata": {
      "needs_background": "light"
     },
     "output_type": "display_data"
    }
   ],
   "source": [
    "plot_confusion_matrix(clf_xgb,\n",
    "                      X_test,\n",
    "                      y_test,\n",
    "                      cmap='Blues',\n",
    "                      display_labels=['Ready', 'Not Ready'])"
   ]
  },
  {
   "cell_type": "code",
   "execution_count": 339,
   "metadata": {
    "pycharm": {
     "name": "#%%\n"
    }
   },
   "outputs": [
    {
     "name": "stdout",
     "output_type": "stream",
     "text": [
      "weight:  {'heat_time_30': 483.0, 'weight_30': 455.0, 'head_temp_30': 389.0, 'head_pressure_30': 270.0, 'vac_temp_30': 492.0, 'heat_time_40': 345.0, 'weight_40': 326.0, 'head_temp_40': 364.0, 'head_pressure_40': 241.0, 'vac_temp_40': 449.0}\n",
      "gain:  {'heat_time_30': 212.7633819580078, 'weight_30': 55.19824981689453, 'head_temp_30': 238.9092254638672, 'head_pressure_30': 54.632225036621094, 'vac_temp_30': 67.7187728881836, 'heat_time_40': 111.47657012939453, 'weight_40': 34.247501373291016, 'head_temp_40': 53.64182662963867, 'head_pressure_40': 95.41001892089844, 'vac_temp_40': 44.261722564697266}\n",
      "cover:  {'heat_time_30': 3123.6630859375, 'weight_30': 1229.0386962890625, 'head_temp_30': 2910.816162109375, 'head_pressure_30': 1149.8292236328125, 'vac_temp_30': 1204.690185546875, 'heat_time_40': 1573.331298828125, 'weight_40': 792.3923950195312, 'head_temp_40': 1439.430908203125, 'head_pressure_40': 981.6755981445312, 'vac_temp_40': 1135.4512939453125}\n",
      "total_gain:  {'heat_time_30': 102764.7109375, 'weight_30': 25115.203125, 'head_temp_30': 92935.6875, 'head_pressure_30': 14750.701171875, 'vac_temp_30': 33317.63671875, 'heat_time_40': 38459.41796875, 'weight_40': 11164.685546875, 'head_temp_40': 19525.625, 'head_pressure_40': 22993.814453125, 'vac_temp_40': 19873.513671875}\n",
      "total_cover:  {'heat_time_30': 1508729.25, 'weight_30': 559212.625, 'head_temp_30': 1132307.5, 'head_pressure_30': 310453.875, 'vac_temp_30': 592707.5625, 'heat_time_40': 542799.3125, 'weight_40': 258319.921875, 'head_temp_40': 523952.84375, 'head_pressure_40': 236583.8125, 'vac_temp_40': 509817.65625}\n"
     ]
    }
   ],
   "source": [
    "bst = clf_xgb.get_booster()\n",
    "for importance_type in ('weight','gain', 'cover', 'total_gain','total_cover'):\n",
    "    print('%s: ' % importance_type, bst.get_score(importance_type=importance_type))"
   ]
  },
  {
   "cell_type": "code",
   "execution_count": 350,
   "outputs": [
    {
     "name": "stderr",
     "output_type": "stream",
     "text": [
      "C:\\Users\\lbushman\\.virtualenvs\\drayers-ZSJxV8Z-\\lib\\site-packages\\xgboost\\data.py:262: FutureWarning: pandas.Int64Index is deprecated and will be removed from pandas in a future version. Use pandas.Index with the appropriate dtype instead.\n",
      "  elif isinstance(data.columns, (pd.Int64Index, pd.RangeIndex)):\n"
     ]
    },
    {
     "data": {
      "text/plain": "0.9192735613914677"
     },
     "execution_count": 350,
     "metadata": {},
     "output_type": "execute_result"
    }
   ],
   "source": [
    " from sklearn.metrics import accuracy_score\n",
    "\n",
    "accuracy_score(y_true=y_test, y_pred=clf_xgb.predict_proba(X_test)[:,1]>0.5, normalize=True)"
   ],
   "metadata": {
    "collapsed": false,
    "pycharm": {
     "name": "#%%\n"
    }
   }
  },
  {
   "cell_type": "code",
   "execution_count": null,
   "outputs": [],
   "source": [
    "node_params = {'shape': 'box',\n",
    "               'style': 'filled, rounded',\n",
    "               'fillcolor': '#78cbe'}\n",
    "leaf_params = {'shape': 'box',\n",
    "               'style': 'filled',\n",
    "               'fillcolor': '#e48038'}\n",
    "xgb.to_graphviz(clf_xgb, num_trees=0, size=\"10,10\",\n",
    "                condition_node_params=node_params,\n",
    "                leaf_node_params=leaf_params)"
   ],
   "metadata": {
    "collapsed": false,
    "pycharm": {
     "name": "#%%\n"
    }
   }
  },
  {
   "cell_type": "code",
   "execution_count": null,
   "outputs": [],
   "source": [],
   "metadata": {
    "collapsed": false,
    "pycharm": {
     "name": "#%%\n"
    }
   }
  }
 ],
 "metadata": {
  "kernelspec": {
   "display_name": "Python 3 (ipykernel)",
   "language": "python",
   "name": "python3"
  },
  "language_info": {
   "codemirror_mode": {
    "name": "ipython",
    "version": 3
   },
   "file_extension": ".py",
   "mimetype": "text/x-python",
   "name": "python",
   "nbconvert_exporter": "python",
   "pygments_lexer": "ipython3",
   "version": "3.10.4"
  }
 },
 "nbformat": 4,
 "nbformat_minor": 1
}