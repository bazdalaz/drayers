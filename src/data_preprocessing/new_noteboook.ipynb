{
 "cells": [
  {
   "cell_type": "code",
   "execution_count": 614,
   "metadata": {},
   "outputs": [],
   "source": [
    "import pandas as pd\n",
    "import numpy as np\n",
    "import seaborn as sns\n",
    "import matplotlib.pyplot as plt\n",
    "from scipy.signal import argrelextrema\n",
    "import xgboost as xgb\n",
    "from sklearn.metrics import plot_confusion_matrix"
   ]
  },
  {
   "cell_type": "code",
   "execution_count": 615,
   "metadata": {
    "pycharm": {
     "name": "#%%\n"
    }
   },
   "outputs": [],
   "source": [
    "from pandasql import sqldf\n",
    "pysqldf = lambda q: sqldf(q,globals())"
   ]
  },
  {
   "cell_type": "code",
   "execution_count": 616,
   "metadata": {
    "pycharm": {
     "name": "#%%\n"
    }
   },
   "outputs": [],
   "source": [
    "df = pd.read_csv('../../data/test/H103.csv', parse_dates=['utc_time'])\n",
    "df.columns = ['time','batch','phase', 'heat_time', 'weight', 'head_temp', 'head_pressure', 'vac_temp']"
   ]
  },
  {
   "cell_type": "code",
   "execution_count": 617,
   "metadata": {
    "pycharm": {
     "name": "#%%\n"
    }
   },
   "outputs": [],
   "source": [
    "df = df[df['phase'].str.contains ('DRYING|DISCHRG|HEATING') == True]\n",
    "# df = df[df['phase'].str.contains ('DRYING') == True]\n"
   ]
  },
  {
   "cell_type": "code",
   "execution_count": 618,
   "metadata": {
    "pycharm": {
     "name": "#%%\n"
    }
   },
   "outputs": [],
   "source": [
    "df[\"time\"] = df[\"time\"].dt.tz_localize(None)\n",
    "df['date'] = df['time'].dt.date\n",
    "df['day'] = df['time'].dt.dayofweek\n"
   ]
  },
  {
   "cell_type": "code",
   "execution_count": 619,
   "metadata": {
    "pycharm": {
     "name": "#%%\n"
    }
   },
   "outputs": [],
   "source": [
    "df.replace({'??????': None}, inplace=True)\n",
    "df.replace({'????????': None}, inplace=True)\n",
    "df.dropna(inplace=True)"
   ]
  },
  {
   "cell_type": "code",
   "execution_count": 620,
   "metadata": {
    "pycharm": {
     "name": "#%%\n"
    }
   },
   "outputs": [],
   "source": [
    "df['head_temp'] = df.head_temp.astype(float)\n",
    "df['weight'] = df.weight.astype(float)\n",
    "df['head_pressure'] = df.head_pressure.astype(float)\n",
    "df['heat_time'] = df.heat_time.astype(float)\n",
    "df['vac_temp'] = df.vac_temp.astype(float)\n",
    "df['batch'] = df.batch.astype(float)\n",
    "df['phase'] = df.phase.astype('category')"
   ]
  },
  {
   "cell_type": "code",
   "execution_count": 621,
   "metadata": {
    "pycharm": {
     "name": "#%%\n"
    }
   },
   "outputs": [
    {
     "data": {
      "text/plain": "                     time     batch    phase  heat_time  weight  head_temp  \\\n42850 2022-05-03 06:11:16  148217.0  HEATING      553.0  3103.0       50.8   \n42851 2022-05-03 06:12:16  148217.0  HEATING      622.7  3122.0       51.0   \n42852 2022-05-03 06:13:16  148217.0  HEATING      682.5  3156.0       51.1   \n42853 2022-05-03 06:14:16  148217.0  HEATING      742.4  3174.0       51.3   \n42854 2022-05-03 06:15:16  148217.0  HEATING      802.2  3180.0       51.5   \n...                   ...       ...      ...        ...     ...        ...   \n43065 2022-05-03 09:46:16  148217.0  HEATING     5400.0  3331.0       40.6   \n43066 2022-05-03 09:47:16  148217.0  HEATING     5400.0  3334.0       40.6   \n43067 2022-05-03 09:48:16  148217.0  HEATING     5400.0  3335.0       40.6   \n43068 2022-05-03 09:49:16  148217.0  HEATING     5400.0  3346.0       40.6   \n43069 2022-05-03 09:50:16  148217.0  HEATING     5400.0  3338.0       40.6   \n\n       head_pressure  vac_temp        date  day  max_temp  \n42850          221.3      25.8  2022-05-03    1       NaN  \n42851          227.7      25.0  2022-05-03    1       NaN  \n42852          235.2      25.0  2022-05-03    1       NaN  \n42853          227.9      24.9  2022-05-03    1       NaN  \n42854          230.5      24.0  2022-05-03    1       NaN  \n...              ...       ...         ...  ...       ...  \n43065          313.7      20.0  2022-05-03    1      40.6  \n43066          317.4      20.0  2022-05-03    1      40.6  \n43067          314.7      20.0  2022-05-03    1      40.6  \n43068          324.7      21.0  2022-05-03    1      40.6  \n43069          314.8      21.0  2022-05-03    1      40.6  \n\n[220 rows x 11 columns]",
      "text/html": "<div>\n<style scoped>\n    .dataframe tbody tr th:only-of-type {\n        vertical-align: middle;\n    }\n\n    .dataframe tbody tr th {\n        vertical-align: top;\n    }\n\n    .dataframe thead th {\n        text-align: right;\n    }\n</style>\n<table border=\"1\" class=\"dataframe\">\n  <thead>\n    <tr style=\"text-align: right;\">\n      <th></th>\n      <th>time</th>\n      <th>batch</th>\n      <th>phase</th>\n      <th>heat_time</th>\n      <th>weight</th>\n      <th>head_temp</th>\n      <th>head_pressure</th>\n      <th>vac_temp</th>\n      <th>date</th>\n      <th>day</th>\n      <th>max_temp</th>\n    </tr>\n  </thead>\n  <tbody>\n    <tr>\n      <th>42850</th>\n      <td>2022-05-03 06:11:16</td>\n      <td>148217.0</td>\n      <td>HEATING</td>\n      <td>553.0</td>\n      <td>3103.0</td>\n      <td>50.8</td>\n      <td>221.3</td>\n      <td>25.8</td>\n      <td>2022-05-03</td>\n      <td>1</td>\n      <td>NaN</td>\n    </tr>\n    <tr>\n      <th>42851</th>\n      <td>2022-05-03 06:12:16</td>\n      <td>148217.0</td>\n      <td>HEATING</td>\n      <td>622.7</td>\n      <td>3122.0</td>\n      <td>51.0</td>\n      <td>227.7</td>\n      <td>25.0</td>\n      <td>2022-05-03</td>\n      <td>1</td>\n      <td>NaN</td>\n    </tr>\n    <tr>\n      <th>42852</th>\n      <td>2022-05-03 06:13:16</td>\n      <td>148217.0</td>\n      <td>HEATING</td>\n      <td>682.5</td>\n      <td>3156.0</td>\n      <td>51.1</td>\n      <td>235.2</td>\n      <td>25.0</td>\n      <td>2022-05-03</td>\n      <td>1</td>\n      <td>NaN</td>\n    </tr>\n    <tr>\n      <th>42853</th>\n      <td>2022-05-03 06:14:16</td>\n      <td>148217.0</td>\n      <td>HEATING</td>\n      <td>742.4</td>\n      <td>3174.0</td>\n      <td>51.3</td>\n      <td>227.9</td>\n      <td>24.9</td>\n      <td>2022-05-03</td>\n      <td>1</td>\n      <td>NaN</td>\n    </tr>\n    <tr>\n      <th>42854</th>\n      <td>2022-05-03 06:15:16</td>\n      <td>148217.0</td>\n      <td>HEATING</td>\n      <td>802.2</td>\n      <td>3180.0</td>\n      <td>51.5</td>\n      <td>230.5</td>\n      <td>24.0</td>\n      <td>2022-05-03</td>\n      <td>1</td>\n      <td>NaN</td>\n    </tr>\n    <tr>\n      <th>...</th>\n      <td>...</td>\n      <td>...</td>\n      <td>...</td>\n      <td>...</td>\n      <td>...</td>\n      <td>...</td>\n      <td>...</td>\n      <td>...</td>\n      <td>...</td>\n      <td>...</td>\n      <td>...</td>\n    </tr>\n    <tr>\n      <th>43065</th>\n      <td>2022-05-03 09:46:16</td>\n      <td>148217.0</td>\n      <td>HEATING</td>\n      <td>5400.0</td>\n      <td>3331.0</td>\n      <td>40.6</td>\n      <td>313.7</td>\n      <td>20.0</td>\n      <td>2022-05-03</td>\n      <td>1</td>\n      <td>40.6</td>\n    </tr>\n    <tr>\n      <th>43066</th>\n      <td>2022-05-03 09:47:16</td>\n      <td>148217.0</td>\n      <td>HEATING</td>\n      <td>5400.0</td>\n      <td>3334.0</td>\n      <td>40.6</td>\n      <td>317.4</td>\n      <td>20.0</td>\n      <td>2022-05-03</td>\n      <td>1</td>\n      <td>40.6</td>\n    </tr>\n    <tr>\n      <th>43067</th>\n      <td>2022-05-03 09:48:16</td>\n      <td>148217.0</td>\n      <td>HEATING</td>\n      <td>5400.0</td>\n      <td>3335.0</td>\n      <td>40.6</td>\n      <td>314.7</td>\n      <td>20.0</td>\n      <td>2022-05-03</td>\n      <td>1</td>\n      <td>40.6</td>\n    </tr>\n    <tr>\n      <th>43068</th>\n      <td>2022-05-03 09:49:16</td>\n      <td>148217.0</td>\n      <td>HEATING</td>\n      <td>5400.0</td>\n      <td>3346.0</td>\n      <td>40.6</td>\n      <td>324.7</td>\n      <td>21.0</td>\n      <td>2022-05-03</td>\n      <td>1</td>\n      <td>40.6</td>\n    </tr>\n    <tr>\n      <th>43069</th>\n      <td>2022-05-03 09:50:16</td>\n      <td>148217.0</td>\n      <td>HEATING</td>\n      <td>5400.0</td>\n      <td>3338.0</td>\n      <td>40.6</td>\n      <td>314.8</td>\n      <td>21.0</td>\n      <td>2022-05-03</td>\n      <td>1</td>\n      <td>40.6</td>\n    </tr>\n  </tbody>\n</table>\n<p>220 rows × 11 columns</p>\n</div>"
     },
     "execution_count": 621,
     "metadata": {},
     "output_type": "execute_result"
    }
   ],
   "source": [
    "n = 30  # number of points to be checked before and after\n",
    "\n",
    "# Find local peaks\n",
    "df['max_temp'] = 0\n",
    "df['max_temp'] = df.iloc[argrelextrema(df.head_temp.values, np.greater_equal, order=n)]['head_temp']\n",
    "df.tail(220)"
   ]
  },
  {
   "cell_type": "markdown",
   "source": [],
   "metadata": {
    "collapsed": false
   }
  },
  {
   "cell_type": "code",
   "execution_count": 622,
   "metadata": {
    "pycharm": {
     "name": "#%%\n"
    }
   },
   "outputs": [
    {
     "ename": "IndexError",
     "evalue": "index 13179 is out of bounds for axis 0 with size 13179",
     "output_type": "error",
     "traceback": [
      "\u001B[1;31m---------------------------------------------------------------------------\u001B[0m",
      "\u001B[1;31mIndexError\u001B[0m                                Traceback (most recent call last)",
      "Input \u001B[1;32mIn [622]\u001B[0m, in \u001B[0;36m<cell line: 3>\u001B[1;34m()\u001B[0m\n\u001B[0;32m      5\u001B[0m local_max \u001B[38;5;241m=\u001B[39m df\u001B[38;5;241m.\u001B[39mmax_temp\u001B[38;5;241m.\u001B[39mvalues[i]\n\u001B[0;32m      6\u001B[0m current \u001B[38;5;241m=\u001B[39m df\u001B[38;5;241m.\u001B[39mbatch\u001B[38;5;241m.\u001B[39mvalues[i]\n\u001B[1;32m----> 7\u001B[0m \u001B[38;5;28;01mwhile\u001B[39;00m \u001B[43mdf\u001B[49m\u001B[43m[\u001B[49m\u001B[38;5;124;43m'\u001B[39;49m\u001B[38;5;124;43mbatch\u001B[39;49m\u001B[38;5;124;43m'\u001B[39;49m\u001B[43m]\u001B[49m\u001B[38;5;241;43m.\u001B[39;49m\u001B[43mvalues\u001B[49m\u001B[43m[\u001B[49m\u001B[43mi\u001B[49m\u001B[43m]\u001B[49m \u001B[38;5;241m==\u001B[39m current \u001B[38;5;129;01mand\u001B[39;00m i \u001B[38;5;241m<\u001B[39m \u001B[38;5;28mlen\u001B[39m(df[\u001B[38;5;124m'\u001B[39m\u001B[38;5;124mready\u001B[39m\u001B[38;5;124m'\u001B[39m]\u001B[38;5;241m-\u001B[39m\u001B[38;5;241m1\u001B[39m):\n\u001B[0;32m      8\u001B[0m     \u001B[38;5;28;01mif\u001B[39;00m local_max \u001B[38;5;241m-\u001B[39m df\u001B[38;5;241m.\u001B[39mhead_temp\u001B[38;5;241m.\u001B[39mvalues[i] \u001B[38;5;241m>\u001B[39m delta_t:\n\u001B[0;32m      9\u001B[0m         df\u001B[38;5;241m.\u001B[39mready\u001B[38;5;241m.\u001B[39mvalues[i] \u001B[38;5;241m=\u001B[39m \u001B[38;5;241m1\u001B[39m\n",
      "\u001B[1;31mIndexError\u001B[0m: index 13179 is out of bounds for axis 0 with size 13179"
     ]
    }
   ],
   "source": [
    "df['ready'] = 0\n",
    "delta_t = 2\n",
    "for i in range (1, len(df['ready']-1)):\n",
    "    if df.max_temp.values[i] > 0:\n",
    "        local_max = df.max_temp.values[i]\n",
    "        current = df.batch.values[i]\n",
    "        while df['batch'].values[i] == current and i < len(df['ready']-1):\n",
    "            if local_max - df.head_temp.values[i] > delta_t:\n",
    "                df.ready.values[i] = 1\n",
    "            else:\n",
    "                df.ready.values[i] = 2\n",
    "            i += 1\n",
    "            \n",
    "                \n",
    "df = df.drop(['max_temp'], axis=1)\n",
    "df = df[df['phase'].str.contains ('DRYING|HEATING') == True]"
   ]
  },
  {
   "cell_type": "code",
   "execution_count": null,
   "metadata": {
    "pycharm": {
     "name": "#%%\n"
    },
    "scrolled": true
   },
   "outputs": [
    {
     "data": {
      "text/plain": "                     time    batch   phase  heat_time  weight  head_temp  \\\n58    2022-04-03 11:39:13  24683.0  DRYING        2.0  3374.4       57.6   \n59    2022-04-03 11:40:13  24683.0  DRYING        3.0  3376.8       56.9   \n60    2022-04-03 11:41:13  24683.0  DRYING        4.0  3369.2       56.8   \n61    2022-04-03 11:42:13  24683.0  DRYING        5.0  3371.1       57.1   \n62    2022-04-03 11:43:13  24683.0  DRYING        6.0  3370.2       57.5   \n...                   ...      ...     ...        ...     ...        ...   \n42745 2022-05-03 03:06:13  24781.0  DRYING       46.4  3491.5       43.5   \n42746 2022-05-03 03:07:13  24781.0  DRYING       47.4  3490.1       43.0   \n42747 2022-05-03 03:08:13  24781.0  DRYING       48.4  3485.9       42.5   \n42748 2022-05-03 03:09:13  24781.0  DRYING       49.4  3487.7       42.2   \n42749 2022-05-03 03:10:13  24781.0  DRYING       50.4  3487.3       41.9   \n\n       head_pressure  vac_temp        date  day  ...  head_pressure_35  \\\n58             502.1     21.04  2022-04-03    6  ...             505.3   \n59             503.2     21.18  2022-04-03    6  ...             507.5   \n60             508.8     21.24  2022-04-03    6  ...             514.5   \n61             512.7     21.26  2022-04-03    6  ...             527.8   \n62             521.9     21.28  2022-04-03    6  ...             533.4   \n...              ...       ...         ...  ...  ...               ...   \n42745          460.7     28.98  2022-05-03    1  ...             548.0   \n42746          464.8     28.82  2022-05-03    1  ...             725.7   \n42747          468.9     28.68  2022-05-03    1  ...             761.5   \n42748          475.2     28.57  2022-05-03    1  ...             761.6   \n42749          482.1     28.43  2022-05-03    1  ...             761.6   \n\n       head_temp_35  weight_35  heat_time_35  vac_temp_35  head_pressure_40  \\\n58             61.1     3373.5          21.2        21.18             548.6   \n59             61.1     3372.8          21.2        21.16             536.4   \n60             61.1     3374.8          21.2        21.16             487.2   \n61             61.1     3376.7          21.2        21.17             489.1   \n62             61.1     3375.6          21.2        21.17             493.7   \n...             ...        ...           ...          ...               ...   \n42745          47.3     3469.7           0.0        25.16             761.4   \n42746          46.8     3499.2           0.0        25.04             761.0   \n42747          45.7     3498.0           0.0        24.83             760.8   \n42748          44.6     3495.2           0.0        24.64             760.5   \n42749          43.4     3493.5           0.0        24.64             760.2   \n\n       head_temp_40  weight_40  heat_time_40  vac_temp_40  \n58             61.1     3373.9          21.2        21.17  \n59             61.1     3377.2          21.2        21.19  \n60             61.1     3377.9          21.2        21.19  \n61             61.1     3377.7          21.2        21.18  \n62             61.1     3383.3          21.2        21.19  \n...             ...        ...           ...          ...  \n42745          42.3     3489.9           0.0        25.13  \n42746          41.3     3488.8           0.0        25.96  \n42747          40.4     3485.7           0.0        26.30  \n42748          39.5     3473.8           0.0        26.36  \n42749          38.7     3470.9           0.0        26.31  \n\n[22382 rows x 31 columns]",
      "text/html": "<div>\n<style scoped>\n    .dataframe tbody tr th:only-of-type {\n        vertical-align: middle;\n    }\n\n    .dataframe tbody tr th {\n        vertical-align: top;\n    }\n\n    .dataframe thead th {\n        text-align: right;\n    }\n</style>\n<table border=\"1\" class=\"dataframe\">\n  <thead>\n    <tr style=\"text-align: right;\">\n      <th></th>\n      <th>time</th>\n      <th>batch</th>\n      <th>phase</th>\n      <th>heat_time</th>\n      <th>weight</th>\n      <th>head_temp</th>\n      <th>head_pressure</th>\n      <th>vac_temp</th>\n      <th>date</th>\n      <th>day</th>\n      <th>...</th>\n      <th>head_pressure_35</th>\n      <th>head_temp_35</th>\n      <th>weight_35</th>\n      <th>heat_time_35</th>\n      <th>vac_temp_35</th>\n      <th>head_pressure_40</th>\n      <th>head_temp_40</th>\n      <th>weight_40</th>\n      <th>heat_time_40</th>\n      <th>vac_temp_40</th>\n    </tr>\n  </thead>\n  <tbody>\n    <tr>\n      <th>58</th>\n      <td>2022-04-03 11:39:13</td>\n      <td>24683.0</td>\n      <td>DRYING</td>\n      <td>2.0</td>\n      <td>3374.4</td>\n      <td>57.6</td>\n      <td>502.1</td>\n      <td>21.04</td>\n      <td>2022-04-03</td>\n      <td>6</td>\n      <td>...</td>\n      <td>505.3</td>\n      <td>61.1</td>\n      <td>3373.5</td>\n      <td>21.2</td>\n      <td>21.18</td>\n      <td>548.6</td>\n      <td>61.1</td>\n      <td>3373.9</td>\n      <td>21.2</td>\n      <td>21.17</td>\n    </tr>\n    <tr>\n      <th>59</th>\n      <td>2022-04-03 11:40:13</td>\n      <td>24683.0</td>\n      <td>DRYING</td>\n      <td>3.0</td>\n      <td>3376.8</td>\n      <td>56.9</td>\n      <td>503.2</td>\n      <td>21.18</td>\n      <td>2022-04-03</td>\n      <td>6</td>\n      <td>...</td>\n      <td>507.5</td>\n      <td>61.1</td>\n      <td>3372.8</td>\n      <td>21.2</td>\n      <td>21.16</td>\n      <td>536.4</td>\n      <td>61.1</td>\n      <td>3377.2</td>\n      <td>21.2</td>\n      <td>21.19</td>\n    </tr>\n    <tr>\n      <th>60</th>\n      <td>2022-04-03 11:41:13</td>\n      <td>24683.0</td>\n      <td>DRYING</td>\n      <td>4.0</td>\n      <td>3369.2</td>\n      <td>56.8</td>\n      <td>508.8</td>\n      <td>21.24</td>\n      <td>2022-04-03</td>\n      <td>6</td>\n      <td>...</td>\n      <td>514.5</td>\n      <td>61.1</td>\n      <td>3374.8</td>\n      <td>21.2</td>\n      <td>21.16</td>\n      <td>487.2</td>\n      <td>61.1</td>\n      <td>3377.9</td>\n      <td>21.2</td>\n      <td>21.19</td>\n    </tr>\n    <tr>\n      <th>61</th>\n      <td>2022-04-03 11:42:13</td>\n      <td>24683.0</td>\n      <td>DRYING</td>\n      <td>5.0</td>\n      <td>3371.1</td>\n      <td>57.1</td>\n      <td>512.7</td>\n      <td>21.26</td>\n      <td>2022-04-03</td>\n      <td>6</td>\n      <td>...</td>\n      <td>527.8</td>\n      <td>61.1</td>\n      <td>3376.7</td>\n      <td>21.2</td>\n      <td>21.17</td>\n      <td>489.1</td>\n      <td>61.1</td>\n      <td>3377.7</td>\n      <td>21.2</td>\n      <td>21.18</td>\n    </tr>\n    <tr>\n      <th>62</th>\n      <td>2022-04-03 11:43:13</td>\n      <td>24683.0</td>\n      <td>DRYING</td>\n      <td>6.0</td>\n      <td>3370.2</td>\n      <td>57.5</td>\n      <td>521.9</td>\n      <td>21.28</td>\n      <td>2022-04-03</td>\n      <td>6</td>\n      <td>...</td>\n      <td>533.4</td>\n      <td>61.1</td>\n      <td>3375.6</td>\n      <td>21.2</td>\n      <td>21.17</td>\n      <td>493.7</td>\n      <td>61.1</td>\n      <td>3383.3</td>\n      <td>21.2</td>\n      <td>21.19</td>\n    </tr>\n    <tr>\n      <th>...</th>\n      <td>...</td>\n      <td>...</td>\n      <td>...</td>\n      <td>...</td>\n      <td>...</td>\n      <td>...</td>\n      <td>...</td>\n      <td>...</td>\n      <td>...</td>\n      <td>...</td>\n      <td>...</td>\n      <td>...</td>\n      <td>...</td>\n      <td>...</td>\n      <td>...</td>\n      <td>...</td>\n      <td>...</td>\n      <td>...</td>\n      <td>...</td>\n      <td>...</td>\n      <td>...</td>\n    </tr>\n    <tr>\n      <th>42745</th>\n      <td>2022-05-03 03:06:13</td>\n      <td>24781.0</td>\n      <td>DRYING</td>\n      <td>46.4</td>\n      <td>3491.5</td>\n      <td>43.5</td>\n      <td>460.7</td>\n      <td>28.98</td>\n      <td>2022-05-03</td>\n      <td>1</td>\n      <td>...</td>\n      <td>548.0</td>\n      <td>47.3</td>\n      <td>3469.7</td>\n      <td>0.0</td>\n      <td>25.16</td>\n      <td>761.4</td>\n      <td>42.3</td>\n      <td>3489.9</td>\n      <td>0.0</td>\n      <td>25.13</td>\n    </tr>\n    <tr>\n      <th>42746</th>\n      <td>2022-05-03 03:07:13</td>\n      <td>24781.0</td>\n      <td>DRYING</td>\n      <td>47.4</td>\n      <td>3490.1</td>\n      <td>43.0</td>\n      <td>464.8</td>\n      <td>28.82</td>\n      <td>2022-05-03</td>\n      <td>1</td>\n      <td>...</td>\n      <td>725.7</td>\n      <td>46.8</td>\n      <td>3499.2</td>\n      <td>0.0</td>\n      <td>25.04</td>\n      <td>761.0</td>\n      <td>41.3</td>\n      <td>3488.8</td>\n      <td>0.0</td>\n      <td>25.96</td>\n    </tr>\n    <tr>\n      <th>42747</th>\n      <td>2022-05-03 03:08:13</td>\n      <td>24781.0</td>\n      <td>DRYING</td>\n      <td>48.4</td>\n      <td>3485.9</td>\n      <td>42.5</td>\n      <td>468.9</td>\n      <td>28.68</td>\n      <td>2022-05-03</td>\n      <td>1</td>\n      <td>...</td>\n      <td>761.5</td>\n      <td>45.7</td>\n      <td>3498.0</td>\n      <td>0.0</td>\n      <td>24.83</td>\n      <td>760.8</td>\n      <td>40.4</td>\n      <td>3485.7</td>\n      <td>0.0</td>\n      <td>26.30</td>\n    </tr>\n    <tr>\n      <th>42748</th>\n      <td>2022-05-03 03:09:13</td>\n      <td>24781.0</td>\n      <td>DRYING</td>\n      <td>49.4</td>\n      <td>3487.7</td>\n      <td>42.2</td>\n      <td>475.2</td>\n      <td>28.57</td>\n      <td>2022-05-03</td>\n      <td>1</td>\n      <td>...</td>\n      <td>761.6</td>\n      <td>44.6</td>\n      <td>3495.2</td>\n      <td>0.0</td>\n      <td>24.64</td>\n      <td>760.5</td>\n      <td>39.5</td>\n      <td>3473.8</td>\n      <td>0.0</td>\n      <td>26.36</td>\n    </tr>\n    <tr>\n      <th>42749</th>\n      <td>2022-05-03 03:10:13</td>\n      <td>24781.0</td>\n      <td>DRYING</td>\n      <td>50.4</td>\n      <td>3487.3</td>\n      <td>41.9</td>\n      <td>482.1</td>\n      <td>28.43</td>\n      <td>2022-05-03</td>\n      <td>1</td>\n      <td>...</td>\n      <td>761.6</td>\n      <td>43.4</td>\n      <td>3493.5</td>\n      <td>0.0</td>\n      <td>24.64</td>\n      <td>760.2</td>\n      <td>38.7</td>\n      <td>3470.9</td>\n      <td>0.0</td>\n      <td>26.31</td>\n    </tr>\n  </tbody>\n</table>\n<p>22382 rows × 31 columns</p>\n</div>"
     },
     "execution_count": 593,
     "metadata": {},
     "output_type": "execute_result"
    }
   ],
   "source": [
    "df['head_pressure_20'] = df['head_pressure'].shift(-20)\n",
    "df['head_temp_20'] = df['head_temp'].shift(-20)\n",
    "df['weight_20'] = df['weight'].shift(-20)\n",
    "df['heat_time_20'] = df['heat_time'].shift(-20)\n",
    "df['vac_temp_20'] = df['vac_temp'].shift(-20)\n",
    "\n",
    "df['head_pressure_30'] = df['head_pressure'].shift(-30)\n",
    "df['head_temp_30'] = df['head_temp'].shift(-30)\n",
    "df['weight_30'] = df['weight'].shift(-30)\n",
    "df['heat_time_30'] = df['heat_time'].shift(-30)\n",
    "df['vac_temp_30'] = df['vac_temp'].shift(-30)\n",
    "\n",
    "df['head_pressure_35'] = df['head_pressure'].shift(-35)\n",
    "df['head_temp_35'] = df['head_temp'].shift(-35)\n",
    "df['weight_35'] = df['weight'].shift(-35)\n",
    "df['heat_time_35'] = df['heat_time'].shift(-35)\n",
    "df['vac_temp_35'] = df['vac_temp'].shift(-35)\n",
    "\n",
    "df['head_pressure_40'] = df['head_pressure'].shift(-40)\n",
    "df['head_temp_40'] = df['head_temp'].shift(-40)\n",
    "df['weight_40'] = df['weight'].shift(-40)\n",
    "df['heat_time_40'] = df['heat_time'].shift(-40)\n",
    "df['vac_temp_40'] = df['vac_temp'].shift(-40)\n",
    "df.dropna(inplace=True)\n",
    "df\n"
   ]
  },
  {
   "cell_type": "code",
   "execution_count": null,
   "metadata": {
    "pycharm": {
     "name": "#%%\n"
    }
   },
   "outputs": [],
   "source": [
    "# def load_query(path):\n",
    "#     with open(path) as file:\n",
    "#         return file.read()"
   ]
  },
  {
   "cell_type": "code",
   "execution_count": null,
   "metadata": {
    "pycharm": {
     "name": "#%%\n"
    }
   },
   "outputs": [],
   "source": [
    "# query = load_query('queries/daily_cycles.sql')\n",
    "# daily_cycles = pysqldf(query)"
   ]
  },
  {
   "cell_type": "code",
   "execution_count": null,
   "metadata": {
    "pycharm": {
     "name": "#%%\n"
    }
   },
   "outputs": [],
   "source": [
    "# daily_cycles.sample(4)"
   ]
  },
  {
   "cell_type": "code",
   "execution_count": null,
   "metadata": {
    "pycharm": {
     "name": "#%%\n"
    }
   },
   "outputs": [],
   "source": [
    "# daily_cycles.describe()"
   ]
  },
  {
   "cell_type": "code",
   "execution_count": null,
   "metadata": {
    "pycharm": {
     "name": "#%%\n"
    }
   },
   "outputs": [],
   "source": [
    "import logging\n",
    "logging.getLogger().setLevel(logging.CRITICAL)"
   ]
  },
  {
   "cell_type": "code",
   "execution_count": null,
   "metadata": {
    "pycharm": {
     "name": "#%%\n"
    }
   },
   "outputs": [],
   "source": [
    "# plt.rcParams.update({'figure.figsize': (17, 3), 'figure.dpi': 300})\n",
    "# fig, ax = plt.subplots()\n",
    "# sns.lineplot(data=daily_cycles.tail(50), x='DATE', y='num_cycles')\n",
    "# plt.grid(linestyle='-', linewidth=0.3)\n",
    "# ax.tick_params(axis='x', rotation=90)"
   ]
  },
  {
   "cell_type": "code",
   "execution_count": null,
   "metadata": {
    "pycharm": {
     "name": "#%%\n"
    }
   },
   "outputs": [],
   "source": [
    "# query = load_query('queries/weekly_cycles.sql')\n",
    "# weekly_cycles = pysqldf(query)"
   ]
  },
  {
   "cell_type": "code",
   "execution_count": null,
   "metadata": {
    "pycharm": {
     "name": "#%%\n"
    }
   },
   "outputs": [],
   "source": [
    "# weekly_cycles.tail()"
   ]
  },
  {
   "cell_type": "code",
   "execution_count": null,
   "metadata": {
    "pycharm": {
     "name": "#%%\n"
    }
   },
   "outputs": [],
   "source": [
    "# plt.rcParams.update({'figure.figsize': (17, 3), 'figure.dpi': 300})\n",
    "# fig, ax = plt.subplots()\n",
    "# sns.lineplot(data=weekly_cycles.tail(50), x='week', y='num_cycles')\n",
    "# plt.grid(linestyle='-', linewidth=0.3)\n",
    "# ax.tick_params(axis='x', rotation=90)"
   ]
  },
  {
   "cell_type": "code",
   "execution_count": null,
   "outputs": [],
   "source": [
    "df = df[df['ready'] < 2]"
   ],
   "metadata": {
    "collapsed": false,
    "pycharm": {
     "name": "#%%\n"
    }
   }
  },
  {
   "cell_type": "code",
   "execution_count": null,
   "metadata": {
    "pycharm": {
     "name": "#%%\n"
    }
   },
   "outputs": [],
   "source": [
    "features = [\n",
    "            # 'heat_time', 'weight', 'head_temp', 'head_pressure', 'vac_temp',\n",
    "            # 'heat_time_20', 'weight_20', 'head_temp_20', 'head_pressure_20', 'vac_temp_20',\n",
    "            # 'heat_time_30', 'weight_30', 'head_temp_30', 'head_pressure_30', 'vac_temp_30',\n",
    "            'heat_time_35', 'weight_35', 'head_temp_35', 'head_pressure_35', 'vac_temp_35',\n",
    "            'heat_time_40', 'weight_40', 'head_temp_40', 'head_pressure_40', 'vac_temp_40'\n",
    "            ]\n",
    "label = ['ready']\n",
    "train_df = df.head(int(df.shape[0]*.75))\n",
    "test_df = df.tail(int(df.shape[0]*0.25))\n",
    "\n",
    "\n",
    "X_train, y_train = train_df[features], train_df[label]\n",
    "X_test, y_test = test_df[features], test_df[label]\n"
   ]
  },
  {
   "cell_type": "code",
   "execution_count": null,
   "metadata": {
    "pycharm": {
     "name": "#%%\n"
    }
   },
   "outputs": [],
   "source": [
    "clf_xgb = xgb.XGBClassifier(objective='binary:logistic',\n",
    "                            # gamma=0.25,\n",
    "                            max_depth=8,\n",
    "                            seed=42)"
   ]
  },
  {
   "cell_type": "code",
   "execution_count": null,
   "metadata": {
    "pycharm": {
     "name": "#%%\n"
    }
   },
   "outputs": [
    {
     "name": "stdout",
     "output_type": "stream",
     "text": [
      "[0]\tvalidation_0-aucpr:0.99768\tvalidation_1-aucpr:0.95493\n",
      "[1]\tvalidation_0-aucpr:0.99856\tvalidation_1-aucpr:0.95542\n",
      "[2]\tvalidation_0-aucpr:0.99987\tvalidation_1-aucpr:0.98637\n",
      "[3]\tvalidation_0-aucpr:0.99989\tvalidation_1-aucpr:0.98638\n",
      "[4]\tvalidation_0-aucpr:0.99998\tvalidation_1-aucpr:0.98558\n"
     ]
    },
    {
     "name": "stderr",
     "output_type": "stream",
     "text": [
      "C:\\Users\\lbushman\\.virtualenvs\\drayers-ZSJxV8Z-\\lib\\site-packages\\xgboost\\sklearn.py:1224: UserWarning: The use of label encoder in XGBClassifier is deprecated and will be removed in a future release. To remove this warning, do the following: 1) Pass option use_label_encoder=False when constructing XGBClassifier object; and 2) Encode your labels (y) as integers starting with 0, i.e. 0, 1, 2, ..., [num_class - 1].\n",
      "  warnings.warn(label_encoder_deprecation_msg, UserWarning)\n",
      "C:\\Users\\lbushman\\.virtualenvs\\drayers-ZSJxV8Z-\\lib\\site-packages\\sklearn\\preprocessing\\_label.py:98: DataConversionWarning: A column-vector y was passed when a 1d array was expected. Please change the shape of y to (n_samples, ), for example using ravel().\n",
      "  y = column_or_1d(y, warn=True)\n",
      "C:\\Users\\lbushman\\.virtualenvs\\drayers-ZSJxV8Z-\\lib\\site-packages\\sklearn\\preprocessing\\_label.py:133: DataConversionWarning: A column-vector y was passed when a 1d array was expected. Please change the shape of y to (n_samples, ), for example using ravel().\n",
      "  y = column_or_1d(y, warn=True)\n",
      "C:\\Users\\lbushman\\.virtualenvs\\drayers-ZSJxV8Z-\\lib\\site-packages\\xgboost\\data.py:262: FutureWarning: pandas.Int64Index is deprecated and will be removed from pandas in a future version. Use pandas.Index with the appropriate dtype instead.\n",
      "  elif isinstance(data.columns, (pd.Int64Index, pd.RangeIndex)):\n"
     ]
    },
    {
     "name": "stdout",
     "output_type": "stream",
     "text": [
      "[5]\tvalidation_0-aucpr:0.99999\tvalidation_1-aucpr:0.98532\n",
      "[6]\tvalidation_0-aucpr:0.99999\tvalidation_1-aucpr:0.98777\n",
      "[7]\tvalidation_0-aucpr:1.00000\tvalidation_1-aucpr:0.98859\n",
      "[8]\tvalidation_0-aucpr:1.00000\tvalidation_1-aucpr:0.99069\n",
      "[9]\tvalidation_0-aucpr:1.00000\tvalidation_1-aucpr:0.99103\n",
      "[10]\tvalidation_0-aucpr:1.00000\tvalidation_1-aucpr:0.99098\n",
      "[11]\tvalidation_0-aucpr:1.00000\tvalidation_1-aucpr:0.99029\n",
      "[12]\tvalidation_0-aucpr:1.00000\tvalidation_1-aucpr:0.98998\n",
      "[13]\tvalidation_0-aucpr:1.00000\tvalidation_1-aucpr:0.98962\n",
      "[14]\tvalidation_0-aucpr:1.00000\tvalidation_1-aucpr:0.98955\n",
      "[15]\tvalidation_0-aucpr:1.00000\tvalidation_1-aucpr:0.98935\n",
      "[16]\tvalidation_0-aucpr:1.00000\tvalidation_1-aucpr:0.98934\n",
      "[17]\tvalidation_0-aucpr:1.00000\tvalidation_1-aucpr:0.98944\n",
      "[18]\tvalidation_0-aucpr:1.00000\tvalidation_1-aucpr:0.98973\n"
     ]
    },
    {
     "data": {
      "text/plain": "XGBClassifier(base_score=0.5, booster='gbtree', colsample_bylevel=1,\n              colsample_bynode=1, colsample_bytree=1, enable_categorical=False,\n              gamma=0, gpu_id=-1, importance_type=None,\n              interaction_constraints='', learning_rate=0.300000012,\n              max_delta_step=0, max_depth=8, min_child_weight=1, missing=nan,\n              monotone_constraints='()', n_estimators=100, n_jobs=8,\n              num_parallel_tree=1, predictor='auto', random_state=42,\n              reg_alpha=0, reg_lambda=1, scale_pos_weight=1, seed=42,\n              subsample=1, tree_method='exact', validate_parameters=1,\n              verbosity=None)"
     },
     "execution_count": 606,
     "metadata": {},
     "output_type": "execute_result"
    }
   ],
   "source": [
    "clf_xgb.fit(X_train,\n",
    "            y_train,\n",
    "            verbose=True,\n",
    "            early_stopping_rounds=10,\n",
    "            eval_metric='aucpr',\n",
    "            eval_set=[(X_train, y_train),(X_test, y_test)])"
   ]
  },
  {
   "cell_type": "code",
   "execution_count": null,
   "metadata": {},
   "outputs": [
    {
     "data": {
      "text/plain": "<AxesSubplot:>"
     },
     "execution_count": 607,
     "metadata": {},
     "output_type": "execute_result"
    },
    {
     "data": {
      "text/plain": "<Figure size 432x288 with 2 Axes>",
      "image/png": "[encoded data removed]"
     },
     "metadata": {
      "needs_background": "light"
     },
     "output_type": "display_data"
    }
   ],
   "source": [
    "from sklearn.metrics import confusion_matrix\n",
    "import seaborn as sns\n",
    "\n",
    "pred = clf_xgb.predict_proba(X_test)[:,1]\n",
    "thr=0.7\n",
    "sns.heatmap(confusion_matrix(y_test,pred>thr),annot=True,fmt='', cmap='Blues')"
   ]
  },
  {
   "cell_type": "code",
   "execution_count": null,
   "metadata": {},
   "outputs": [
    {
     "data": {
      "text/plain": "[<matplotlib.lines.Line2D at 0x1a5d59042e0>]"
     },
     "execution_count": 608,
     "metadata": {},
     "output_type": "execute_result"
    },
    {
     "data": {
      "text/plain": "<Figure size 432x288 with 1 Axes>",
      "image/png": "[encoded data removed]"
     },
     "metadata": {
      "needs_background": "light"
     },
     "output_type": "display_data"
    }
   ],
   "source": [
    "plt.plot(pd.Series(pred[-1000:]))"
   ]
  },
  {
   "cell_type": "code",
   "execution_count": null,
   "metadata": {
    "pycharm": {
     "name": "#%%\n"
    }
   },
   "outputs": [
    {
     "name": "stderr",
     "output_type": "stream",
     "text": [
      "C:\\Users\\lbushman\\.virtualenvs\\drayers-ZSJxV8Z-\\lib\\site-packages\\sklearn\\utils\\deprecation.py:87: FutureWarning: Function plot_confusion_matrix is deprecated; Function `plot_confusion_matrix` is deprecated in 1.0 and will be removed in 1.2. Use one of the class methods: ConfusionMatrixDisplay.from_predictions or ConfusionMatrixDisplay.from_estimator.\n",
      "  warnings.warn(msg, category=FutureWarning)\n",
      "C:\\Users\\lbushman\\.virtualenvs\\drayers-ZSJxV8Z-\\lib\\site-packages\\xgboost\\data.py:262: FutureWarning: pandas.Int64Index is deprecated and will be removed from pandas in a future version. Use pandas.Index with the appropriate dtype instead.\n",
      "  elif isinstance(data.columns, (pd.Int64Index, pd.RangeIndex)):\n"
     ]
    },
    {
     "data": {
      "text/plain": "<sklearn.metrics._plot.confusion_matrix.ConfusionMatrixDisplay at 0x1a5cfc2d870>"
     },
     "execution_count": 609,
     "metadata": {},
     "output_type": "execute_result"
    },
    {
     "data": {
      "text/plain": "<Figure size 432x288 with 2 Axes>",
      "image/png": "[encoded data removed]"
     },
     "metadata": {
      "needs_background": "light"
     },
     "output_type": "display_data"
    }
   ],
   "source": [
    "plot_confusion_matrix(clf_xgb,\n",
    "                      X_test,\n",
    "                      y_test,\n",
    "                      cmap='Blues',\n",
    "                      display_labels=['Ready', 'Not Ready'])"
   ]
  },
  {
   "cell_type": "code",
   "execution_count": null,
   "metadata": {
    "pycharm": {
     "name": "#%%\n"
    }
   },
   "outputs": [
    {
     "name": "stdout",
     "output_type": "stream",
     "text": [
      "weight:  {'heat_time_35': 166.0, 'weight_35': 112.0, 'head_temp_35': 98.0, 'head_pressure_35': 47.0, 'vac_temp_35': 109.0, 'heat_time_40': 66.0, 'weight_40': 90.0, 'head_temp_40': 60.0, 'head_pressure_40': 43.0, 'vac_temp_40': 76.0}\n",
      "gain:  {'heat_time_35': 24.37181282043457, 'weight_35': 15.641122817993164, 'head_temp_35': 16.76522445678711, 'head_pressure_35': 4.9731245040893555, 'vac_temp_35': 5.527787685394287, 'heat_time_40': 18.74306869506836, 'weight_40': 6.882120132446289, 'head_temp_40': 2.819047689437866, 'head_pressure_40': 2.9372811317443848, 'vac_temp_40': 10.170323371887207}\n",
      "cover:  {'heat_time_35': 67.55308532714844, 'weight_35': 243.2625732421875, 'head_temp_35': 263.6531066894531, 'head_pressure_35': 46.099178314208984, 'vac_temp_35': 29.056045532226562, 'heat_time_40': 69.02651977539062, 'weight_40': 53.05203628540039, 'head_temp_40': 69.66654968261719, 'head_pressure_40': 31.348400115966797, 'vac_temp_40': 29.90410804748535}\n",
      "total_gain:  {'heat_time_35': 4045.720947265625, 'weight_35': 1751.8057861328125, 'head_temp_35': 1642.9920654296875, 'head_pressure_35': 233.73684692382812, 'vac_temp_35': 602.5288696289062, 'heat_time_40': 1237.04248046875, 'weight_40': 619.3908081054688, 'head_temp_40': 169.1428680419922, 'head_pressure_40': 126.30309295654297, 'vac_temp_40': 772.944580078125}\n",
      "total_cover:  {'heat_time_35': 11213.8125, 'weight_35': 27245.408203125, 'head_temp_35': 25838.005859375, 'head_pressure_35': 2166.661376953125, 'vac_temp_35': 3167.10888671875, 'heat_time_40': 4555.75048828125, 'weight_40': 4774.68310546875, 'head_temp_40': 4179.9931640625, 'head_pressure_40': 1347.981201171875, 'vac_temp_40': 2272.712158203125}\n"
     ]
    }
   ],
   "source": [
    "bst = clf_xgb.get_booster()\n",
    "for importance_type in ('weight','gain', 'cover', 'total_gain','total_cover'):\n",
    "    print('%s: ' % importance_type, bst.get_score(importance_type=importance_type))"
   ]
  },
  {
   "cell_type": "code",
   "execution_count": null,
   "outputs": [
    {
     "name": "stderr",
     "output_type": "stream",
     "text": [
      "C:\\Users\\lbushman\\.virtualenvs\\drayers-ZSJxV8Z-\\lib\\site-packages\\xgboost\\data.py:262: FutureWarning: pandas.Int64Index is deprecated and will be removed from pandas in a future version. Use pandas.Index with the appropriate dtype instead.\n",
      "  elif isinstance(data.columns, (pd.Int64Index, pd.RangeIndex)):\n"
     ]
    },
    {
     "data": {
      "text/plain": "0.9453933124849652"
     },
     "execution_count": 611,
     "metadata": {},
     "output_type": "execute_result"
    }
   ],
   "source": [
    " from sklearn.metrics import accuracy_score\n",
    "\n",
    "accuracy_score(y_true=y_test, y_pred=clf_xgb.predict_proba(X_test)[:,1]>0.5, normalize=True)"
   ],
   "metadata": {
    "collapsed": false,
    "pycharm": {
     "name": "#%%\n"
    }
   }
  },
  {
   "cell_type": "code",
   "execution_count": null,
   "outputs": [
    {
     "name": "stdout",
     "output_type": "stream",
     "text": [
      "              precision    recall  f1-score   support\n",
      "\n",
      "       ready       0.85      0.54      0.66       412\n",
      "     not yet       0.95      0.99      0.97      3745\n",
      "\n",
      "    accuracy                           0.95      4157\n",
      "   macro avg       0.90      0.77      0.82      4157\n",
      "weighted avg       0.94      0.95      0.94      4157\n",
      "\n"
     ]
    },
    {
     "name": "stderr",
     "output_type": "stream",
     "text": [
      "C:\\Users\\lbushman\\.virtualenvs\\drayers-ZSJxV8Z-\\lib\\site-packages\\xgboost\\data.py:262: FutureWarning: pandas.Int64Index is deprecated and will be removed from pandas in a future version. Use pandas.Index with the appropriate dtype instead.\n",
      "  elif isinstance(data.columns, (pd.Int64Index, pd.RangeIndex)):\n"
     ]
    }
   ],
   "source": [
    "from sklearn.metrics import classification_report\n",
    "\n",
    "print(classification_report(y_true=y_test, y_pred=clf_xgb.predict_proba(X_test)[:,1]>0.5, target_names=['ready', 'not yet']))"
   ],
   "metadata": {
    "collapsed": false,
    "pycharm": {
     "name": "#%%\n"
    }
   }
  },
  {
   "cell_type": "code",
   "execution_count": null,
   "outputs": [
    {
     "ename": "ExecutableNotFound",
     "evalue": "failed to execute WindowsPath('dot'), make sure the Graphviz executables are on your systems' PATH",
     "output_type": "error",
     "traceback": [
      "\u001B[1;31m---------------------------------------------------------------------------\u001B[0m",
      "\u001B[1;31mFileNotFoundError\u001B[0m                         Traceback (most recent call last)",
      "File \u001B[1;32m~\\.virtualenvs\\drayers-ZSJxV8Z-\\lib\\site-packages\\graphviz\\backend\\execute.py:83\u001B[0m, in \u001B[0;36mrun_check\u001B[1;34m(cmd, input_lines, encoding, capture_output, quiet, **kwargs)\u001B[0m\n\u001B[0;32m     82\u001B[0m     \u001B[38;5;28;01massert\u001B[39;00m \u001B[38;5;28miter\u001B[39m(input_lines) \u001B[38;5;129;01mis\u001B[39;00m input_lines\n\u001B[1;32m---> 83\u001B[0m     proc \u001B[38;5;241m=\u001B[39m \u001B[43m_run_input_lines\u001B[49m\u001B[43m(\u001B[49m\u001B[43mcmd\u001B[49m\u001B[43m,\u001B[49m\u001B[43m \u001B[49m\u001B[43minput_lines\u001B[49m\u001B[43m,\u001B[49m\u001B[43m \u001B[49m\u001B[43mkwargs\u001B[49m\u001B[38;5;241;43m=\u001B[39;49m\u001B[43mkwargs\u001B[49m\u001B[43m)\u001B[49m\n\u001B[0;32m     84\u001B[0m \u001B[38;5;28;01melse\u001B[39;00m:\n",
      "File \u001B[1;32m~\\.virtualenvs\\drayers-ZSJxV8Z-\\lib\\site-packages\\graphviz\\backend\\execute.py:103\u001B[0m, in \u001B[0;36m_run_input_lines\u001B[1;34m(cmd, input_lines, kwargs)\u001B[0m\n\u001B[0;32m    102\u001B[0m \u001B[38;5;28;01mdef\u001B[39;00m \u001B[38;5;21m_run_input_lines\u001B[39m(cmd, input_lines, \u001B[38;5;241m*\u001B[39m, kwargs):\n\u001B[1;32m--> 103\u001B[0m     popen \u001B[38;5;241m=\u001B[39m subprocess\u001B[38;5;241m.\u001B[39mPopen(cmd, stdin\u001B[38;5;241m=\u001B[39msubprocess\u001B[38;5;241m.\u001B[39mPIPE, \u001B[38;5;241m*\u001B[39m\u001B[38;5;241m*\u001B[39mkwargs)\n\u001B[0;32m    105\u001B[0m     stdin_write \u001B[38;5;241m=\u001B[39m popen\u001B[38;5;241m.\u001B[39mstdin\u001B[38;5;241m.\u001B[39mwrite\n",
      "File \u001B[1;32m~\\AppData\\Local\\Programs\\Python\\Python310\\lib\\subprocess.py:966\u001B[0m, in \u001B[0;36mPopen.__init__\u001B[1;34m(self, args, bufsize, executable, stdin, stdout, stderr, preexec_fn, close_fds, shell, cwd, env, universal_newlines, startupinfo, creationflags, restore_signals, start_new_session, pass_fds, user, group, extra_groups, encoding, errors, text, umask, pipesize)\u001B[0m\n\u001B[0;32m    963\u001B[0m             \u001B[38;5;28mself\u001B[39m\u001B[38;5;241m.\u001B[39mstderr \u001B[38;5;241m=\u001B[39m io\u001B[38;5;241m.\u001B[39mTextIOWrapper(\u001B[38;5;28mself\u001B[39m\u001B[38;5;241m.\u001B[39mstderr,\n\u001B[0;32m    964\u001B[0m                     encoding\u001B[38;5;241m=\u001B[39mencoding, errors\u001B[38;5;241m=\u001B[39merrors)\n\u001B[1;32m--> 966\u001B[0m     \u001B[38;5;28;43mself\u001B[39;49m\u001B[38;5;241;43m.\u001B[39;49m\u001B[43m_execute_child\u001B[49m\u001B[43m(\u001B[49m\u001B[43margs\u001B[49m\u001B[43m,\u001B[49m\u001B[43m \u001B[49m\u001B[43mexecutable\u001B[49m\u001B[43m,\u001B[49m\u001B[43m \u001B[49m\u001B[43mpreexec_fn\u001B[49m\u001B[43m,\u001B[49m\u001B[43m \u001B[49m\u001B[43mclose_fds\u001B[49m\u001B[43m,\u001B[49m\n\u001B[0;32m    967\u001B[0m \u001B[43m                        \u001B[49m\u001B[43mpass_fds\u001B[49m\u001B[43m,\u001B[49m\u001B[43m \u001B[49m\u001B[43mcwd\u001B[49m\u001B[43m,\u001B[49m\u001B[43m \u001B[49m\u001B[43menv\u001B[49m\u001B[43m,\u001B[49m\n\u001B[0;32m    968\u001B[0m \u001B[43m                        \u001B[49m\u001B[43mstartupinfo\u001B[49m\u001B[43m,\u001B[49m\u001B[43m \u001B[49m\u001B[43mcreationflags\u001B[49m\u001B[43m,\u001B[49m\u001B[43m \u001B[49m\u001B[43mshell\u001B[49m\u001B[43m,\u001B[49m\n\u001B[0;32m    969\u001B[0m \u001B[43m                        \u001B[49m\u001B[43mp2cread\u001B[49m\u001B[43m,\u001B[49m\u001B[43m \u001B[49m\u001B[43mp2cwrite\u001B[49m\u001B[43m,\u001B[49m\n\u001B[0;32m    970\u001B[0m \u001B[43m                        \u001B[49m\u001B[43mc2pread\u001B[49m\u001B[43m,\u001B[49m\u001B[43m \u001B[49m\u001B[43mc2pwrite\u001B[49m\u001B[43m,\u001B[49m\n\u001B[0;32m    971\u001B[0m \u001B[43m                        \u001B[49m\u001B[43merrread\u001B[49m\u001B[43m,\u001B[49m\u001B[43m \u001B[49m\u001B[43merrwrite\u001B[49m\u001B[43m,\u001B[49m\n\u001B[0;32m    972\u001B[0m \u001B[43m                        \u001B[49m\u001B[43mrestore_signals\u001B[49m\u001B[43m,\u001B[49m\n\u001B[0;32m    973\u001B[0m \u001B[43m                        \u001B[49m\u001B[43mgid\u001B[49m\u001B[43m,\u001B[49m\u001B[43m \u001B[49m\u001B[43mgids\u001B[49m\u001B[43m,\u001B[49m\u001B[43m \u001B[49m\u001B[43muid\u001B[49m\u001B[43m,\u001B[49m\u001B[43m \u001B[49m\u001B[43mumask\u001B[49m\u001B[43m,\u001B[49m\n\u001B[0;32m    974\u001B[0m \u001B[43m                        \u001B[49m\u001B[43mstart_new_session\u001B[49m\u001B[43m)\u001B[49m\n\u001B[0;32m    975\u001B[0m \u001B[38;5;28;01mexcept\u001B[39;00m:\n\u001B[0;32m    976\u001B[0m     \u001B[38;5;66;03m# Cleanup if the child failed starting.\u001B[39;00m\n",
      "File \u001B[1;32m~\\AppData\\Local\\Programs\\Python\\Python310\\lib\\subprocess.py:1435\u001B[0m, in \u001B[0;36mPopen._execute_child\u001B[1;34m(self, args, executable, preexec_fn, close_fds, pass_fds, cwd, env, startupinfo, creationflags, shell, p2cread, p2cwrite, c2pread, c2pwrite, errread, errwrite, unused_restore_signals, unused_gid, unused_gids, unused_uid, unused_umask, unused_start_new_session)\u001B[0m\n\u001B[0;32m   1434\u001B[0m \u001B[38;5;28;01mtry\u001B[39;00m:\n\u001B[1;32m-> 1435\u001B[0m     hp, ht, pid, tid \u001B[38;5;241m=\u001B[39m \u001B[43m_winapi\u001B[49m\u001B[38;5;241;43m.\u001B[39;49m\u001B[43mCreateProcess\u001B[49m\u001B[43m(\u001B[49m\u001B[43mexecutable\u001B[49m\u001B[43m,\u001B[49m\u001B[43m \u001B[49m\u001B[43margs\u001B[49m\u001B[43m,\u001B[49m\n\u001B[0;32m   1436\u001B[0m \u001B[43m                             \u001B[49m\u001B[38;5;66;43;03m# no special security\u001B[39;49;00m\n\u001B[0;32m   1437\u001B[0m \u001B[43m                             \u001B[49m\u001B[38;5;28;43;01mNone\u001B[39;49;00m\u001B[43m,\u001B[49m\u001B[43m \u001B[49m\u001B[38;5;28;43;01mNone\u001B[39;49;00m\u001B[43m,\u001B[49m\n\u001B[0;32m   1438\u001B[0m \u001B[43m                             \u001B[49m\u001B[38;5;28;43mint\u001B[39;49m\u001B[43m(\u001B[49m\u001B[38;5;129;43;01mnot\u001B[39;49;00m\u001B[43m \u001B[49m\u001B[43mclose_fds\u001B[49m\u001B[43m)\u001B[49m\u001B[43m,\u001B[49m\n\u001B[0;32m   1439\u001B[0m \u001B[43m                             \u001B[49m\u001B[43mcreationflags\u001B[49m\u001B[43m,\u001B[49m\n\u001B[0;32m   1440\u001B[0m \u001B[43m                             \u001B[49m\u001B[43menv\u001B[49m\u001B[43m,\u001B[49m\n\u001B[0;32m   1441\u001B[0m \u001B[43m                             \u001B[49m\u001B[43mcwd\u001B[49m\u001B[43m,\u001B[49m\n\u001B[0;32m   1442\u001B[0m \u001B[43m                             \u001B[49m\u001B[43mstartupinfo\u001B[49m\u001B[43m)\u001B[49m\n\u001B[0;32m   1443\u001B[0m \u001B[38;5;28;01mfinally\u001B[39;00m:\n\u001B[0;32m   1444\u001B[0m     \u001B[38;5;66;03m# Child is launched. Close the parent's copy of those pipe\u001B[39;00m\n\u001B[0;32m   1445\u001B[0m     \u001B[38;5;66;03m# handles that only the child should have open.  You need\u001B[39;00m\n\u001B[1;32m   (...)\u001B[0m\n\u001B[0;32m   1448\u001B[0m     \u001B[38;5;66;03m# pipe will not close when the child process exits and the\u001B[39;00m\n\u001B[0;32m   1449\u001B[0m     \u001B[38;5;66;03m# ReadFile will hang.\u001B[39;00m\n",
      "\u001B[1;31mFileNotFoundError\u001B[0m: [WinError 2] The system cannot find the file specified",
      "\nThe above exception was the direct cause of the following exception:\n",
      "\u001B[1;31mExecutableNotFound\u001B[0m                        Traceback (most recent call last)",
      "File \u001B[1;32m~\\.virtualenvs\\drayers-ZSJxV8Z-\\lib\\site-packages\\IPython\\core\\formatters.py:973\u001B[0m, in \u001B[0;36mMimeBundleFormatter.__call__\u001B[1;34m(self, obj, include, exclude)\u001B[0m\n\u001B[0;32m    970\u001B[0m     method \u001B[38;5;241m=\u001B[39m get_real_method(obj, \u001B[38;5;28mself\u001B[39m\u001B[38;5;241m.\u001B[39mprint_method)\n\u001B[0;32m    972\u001B[0m     \u001B[38;5;28;01mif\u001B[39;00m method \u001B[38;5;129;01mis\u001B[39;00m \u001B[38;5;129;01mnot\u001B[39;00m \u001B[38;5;28;01mNone\u001B[39;00m:\n\u001B[1;32m--> 973\u001B[0m         \u001B[38;5;28;01mreturn\u001B[39;00m \u001B[43mmethod\u001B[49m\u001B[43m(\u001B[49m\u001B[43minclude\u001B[49m\u001B[38;5;241;43m=\u001B[39;49m\u001B[43minclude\u001B[49m\u001B[43m,\u001B[49m\u001B[43m \u001B[49m\u001B[43mexclude\u001B[49m\u001B[38;5;241;43m=\u001B[39;49m\u001B[43mexclude\u001B[49m\u001B[43m)\u001B[49m\n\u001B[0;32m    974\u001B[0m     \u001B[38;5;28;01mreturn\u001B[39;00m \u001B[38;5;28;01mNone\u001B[39;00m\n\u001B[0;32m    975\u001B[0m \u001B[38;5;28;01melse\u001B[39;00m:\n",
      "File \u001B[1;32m~\\.virtualenvs\\drayers-ZSJxV8Z-\\lib\\site-packages\\graphviz\\jupyter_integration.py:98\u001B[0m, in \u001B[0;36mJupyterIntegration._repr_mimebundle_\u001B[1;34m(self, include, exclude, **_)\u001B[0m\n\u001B[0;32m     96\u001B[0m include \u001B[38;5;241m=\u001B[39m \u001B[38;5;28mset\u001B[39m(include) \u001B[38;5;28;01mif\u001B[39;00m include \u001B[38;5;129;01mis\u001B[39;00m \u001B[38;5;129;01mnot\u001B[39;00m \u001B[38;5;28;01mNone\u001B[39;00m \u001B[38;5;28;01melse\u001B[39;00m {\u001B[38;5;28mself\u001B[39m\u001B[38;5;241m.\u001B[39m_jupyter_mimetype}\n\u001B[0;32m     97\u001B[0m include \u001B[38;5;241m-\u001B[39m\u001B[38;5;241m=\u001B[39m \u001B[38;5;28mset\u001B[39m(exclude \u001B[38;5;129;01mor\u001B[39;00m [])\n\u001B[1;32m---> 98\u001B[0m \u001B[38;5;28;01mreturn\u001B[39;00m {mimetype: \u001B[38;5;28mgetattr\u001B[39m(\u001B[38;5;28mself\u001B[39m, method_name)()\n\u001B[0;32m     99\u001B[0m         \u001B[38;5;28;01mfor\u001B[39;00m mimetype, method_name \u001B[38;5;129;01min\u001B[39;00m MIME_TYPES\u001B[38;5;241m.\u001B[39mitems()\n\u001B[0;32m    100\u001B[0m         \u001B[38;5;28;01mif\u001B[39;00m mimetype \u001B[38;5;129;01min\u001B[39;00m include}\n",
      "File \u001B[1;32m~\\.virtualenvs\\drayers-ZSJxV8Z-\\lib\\site-packages\\graphviz\\jupyter_integration.py:98\u001B[0m, in \u001B[0;36m<dictcomp>\u001B[1;34m(.0)\u001B[0m\n\u001B[0;32m     96\u001B[0m include \u001B[38;5;241m=\u001B[39m \u001B[38;5;28mset\u001B[39m(include) \u001B[38;5;28;01mif\u001B[39;00m include \u001B[38;5;129;01mis\u001B[39;00m \u001B[38;5;129;01mnot\u001B[39;00m \u001B[38;5;28;01mNone\u001B[39;00m \u001B[38;5;28;01melse\u001B[39;00m {\u001B[38;5;28mself\u001B[39m\u001B[38;5;241m.\u001B[39m_jupyter_mimetype}\n\u001B[0;32m     97\u001B[0m include \u001B[38;5;241m-\u001B[39m\u001B[38;5;241m=\u001B[39m \u001B[38;5;28mset\u001B[39m(exclude \u001B[38;5;129;01mor\u001B[39;00m [])\n\u001B[1;32m---> 98\u001B[0m \u001B[38;5;28;01mreturn\u001B[39;00m {mimetype: \u001B[38;5;28;43mgetattr\u001B[39;49m\u001B[43m(\u001B[49m\u001B[38;5;28;43mself\u001B[39;49m\u001B[43m,\u001B[49m\u001B[43m \u001B[49m\u001B[43mmethod_name\u001B[49m\u001B[43m)\u001B[49m\u001B[43m(\u001B[49m\u001B[43m)\u001B[49m\n\u001B[0;32m     99\u001B[0m         \u001B[38;5;28;01mfor\u001B[39;00m mimetype, method_name \u001B[38;5;129;01min\u001B[39;00m MIME_TYPES\u001B[38;5;241m.\u001B[39mitems()\n\u001B[0;32m    100\u001B[0m         \u001B[38;5;28;01mif\u001B[39;00m mimetype \u001B[38;5;129;01min\u001B[39;00m include}\n",
      "File \u001B[1;32m~\\.virtualenvs\\drayers-ZSJxV8Z-\\lib\\site-packages\\graphviz\\jupyter_integration.py:112\u001B[0m, in \u001B[0;36mJupyterIntegration._repr_image_svg_xml\u001B[1;34m(self)\u001B[0m\n\u001B[0;32m    110\u001B[0m \u001B[38;5;28;01mdef\u001B[39;00m \u001B[38;5;21m_repr_image_svg_xml\u001B[39m(\u001B[38;5;28mself\u001B[39m) \u001B[38;5;241m-\u001B[39m\u001B[38;5;241m>\u001B[39m \u001B[38;5;28mstr\u001B[39m:\n\u001B[0;32m    111\u001B[0m     \u001B[38;5;124;03m\"\"\"Return the rendered graph as SVG string.\"\"\"\u001B[39;00m\n\u001B[1;32m--> 112\u001B[0m     \u001B[38;5;28;01mreturn\u001B[39;00m \u001B[38;5;28;43mself\u001B[39;49m\u001B[38;5;241;43m.\u001B[39;49m\u001B[43mpipe\u001B[49m\u001B[43m(\u001B[49m\u001B[38;5;28;43mformat\u001B[39;49m\u001B[38;5;241;43m=\u001B[39;49m\u001B[38;5;124;43m'\u001B[39;49m\u001B[38;5;124;43msvg\u001B[39;49m\u001B[38;5;124;43m'\u001B[39;49m\u001B[43m,\u001B[49m\u001B[43m \u001B[49m\u001B[43mencoding\u001B[49m\u001B[38;5;241;43m=\u001B[39;49m\u001B[43mSVG_ENCODING\u001B[49m\u001B[43m)\u001B[49m\n",
      "File \u001B[1;32m~\\.virtualenvs\\drayers-ZSJxV8Z-\\lib\\site-packages\\graphviz\\piping.py:99\u001B[0m, in \u001B[0;36mPipe.pipe\u001B[1;34m(self, format, renderer, formatter, quiet, engine, encoding)\u001B[0m\n\u001B[0;32m     52\u001B[0m \u001B[38;5;28;01mdef\u001B[39;00m \u001B[38;5;21mpipe\u001B[39m(\u001B[38;5;28mself\u001B[39m,\n\u001B[0;32m     53\u001B[0m          \u001B[38;5;28mformat\u001B[39m: typing\u001B[38;5;241m.\u001B[39mOptional[\u001B[38;5;28mstr\u001B[39m] \u001B[38;5;241m=\u001B[39m \u001B[38;5;28;01mNone\u001B[39;00m,\n\u001B[0;32m     54\u001B[0m          renderer: typing\u001B[38;5;241m.\u001B[39mOptional[\u001B[38;5;28mstr\u001B[39m] \u001B[38;5;241m=\u001B[39m \u001B[38;5;28;01mNone\u001B[39;00m,\n\u001B[1;32m   (...)\u001B[0m\n\u001B[0;32m     57\u001B[0m          engine: typing\u001B[38;5;241m.\u001B[39mOptional[\u001B[38;5;28mstr\u001B[39m] \u001B[38;5;241m=\u001B[39m \u001B[38;5;28;01mNone\u001B[39;00m,\n\u001B[0;32m     58\u001B[0m          encoding: typing\u001B[38;5;241m.\u001B[39mOptional[\u001B[38;5;28mstr\u001B[39m] \u001B[38;5;241m=\u001B[39m \u001B[38;5;28;01mNone\u001B[39;00m) \u001B[38;5;241m-\u001B[39m\u001B[38;5;241m>\u001B[39m typing\u001B[38;5;241m.\u001B[39mUnion[\u001B[38;5;28mbytes\u001B[39m, \u001B[38;5;28mstr\u001B[39m]:\n\u001B[0;32m     59\u001B[0m     \u001B[38;5;124;03m\"\"\"Return the source piped through the Graphviz layout command.\u001B[39;00m\n\u001B[0;32m     60\u001B[0m \n\u001B[0;32m     61\u001B[0m \u001B[38;5;124;03m    Args:\u001B[39;00m\n\u001B[1;32m   (...)\u001B[0m\n\u001B[0;32m     97\u001B[0m \u001B[38;5;124;03m        '<?xml version='\u001B[39;00m\n\u001B[0;32m     98\u001B[0m \u001B[38;5;124;03m    \"\"\"\u001B[39;00m\n\u001B[1;32m---> 99\u001B[0m     \u001B[38;5;28;01mreturn\u001B[39;00m \u001B[38;5;28;43mself\u001B[39;49m\u001B[38;5;241;43m.\u001B[39;49m\u001B[43m_pipe_legacy\u001B[49m\u001B[43m(\u001B[49m\u001B[38;5;28;43mformat\u001B[39;49m\u001B[43m,\u001B[49m\n\u001B[0;32m    100\u001B[0m \u001B[43m                             \u001B[49m\u001B[43mrenderer\u001B[49m\u001B[38;5;241;43m=\u001B[39;49m\u001B[43mrenderer\u001B[49m\u001B[43m,\u001B[49m\n\u001B[0;32m    101\u001B[0m \u001B[43m                             \u001B[49m\u001B[43mformatter\u001B[49m\u001B[38;5;241;43m=\u001B[39;49m\u001B[43mformatter\u001B[49m\u001B[43m,\u001B[49m\n\u001B[0;32m    102\u001B[0m \u001B[43m                             \u001B[49m\u001B[43mquiet\u001B[49m\u001B[38;5;241;43m=\u001B[39;49m\u001B[43mquiet\u001B[49m\u001B[43m,\u001B[49m\n\u001B[0;32m    103\u001B[0m \u001B[43m                             \u001B[49m\u001B[43mengine\u001B[49m\u001B[38;5;241;43m=\u001B[39;49m\u001B[43mengine\u001B[49m\u001B[43m,\u001B[49m\n\u001B[0;32m    104\u001B[0m \u001B[43m                             \u001B[49m\u001B[43mencoding\u001B[49m\u001B[38;5;241;43m=\u001B[39;49m\u001B[43mencoding\u001B[49m\u001B[43m)\u001B[49m\n",
      "File \u001B[1;32m~\\.virtualenvs\\drayers-ZSJxV8Z-\\lib\\site-packages\\graphviz\\_tools.py:172\u001B[0m, in \u001B[0;36mdeprecate_positional_args.<locals>.decorator.<locals>.wrapper\u001B[1;34m(*args, **kwargs)\u001B[0m\n\u001B[0;32m    163\u001B[0m     wanted \u001B[38;5;241m=\u001B[39m \u001B[38;5;124m'\u001B[39m\u001B[38;5;124m, \u001B[39m\u001B[38;5;124m'\u001B[39m\u001B[38;5;241m.\u001B[39mjoin(\u001B[38;5;124mf\u001B[39m\u001B[38;5;124m'\u001B[39m\u001B[38;5;132;01m{\u001B[39;00mname\u001B[38;5;132;01m}\u001B[39;00m\u001B[38;5;124m=\u001B[39m\u001B[38;5;132;01m{\u001B[39;00mvalue\u001B[38;5;132;01m!r}\u001B[39;00m\u001B[38;5;124m'\u001B[39m\n\u001B[0;32m    164\u001B[0m                        \u001B[38;5;28;01mfor\u001B[39;00m name, value \u001B[38;5;129;01min\u001B[39;00m deprecated\u001B[38;5;241m.\u001B[39mitems())\n\u001B[0;32m    165\u001B[0m     warnings\u001B[38;5;241m.\u001B[39mwarn(\u001B[38;5;124mf\u001B[39m\u001B[38;5;124m'\u001B[39m\u001B[38;5;124mThe signature of \u001B[39m\u001B[38;5;132;01m{\u001B[39;00mfunc\u001B[38;5;241m.\u001B[39m\u001B[38;5;18m__name__\u001B[39m\u001B[38;5;132;01m}\u001B[39;00m\u001B[38;5;124m will be reduced\u001B[39m\u001B[38;5;124m'\u001B[39m\n\u001B[0;32m    166\u001B[0m                   \u001B[38;5;124mf\u001B[39m\u001B[38;5;124m'\u001B[39m\u001B[38;5;124m to \u001B[39m\u001B[38;5;132;01m{\u001B[39;00msupported_number\u001B[38;5;132;01m}\u001B[39;00m\u001B[38;5;124m positional args\u001B[39m\u001B[38;5;124m'\u001B[39m\n\u001B[0;32m    167\u001B[0m                   \u001B[38;5;124mf\u001B[39m\u001B[38;5;124m'\u001B[39m\u001B[38;5;124m \u001B[39m\u001B[38;5;132;01m{\u001B[39;00m\u001B[38;5;28mlist\u001B[39m(supported)\u001B[38;5;132;01m}\u001B[39;00m\u001B[38;5;124m: pass \u001B[39m\u001B[38;5;132;01m{\u001B[39;00mwanted\u001B[38;5;132;01m}\u001B[39;00m\u001B[38;5;124m'\u001B[39m\n\u001B[0;32m    168\u001B[0m                   \u001B[38;5;124m'\u001B[39m\u001B[38;5;124m as keyword arg(s)\u001B[39m\u001B[38;5;124m'\u001B[39m,\n\u001B[0;32m    169\u001B[0m                   stacklevel\u001B[38;5;241m=\u001B[39mstacklevel,\n\u001B[0;32m    170\u001B[0m                   category\u001B[38;5;241m=\u001B[39mcategory)\n\u001B[1;32m--> 172\u001B[0m \u001B[38;5;28;01mreturn\u001B[39;00m func(\u001B[38;5;241m*\u001B[39margs, \u001B[38;5;241m*\u001B[39m\u001B[38;5;241m*\u001B[39mkwargs)\n",
      "File \u001B[1;32m~\\.virtualenvs\\drayers-ZSJxV8Z-\\lib\\site-packages\\graphviz\\piping.py:114\u001B[0m, in \u001B[0;36mPipe._pipe_legacy\u001B[1;34m(self, format, renderer, formatter, quiet, engine, encoding)\u001B[0m\n\u001B[0;32m    106\u001B[0m \u001B[38;5;129m@_tools\u001B[39m\u001B[38;5;241m.\u001B[39mdeprecate_positional_args(supported_number\u001B[38;5;241m=\u001B[39m\u001B[38;5;241m2\u001B[39m)\n\u001B[0;32m    107\u001B[0m \u001B[38;5;28;01mdef\u001B[39;00m \u001B[38;5;21m_pipe_legacy\u001B[39m(\u001B[38;5;28mself\u001B[39m,\n\u001B[0;32m    108\u001B[0m                  \u001B[38;5;28mformat\u001B[39m: typing\u001B[38;5;241m.\u001B[39mOptional[\u001B[38;5;28mstr\u001B[39m] \u001B[38;5;241m=\u001B[39m \u001B[38;5;28;01mNone\u001B[39;00m,\n\u001B[1;32m   (...)\u001B[0m\n\u001B[0;32m    112\u001B[0m                  engine: typing\u001B[38;5;241m.\u001B[39mOptional[\u001B[38;5;28mstr\u001B[39m] \u001B[38;5;241m=\u001B[39m \u001B[38;5;28;01mNone\u001B[39;00m,\n\u001B[0;32m    113\u001B[0m                  encoding: typing\u001B[38;5;241m.\u001B[39mOptional[\u001B[38;5;28mstr\u001B[39m] \u001B[38;5;241m=\u001B[39m \u001B[38;5;28;01mNone\u001B[39;00m) \u001B[38;5;241m-\u001B[39m\u001B[38;5;241m>\u001B[39m typing\u001B[38;5;241m.\u001B[39mUnion[\u001B[38;5;28mbytes\u001B[39m, \u001B[38;5;28mstr\u001B[39m]:\n\u001B[1;32m--> 114\u001B[0m     \u001B[38;5;28;01mreturn\u001B[39;00m \u001B[38;5;28;43mself\u001B[39;49m\u001B[38;5;241;43m.\u001B[39;49m\u001B[43m_pipe_future\u001B[49m\u001B[43m(\u001B[49m\u001B[38;5;28;43mformat\u001B[39;49m\u001B[43m,\u001B[49m\n\u001B[0;32m    115\u001B[0m \u001B[43m                             \u001B[49m\u001B[43mrenderer\u001B[49m\u001B[38;5;241;43m=\u001B[39;49m\u001B[43mrenderer\u001B[49m\u001B[43m,\u001B[49m\n\u001B[0;32m    116\u001B[0m \u001B[43m                             \u001B[49m\u001B[43mformatter\u001B[49m\u001B[38;5;241;43m=\u001B[39;49m\u001B[43mformatter\u001B[49m\u001B[43m,\u001B[49m\n\u001B[0;32m    117\u001B[0m \u001B[43m                             \u001B[49m\u001B[43mquiet\u001B[49m\u001B[38;5;241;43m=\u001B[39;49m\u001B[43mquiet\u001B[49m\u001B[43m,\u001B[49m\n\u001B[0;32m    118\u001B[0m \u001B[43m                             \u001B[49m\u001B[43mengine\u001B[49m\u001B[38;5;241;43m=\u001B[39;49m\u001B[43mengine\u001B[49m\u001B[43m,\u001B[49m\n\u001B[0;32m    119\u001B[0m \u001B[43m                             \u001B[49m\u001B[43mencoding\u001B[49m\u001B[38;5;241;43m=\u001B[39;49m\u001B[43mencoding\u001B[49m\u001B[43m)\u001B[49m\n",
      "File \u001B[1;32m~\\.virtualenvs\\drayers-ZSJxV8Z-\\lib\\site-packages\\graphviz\\piping.py:139\u001B[0m, in \u001B[0;36mPipe._pipe_future\u001B[1;34m(self, format, renderer, formatter, quiet, engine, encoding)\u001B[0m\n\u001B[0;32m    136\u001B[0m \u001B[38;5;28;01mif\u001B[39;00m encoding \u001B[38;5;129;01mis\u001B[39;00m \u001B[38;5;129;01mnot\u001B[39;00m \u001B[38;5;28;01mNone\u001B[39;00m:\n\u001B[0;32m    137\u001B[0m     \u001B[38;5;28;01mif\u001B[39;00m codecs\u001B[38;5;241m.\u001B[39mlookup(encoding) \u001B[38;5;129;01mis\u001B[39;00m codecs\u001B[38;5;241m.\u001B[39mlookup(\u001B[38;5;28mself\u001B[39m\u001B[38;5;241m.\u001B[39mencoding):\n\u001B[0;32m    138\u001B[0m         \u001B[38;5;66;03m# common case: both stdin and stdout need the same encoding\u001B[39;00m\n\u001B[1;32m--> 139\u001B[0m         \u001B[38;5;28;01mreturn\u001B[39;00m \u001B[38;5;28mself\u001B[39m\u001B[38;5;241m.\u001B[39m_pipe_lines_string(\u001B[38;5;241m*\u001B[39margs, encoding\u001B[38;5;241m=\u001B[39mencoding, \u001B[38;5;241m*\u001B[39m\u001B[38;5;241m*\u001B[39mkwargs)\n\u001B[0;32m    140\u001B[0m     \u001B[38;5;28;01mtry\u001B[39;00m:\n\u001B[0;32m    141\u001B[0m         raw \u001B[38;5;241m=\u001B[39m \u001B[38;5;28mself\u001B[39m\u001B[38;5;241m.\u001B[39m_pipe_lines(\u001B[38;5;241m*\u001B[39margs, input_encoding\u001B[38;5;241m=\u001B[39m\u001B[38;5;28mself\u001B[39m\u001B[38;5;241m.\u001B[39mencoding, \u001B[38;5;241m*\u001B[39m\u001B[38;5;241m*\u001B[39mkwargs)\n",
      "File \u001B[1;32m~\\.virtualenvs\\drayers-ZSJxV8Z-\\lib\\site-packages\\graphviz\\backend\\piping.py:196\u001B[0m, in \u001B[0;36mpipe_lines_string\u001B[1;34m(engine, format, input_lines, encoding, renderer, formatter, quiet)\u001B[0m\n\u001B[0;32m    192\u001B[0m cmd \u001B[38;5;241m=\u001B[39m dot_command\u001B[38;5;241m.\u001B[39mcommand(engine, \u001B[38;5;28mformat\u001B[39m,\n\u001B[0;32m    193\u001B[0m                           renderer\u001B[38;5;241m=\u001B[39mrenderer, formatter\u001B[38;5;241m=\u001B[39mformatter)\n\u001B[0;32m    194\u001B[0m kwargs \u001B[38;5;241m=\u001B[39m {\u001B[38;5;124m'\u001B[39m\u001B[38;5;124minput_lines\u001B[39m\u001B[38;5;124m'\u001B[39m: input_lines, \u001B[38;5;124m'\u001B[39m\u001B[38;5;124mencoding\u001B[39m\u001B[38;5;124m'\u001B[39m: encoding}\n\u001B[1;32m--> 196\u001B[0m proc \u001B[38;5;241m=\u001B[39m execute\u001B[38;5;241m.\u001B[39mrun_check(cmd, capture_output\u001B[38;5;241m=\u001B[39m\u001B[38;5;28;01mTrue\u001B[39;00m, quiet\u001B[38;5;241m=\u001B[39mquiet, \u001B[38;5;241m*\u001B[39m\u001B[38;5;241m*\u001B[39mkwargs)\n\u001B[0;32m    197\u001B[0m \u001B[38;5;28;01mreturn\u001B[39;00m proc\u001B[38;5;241m.\u001B[39mstdout\n",
      "File \u001B[1;32m~\\.virtualenvs\\drayers-ZSJxV8Z-\\lib\\site-packages\\graphviz\\backend\\execute.py:88\u001B[0m, in \u001B[0;36mrun_check\u001B[1;34m(cmd, input_lines, encoding, capture_output, quiet, **kwargs)\u001B[0m\n\u001B[0;32m     86\u001B[0m \u001B[38;5;28;01mexcept\u001B[39;00m \u001B[38;5;167;01mOSError\u001B[39;00m \u001B[38;5;28;01mas\u001B[39;00m e:\n\u001B[0;32m     87\u001B[0m     \u001B[38;5;28;01mif\u001B[39;00m e\u001B[38;5;241m.\u001B[39merrno \u001B[38;5;241m==\u001B[39m errno\u001B[38;5;241m.\u001B[39mENOENT:\n\u001B[1;32m---> 88\u001B[0m         \u001B[38;5;28;01mraise\u001B[39;00m ExecutableNotFound(cmd) \u001B[38;5;28;01mfrom\u001B[39;00m \u001B[38;5;21;01me\u001B[39;00m\n\u001B[0;32m     89\u001B[0m     \u001B[38;5;28;01mraise\u001B[39;00m\n\u001B[0;32m     91\u001B[0m \u001B[38;5;28;01mif\u001B[39;00m \u001B[38;5;129;01mnot\u001B[39;00m quiet \u001B[38;5;129;01mand\u001B[39;00m proc\u001B[38;5;241m.\u001B[39mstderr:\n",
      "\u001B[1;31mExecutableNotFound\u001B[0m: failed to execute WindowsPath('dot'), make sure the Graphviz executables are on your systems' PATH"
     ]
    },
    {
     "data": {
      "text/plain": "<graphviz.sources.Source at 0x1a5cd59f580>"
     },
     "execution_count": 613,
     "metadata": {},
     "output_type": "execute_result"
    }
   ],
   "source": [
    "node_params = {'shape': 'box',\n",
    "               'style': 'filled, rounded',\n",
    "               'fillcolor': '#78cbe'}\n",
    "leaf_params = {'shape': 'box',\n",
    "               'style': 'filled',\n",
    "               'fillcolor': '#e48038'}\n",
    "xgb.to_graphviz(clf_xgb, num_trees=0, size=\"10,10\",\n",
    "                condition_node_params=node_params,\n",
    "                leaf_node_params=leaf_params)"
   ],
   "metadata": {
    "collapsed": false,
    "pycharm": {
     "name": "#%%\n"
    }
   }
  },
  {
   "cell_type": "code",
   "execution_count": null,
   "outputs": [],
   "source": [],
   "metadata": {
    "collapsed": false,
    "pycharm": {
     "name": "#%%\n"
    }
   }
  }
 ],
 "metadata": {
  "kernelspec": {
   "display_name": "Python 3 (ipykernel)",
   "language": "python",
   "name": "python3"
  },
  "language_info": {
   "codemirror_mode": {
    "name": "ipython",
    "version": 3
   },
   "file_extension": ".py",
   "mimetype": "text/x-python",
   "name": "python",
   "nbconvert_exporter": "python",
   "pygments_lexer": "ipython3",
   "version": "3.10.4"
  }
 },
 "nbformat": 4,
 "nbformat_minor": 1
}