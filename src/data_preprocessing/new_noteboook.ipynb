{
 "cells": [
  {
   "cell_type": "code",
   "execution_count": 147,
   "metadata": {
    "collapsed": true
   },
   "outputs": [],
   "source": [
    "import pandas as pd\n",
    "import seaborn as sns\n",
    "import matplotlib.pyplot as plt\n",
    "from sklearn.model_selection import train_test_split\n",
    "from xgboost import XGBRegressor"
   ]
  },
  {
   "cell_type": "code",
   "execution_count": 148,
   "outputs": [],
   "source": [
    "from pandasql import sqldf\n",
    "pysqldf = lambda q: sqldf(q,globals())"
   ],
   "metadata": {
    "collapsed": false,
    "pycharm": {
     "name": "#%%\n"
    }
   }
  },
  {
   "cell_type": "code",
   "execution_count": 149,
   "outputs": [
    {
     "name": "stderr",
     "output_type": "stream",
     "text": [
      "/tmp/ipykernel_8304/3789146688.py:1: DtypeWarning: Columns (4,5,6,7) have mixed types. Specify dtype option on import or set low_memory=False.\n",
      "  df = pd.read_csv('../../data/data/H161.csv', parse_dates=['utc_time'])\n"
     ]
    }
   ],
   "source": [
    "df = pd.read_csv('../../data/data/H161.csv', parse_dates=['utc_time'])\n",
    "# df.columns = ['utc_time','73_H160.PHASE','73_H160.STEP','73_H160.STATMENT','73_H160.NN(33)','GWI4801.PV','GTI8031.PV','GPI8030.PV']\n",
    "df.columns = ['time','phase', 'step', 'statement', 'heat_time', 'weight', 'temp', 'pressure']"
   ],
   "metadata": {
    "collapsed": false,
    "pycharm": {
     "name": "#%%\n"
    }
   }
  },
  {
   "cell_type": "code",
   "execution_count": 150,
   "outputs": [],
   "source": [
    "\n",
    "\n",
    "df[\"time\"] = df[\"time\"].dt.tz_localize(None)\n",
    "df['date'] = df['time'].dt.date"
   ],
   "metadata": {
    "collapsed": false,
    "pycharm": {
     "name": "#%%\n"
    }
   }
  },
  {
   "cell_type": "code",
   "execution_count": 151,
   "outputs": [
    {
     "data": {
      "text/plain": "                      time    phase  step  statement heat_time    weight  \\\n378938 2020-12-11 08:46:27  DISCHRG  STRT       21.0       0.0    3688.4   \n129441 2020-06-21 02:29:27  FEEDING  LP01        1.0       0.0    3255.4   \n\n            temp  pressure        date  \n378938      22.0     764.7  2020-12-11  \n129441      60.4     751.5  2020-06-21  ",
      "text/html": "<div>\n<style scoped>\n    .dataframe tbody tr th:only-of-type {\n        vertical-align: middle;\n    }\n\n    .dataframe tbody tr th {\n        vertical-align: top;\n    }\n\n    .dataframe thead th {\n        text-align: right;\n    }\n</style>\n<table border=\"1\" class=\"dataframe\">\n  <thead>\n    <tr style=\"text-align: right;\">\n      <th></th>\n      <th>time</th>\n      <th>phase</th>\n      <th>step</th>\n      <th>statement</th>\n      <th>heat_time</th>\n      <th>weight</th>\n      <th>temp</th>\n      <th>pressure</th>\n      <th>date</th>\n    </tr>\n  </thead>\n  <tbody>\n    <tr>\n      <th>378938</th>\n      <td>2020-12-11 08:46:27</td>\n      <td>DISCHRG</td>\n      <td>STRT</td>\n      <td>21.0</td>\n      <td>0.0</td>\n      <td>3688.4</td>\n      <td>22.0</td>\n      <td>764.7</td>\n      <td>2020-12-11</td>\n    </tr>\n    <tr>\n      <th>129441</th>\n      <td>2020-06-21 02:29:27</td>\n      <td>FEEDING</td>\n      <td>LP01</td>\n      <td>1.0</td>\n      <td>0.0</td>\n      <td>3255.4</td>\n      <td>60.4</td>\n      <td>751.5</td>\n      <td>2020-06-21</td>\n    </tr>\n  </tbody>\n</table>\n</div>"
     },
     "execution_count": 151,
     "metadata": {},
     "output_type": "execute_result"
    }
   ],
   "source": [
    "df.sample(2)"
   ],
   "metadata": {
    "collapsed": false,
    "pycharm": {
     "name": "#%%\n"
    }
   }
  },
  {
   "cell_type": "code",
   "execution_count": 158,
   "outputs": [],
   "source": [
    "def load_query(path):\n",
    "    with open(path) as file:\n",
    "        return file.read()"
   ],
   "metadata": {
    "collapsed": false,
    "pycharm": {
     "name": "#%%\n"
    }
   }
  },
  {
   "cell_type": "code",
   "execution_count": 159,
   "outputs": [],
   "source": [
    "query = load_query('daily_cycles.sql')\n",
    "daily_cycles = pysqldf(query)"
   ],
   "metadata": {
    "collapsed": false,
    "pycharm": {
     "name": "#%%\n"
    }
   }
  },
  {
   "cell_type": "code",
   "execution_count": 166,
   "outputs": [
    {
     "data": {
      "text/plain": "           DATE  num_cycles\n0    2020-03-23           1\n1    2020-03-24           1\n2    2020-03-25           1\n3    2020-03-26           1\n4    2020-03-27           1\n..          ...         ...\n703  2022-03-09           1\n704  2022-03-10           1\n705  2022-03-11           1\n706  2022-03-12           1\n707  2022-03-13           1\n\n[708 rows x 2 columns]",
      "text/html": "<div>\n<style scoped>\n    .dataframe tbody tr th:only-of-type {\n        vertical-align: middle;\n    }\n\n    .dataframe tbody tr th {\n        vertical-align: top;\n    }\n\n    .dataframe thead th {\n        text-align: right;\n    }\n</style>\n<table border=\"1\" class=\"dataframe\">\n  <thead>\n    <tr style=\"text-align: right;\">\n      <th></th>\n      <th>DATE</th>\n      <th>num_cycles</th>\n    </tr>\n  </thead>\n  <tbody>\n    <tr>\n      <th>0</th>\n      <td>2020-03-23</td>\n      <td>1</td>\n    </tr>\n    <tr>\n      <th>1</th>\n      <td>2020-03-24</td>\n      <td>1</td>\n    </tr>\n    <tr>\n      <th>2</th>\n      <td>2020-03-25</td>\n      <td>1</td>\n    </tr>\n    <tr>\n      <th>3</th>\n      <td>2020-03-26</td>\n      <td>1</td>\n    </tr>\n    <tr>\n      <th>4</th>\n      <td>2020-03-27</td>\n      <td>1</td>\n    </tr>\n    <tr>\n      <th>...</th>\n      <td>...</td>\n      <td>...</td>\n    </tr>\n    <tr>\n      <th>703</th>\n      <td>2022-03-09</td>\n      <td>1</td>\n    </tr>\n    <tr>\n      <th>704</th>\n      <td>2022-03-10</td>\n      <td>1</td>\n    </tr>\n    <tr>\n      <th>705</th>\n      <td>2022-03-11</td>\n      <td>1</td>\n    </tr>\n    <tr>\n      <th>706</th>\n      <td>2022-03-12</td>\n      <td>1</td>\n    </tr>\n    <tr>\n      <th>707</th>\n      <td>2022-03-13</td>\n      <td>1</td>\n    </tr>\n  </tbody>\n</table>\n<p>708 rows × 2 columns</p>\n</div>"
     },
     "execution_count": 166,
     "metadata": {},
     "output_type": "execute_result"
    }
   ],
   "source": [
    "daily_cycles\n"
   ],
   "metadata": {
    "collapsed": false,
    "pycharm": {
     "name": "#%%\n"
    }
   }
  },
  {
   "cell_type": "code",
   "execution_count": 165,
   "outputs": [
    {
     "name": "stdout",
     "output_type": "stream",
     "text": [
      "<class 'pandas.core.frame.DataFrame'>\n",
      "RangeIndex: 1036791 entries, 0 to 1036790\n",
      "Data columns (total 9 columns):\n",
      " #   Column     Non-Null Count    Dtype         \n",
      "---  ------     --------------    -----         \n",
      " 0   time       1036791 non-null  datetime64[ns]\n",
      " 1   phase      1027623 non-null  object        \n",
      " 2   step       1027627 non-null  object        \n",
      " 3   statement  1031566 non-null  float64       \n",
      " 4   heat_time  1036786 non-null  object        \n",
      " 5   weight     1036784 non-null  object        \n",
      " 6   temp       1036782 non-null  object        \n",
      " 7   pressure   1036780 non-null  object        \n",
      " 8   date       1036791 non-null  object        \n",
      "dtypes: datetime64[ns](1), float64(1), object(7)\n",
      "memory usage: 71.2+ MB\n"
     ]
    }
   ],
   "source": [
    "df.info()"
   ],
   "metadata": {
    "collapsed": false,
    "pycharm": {
     "name": "#%%\n"
    }
   }
  },
  {
   "cell_type": "code",
   "execution_count": null,
   "outputs": [],
   "source": [],
   "metadata": {
    "collapsed": false,
    "pycharm": {
     "name": "#%%\n"
    }
   }
  }
 ],
 "metadata": {
  "kernelspec": {
   "display_name": "Python 3",
   "language": "python",
   "name": "python3"
  },
  "language_info": {
   "codemirror_mode": {
    "name": "ipython",
    "version": 2
   },
   "file_extension": ".py",
   "mimetype": "text/x-python",
   "name": "python",
   "nbconvert_exporter": "python",
   "pygments_lexer": "ipython2",
   "version": "2.7.6"
  }
 },
 "nbformat": 4,
 "nbformat_minor": 0
}