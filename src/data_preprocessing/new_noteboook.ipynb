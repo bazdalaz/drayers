{
 "cells": [
  {
   "cell_type": "code",
   "execution_count": 33,
   "metadata": {},
   "outputs": [],
   "source": [
    "import pandas as pd\n",
    "import numpy as np\n",
    "import seaborn as sns\n",
    "import matplotlib.pyplot as plt\n",
    "from scipy.signal import argrelextrema\n",
    "import xgboost as xgb\n",
    "from sklearn.metrics import plot_confusion_matrix"
   ]
  },
  {
   "cell_type": "code",
   "execution_count": 34,
   "metadata": {
    "pycharm": {
     "name": "#%%\n"
    }
   },
   "outputs": [],
   "source": [
    "from pandasql import sqldf\n",
    "pysqldf = lambda q: sqldf(q,globals())"
   ]
  },
  {
   "cell_type": "code",
   "execution_count": 35,
   "metadata": {
    "pycharm": {
     "name": "#%%\n"
    }
   },
   "outputs": [],
   "source": [
    "df = pd.read_csv('../../data/test/H160.csv', parse_dates=['utc_time'])\n",
    "df.columns = ['time','batch','phase', 'heat_time', 'weight', 'head_temp', 'head_pressure', 'vac_temp']"
   ]
  },
  {
   "cell_type": "code",
   "execution_count": 36,
   "metadata": {
    "pycharm": {
     "name": "#%%\n"
    }
   },
   "outputs": [],
   "source": [
    "df = df[df['phase'].str.contains ('DRYING|DISCHRG|HEATING') == True]\n",
    "# df = df[df['phase'].str.contains ('DRYING') == True]\n"
   ]
  },
  {
   "cell_type": "code",
   "execution_count": 37,
   "metadata": {
    "pycharm": {
     "name": "#%%\n"
    }
   },
   "outputs": [],
   "source": [
    "df[\"time\"] = df[\"time\"].dt.tz_localize(None)\n",
    "df['date'] = df['time'].dt.date\n",
    "df['day'] = df['time'].dt.dayofweek\n"
   ]
  },
  {
   "cell_type": "code",
   "execution_count": 38,
   "metadata": {
    "pycharm": {
     "name": "#%%\n"
    }
   },
   "outputs": [],
   "source": [
    "df.replace({'??????': None}, inplace=True)\n",
    "df.replace({'????????': None}, inplace=True)\n",
    "df.dropna(inplace=True)"
   ]
  },
  {
   "cell_type": "code",
   "execution_count": 39,
   "metadata": {
    "pycharm": {
     "name": "#%%\n"
    }
   },
   "outputs": [],
   "source": [
    "df['head_temp'] = df.head_temp.astype(float)\n",
    "df['weight'] = df.weight.astype(float)\n",
    "df['head_pressure'] = df.head_pressure.astype(float)\n",
    "df['heat_time'] = df.heat_time.astype(float)\n",
    "df['vac_temp'] = df.vac_temp.astype(float)\n",
    "df['batch'] = df.batch.astype(float)\n",
    "df['phase'] = df.phase.astype('category')"
   ]
  },
  {
   "cell_type": "code",
   "execution_count": 40,
   "metadata": {
    "pycharm": {
     "name": "#%%\n"
    }
   },
   "outputs": [
    {
     "data": {
      "text/plain": "                     time     batch    phase  heat_time  weight  head_temp  \\\n42852 2022-05-03 04:47:18  157260.0   DRYING      141.3  2945.6      60.00   \n42853 2022-05-03 04:48:18  157260.0   DRYING      142.3  2941.9      60.00   \n42854 2022-05-03 04:49:18  157260.0   DRYING      143.3  2941.4      60.00   \n42855 2022-05-03 04:50:18  157260.0   DRYING      144.2  2941.3      60.00   \n42856 2022-05-03 04:51:18  157260.0   DRYING      145.2  2943.6      60.00   \n...                   ...       ...      ...        ...     ...        ...   \n43067 2022-05-03 08:22:18  157260.0  DISCHRG      180.0   388.9      38.73   \n43068 2022-05-03 08:23:18  157260.0  DISCHRG      180.0   306.5      38.00   \n43069 2022-05-03 08:24:18  157260.0  DISCHRG      180.0   288.6      38.00   \n43070 2022-05-03 08:25:18  157261.0  DISCHRG      180.0   289.6      37.73   \n43071 2022-05-03 08:26:18  157261.0  DISCHRG      180.0   283.4      37.00   \n\n       head_pressure  vac_temp        date  day  max_temp  \n42852          498.8    21.557  2022-05-03    1       NaN  \n42853          450.4    21.447  2022-05-03    1       NaN  \n42854          451.8    21.369  2022-05-03    1       NaN  \n42855          453.8    21.304  2022-05-03    1       NaN  \n42856          458.6    21.247  2022-05-03    1       NaN  \n...              ...       ...         ...  ...       ...  \n43067          726.2    27.089  2022-05-03    1       NaN  \n43068          726.9    27.159  2022-05-03    1       NaN  \n43069          727.6    27.230  2022-05-03    1       NaN  \n43070          727.7    27.284  2022-05-03    1       NaN  \n43071          727.0    27.324  2022-05-03    1       NaN  \n\n[220 rows x 11 columns]",
      "text/html": "<div>\n<style scoped>\n    .dataframe tbody tr th:only-of-type {\n        vertical-align: middle;\n    }\n\n    .dataframe tbody tr th {\n        vertical-align: top;\n    }\n\n    .dataframe thead th {\n        text-align: right;\n    }\n</style>\n<table border=\"1\" class=\"dataframe\">\n  <thead>\n    <tr style=\"text-align: right;\">\n      <th></th>\n      <th>time</th>\n      <th>batch</th>\n      <th>phase</th>\n      <th>heat_time</th>\n      <th>weight</th>\n      <th>head_temp</th>\n      <th>head_pressure</th>\n      <th>vac_temp</th>\n      <th>date</th>\n      <th>day</th>\n      <th>max_temp</th>\n    </tr>\n  </thead>\n  <tbody>\n    <tr>\n      <th>42852</th>\n      <td>2022-05-03 04:47:18</td>\n      <td>157260.0</td>\n      <td>DRYING</td>\n      <td>141.3</td>\n      <td>2945.6</td>\n      <td>60.00</td>\n      <td>498.8</td>\n      <td>21.557</td>\n      <td>2022-05-03</td>\n      <td>1</td>\n      <td>NaN</td>\n    </tr>\n    <tr>\n      <th>42853</th>\n      <td>2022-05-03 04:48:18</td>\n      <td>157260.0</td>\n      <td>DRYING</td>\n      <td>142.3</td>\n      <td>2941.9</td>\n      <td>60.00</td>\n      <td>450.4</td>\n      <td>21.447</td>\n      <td>2022-05-03</td>\n      <td>1</td>\n      <td>NaN</td>\n    </tr>\n    <tr>\n      <th>42854</th>\n      <td>2022-05-03 04:49:18</td>\n      <td>157260.0</td>\n      <td>DRYING</td>\n      <td>143.3</td>\n      <td>2941.4</td>\n      <td>60.00</td>\n      <td>451.8</td>\n      <td>21.369</td>\n      <td>2022-05-03</td>\n      <td>1</td>\n      <td>NaN</td>\n    </tr>\n    <tr>\n      <th>42855</th>\n      <td>2022-05-03 04:50:18</td>\n      <td>157260.0</td>\n      <td>DRYING</td>\n      <td>144.2</td>\n      <td>2941.3</td>\n      <td>60.00</td>\n      <td>453.8</td>\n      <td>21.304</td>\n      <td>2022-05-03</td>\n      <td>1</td>\n      <td>NaN</td>\n    </tr>\n    <tr>\n      <th>42856</th>\n      <td>2022-05-03 04:51:18</td>\n      <td>157260.0</td>\n      <td>DRYING</td>\n      <td>145.2</td>\n      <td>2943.6</td>\n      <td>60.00</td>\n      <td>458.6</td>\n      <td>21.247</td>\n      <td>2022-05-03</td>\n      <td>1</td>\n      <td>NaN</td>\n    </tr>\n    <tr>\n      <th>...</th>\n      <td>...</td>\n      <td>...</td>\n      <td>...</td>\n      <td>...</td>\n      <td>...</td>\n      <td>...</td>\n      <td>...</td>\n      <td>...</td>\n      <td>...</td>\n      <td>...</td>\n      <td>...</td>\n    </tr>\n    <tr>\n      <th>43067</th>\n      <td>2022-05-03 08:22:18</td>\n      <td>157260.0</td>\n      <td>DISCHRG</td>\n      <td>180.0</td>\n      <td>388.9</td>\n      <td>38.73</td>\n      <td>726.2</td>\n      <td>27.089</td>\n      <td>2022-05-03</td>\n      <td>1</td>\n      <td>NaN</td>\n    </tr>\n    <tr>\n      <th>43068</th>\n      <td>2022-05-03 08:23:18</td>\n      <td>157260.0</td>\n      <td>DISCHRG</td>\n      <td>180.0</td>\n      <td>306.5</td>\n      <td>38.00</td>\n      <td>726.9</td>\n      <td>27.159</td>\n      <td>2022-05-03</td>\n      <td>1</td>\n      <td>NaN</td>\n    </tr>\n    <tr>\n      <th>43069</th>\n      <td>2022-05-03 08:24:18</td>\n      <td>157260.0</td>\n      <td>DISCHRG</td>\n      <td>180.0</td>\n      <td>288.6</td>\n      <td>38.00</td>\n      <td>727.6</td>\n      <td>27.230</td>\n      <td>2022-05-03</td>\n      <td>1</td>\n      <td>NaN</td>\n    </tr>\n    <tr>\n      <th>43070</th>\n      <td>2022-05-03 08:25:18</td>\n      <td>157261.0</td>\n      <td>DISCHRG</td>\n      <td>180.0</td>\n      <td>289.6</td>\n      <td>37.73</td>\n      <td>727.7</td>\n      <td>27.284</td>\n      <td>2022-05-03</td>\n      <td>1</td>\n      <td>NaN</td>\n    </tr>\n    <tr>\n      <th>43071</th>\n      <td>2022-05-03 08:26:18</td>\n      <td>157261.0</td>\n      <td>DISCHRG</td>\n      <td>180.0</td>\n      <td>283.4</td>\n      <td>37.00</td>\n      <td>727.0</td>\n      <td>27.324</td>\n      <td>2022-05-03</td>\n      <td>1</td>\n      <td>NaN</td>\n    </tr>\n  </tbody>\n</table>\n<p>220 rows × 11 columns</p>\n</div>"
     },
     "execution_count": 40,
     "metadata": {},
     "output_type": "execute_result"
    }
   ],
   "source": [
    "n = 30  # number of points to be checked before and after\n",
    "\n",
    "# Find local peaks\n",
    "df['max_temp'] = 0\n",
    "df['max_temp'] = df.iloc[argrelextrema(df.head_temp.values, np.greater_equal, order=n)]['head_temp']\n",
    "df.tail(220)"
   ]
  },
  {
   "cell_type": "markdown",
   "source": [],
   "metadata": {
    "collapsed": false
   }
  },
  {
   "cell_type": "code",
   "execution_count": 41,
   "metadata": {
    "pycharm": {
     "name": "#%%\n"
    }
   },
   "outputs": [],
   "source": [
    "df['ready'] = 0\n",
    "delta_t = 2\n",
    "for i in range (1, len(df['ready']-1)):\n",
    "    if df.max_temp.values[i] > 0:\n",
    "        local_max = df.max_temp.values[i]\n",
    "        current = df.batch.values[i]\n",
    "        while df['batch'].values[i] == current and i < len(df['ready']-1):\n",
    "            if local_max - df.head_temp.values[i] > delta_t:\n",
    "                df.ready.values[i] = 1\n",
    "            else:\n",
    "                df.ready.values[i] = 2\n",
    "            i += 1\n",
    "            \n",
    "                \n",
    "df = df.drop(['max_temp'], axis=1)\n",
    "df = df[df['phase'].str.contains ('DRYING|HEATING') == True]"
   ]
  },
  {
   "cell_type": "code",
   "execution_count": 42,
   "metadata": {
    "pycharm": {
     "name": "#%%\n"
    },
    "scrolled": true
   },
   "outputs": [
    {
     "data": {
      "text/plain": "                     time     batch   phase  heat_time  weight  head_temp  \\\n0     2022-04-03 10:35:18  157165.0  DRYING       66.2  2049.0      69.00   \n1     2022-04-03 10:36:18  157165.0  DRYING       66.2  2051.2      69.00   \n2     2022-04-03 10:37:18  157165.0  DRYING       66.2  2048.8      69.00   \n3     2022-04-03 10:38:18  157165.0  DRYING       66.2  2048.2      69.00   \n4     2022-04-03 10:39:18  157165.0  DRYING       66.2  2049.2      69.00   \n...                   ...       ...     ...        ...     ...        ...   \n43011 2022-05-03 07:26:18  157260.0  DRYING      180.0  2952.3      69.29   \n43012 2022-05-03 07:27:18  157260.0  DRYING      180.0  2950.6      70.00   \n43013 2022-05-03 07:28:18  157260.0  DRYING      180.0  2953.1      70.29   \n43014 2022-05-03 07:29:18  157260.0  DRYING      180.0  2954.3      71.00   \n43015 2022-05-03 07:30:18  157260.0  DRYING      180.0  2953.5      71.00   \n\n       head_pressure  vac_temp        date  day  ...  head_pressure_35  \\\n0              349.7    17.308  2022-04-03    6  ...             319.0   \n1              324.6    17.259  2022-04-03    6  ...             322.6   \n2              325.5    17.245  2022-04-03    6  ...             326.0   \n3              329.8    17.200  2022-04-03    6  ...             330.1   \n4              330.8    17.138  2022-04-03    6  ...             332.5   \n...              ...       ...         ...  ...  ...               ...   \n43011          395.0    21.745  2022-05-03    1  ...             501.9   \n43012          395.4    21.733  2022-05-03    1  ...             704.5   \n43013          410.9    21.751  2022-05-03    1  ...             723.0   \n43014          437.3    21.710  2022-05-03    1  ...             727.0   \n43015          442.7    21.735  2022-05-03    1  ...             727.0   \n\n       head_temp_35  weight_35  heat_time_35  vac_temp_35  head_pressure_40  \\\n0             71.00     2033.6          66.2       17.153             334.0   \n1             70.55     2030.7          66.2       17.154             344.2   \n2             70.45     2029.7          66.2       17.130             354.0   \n3             71.00     2029.8          66.2       17.127             367.7   \n4             71.00     2024.5          66.2       17.126             378.5   \n...             ...        ...           ...          ...               ...   \n43011         73.78     2942.4         180.0       21.309             727.0   \n43012         66.61     2956.7         180.0       21.439             727.0   \n43013         62.17     2947.2         180.0       21.536             727.0   \n43014         59.45     2924.6         180.0       21.542             727.0   \n43015         57.72     2838.4         180.0       21.019             718.3   \n\n       head_temp_40  weight_40  heat_time_40  vac_temp_40  \n0             71.00     2026.2          66.2       17.113  \n1             71.00     2026.9          66.2       17.156  \n2             71.00     2029.2          66.2       17.191  \n3             71.00     2034.0          66.2       17.214  \n4             71.00     2037.6          66.2       17.212  \n...             ...        ...           ...          ...  \n43011         56.72     2788.8         180.0       21.110  \n43012         55.45     2766.7         180.0       22.251  \n43013         53.73     2757.0         180.0       23.294  \n43014         52.73     2753.6         180.0       23.877  \n43015         50.37     2758.0         180.0       21.810  \n\n[20591 rows x 31 columns]",
      "text/html": "<div>\n<style scoped>\n    .dataframe tbody tr th:only-of-type {\n        vertical-align: middle;\n    }\n\n    .dataframe tbody tr th {\n        vertical-align: top;\n    }\n\n    .dataframe thead th {\n        text-align: right;\n    }\n</style>\n<table border=\"1\" class=\"dataframe\">\n  <thead>\n    <tr style=\"text-align: right;\">\n      <th></th>\n      <th>time</th>\n      <th>batch</th>\n      <th>phase</th>\n      <th>heat_time</th>\n      <th>weight</th>\n      <th>head_temp</th>\n      <th>head_pressure</th>\n      <th>vac_temp</th>\n      <th>date</th>\n      <th>day</th>\n      <th>...</th>\n      <th>head_pressure_35</th>\n      <th>head_temp_35</th>\n      <th>weight_35</th>\n      <th>heat_time_35</th>\n      <th>vac_temp_35</th>\n      <th>head_pressure_40</th>\n      <th>head_temp_40</th>\n      <th>weight_40</th>\n      <th>heat_time_40</th>\n      <th>vac_temp_40</th>\n    </tr>\n  </thead>\n  <tbody>\n    <tr>\n      <th>0</th>\n      <td>2022-04-03 10:35:18</td>\n      <td>157165.0</td>\n      <td>DRYING</td>\n      <td>66.2</td>\n      <td>2049.0</td>\n      <td>69.00</td>\n      <td>349.7</td>\n      <td>17.308</td>\n      <td>2022-04-03</td>\n      <td>6</td>\n      <td>...</td>\n      <td>319.0</td>\n      <td>71.00</td>\n      <td>2033.6</td>\n      <td>66.2</td>\n      <td>17.153</td>\n      <td>334.0</td>\n      <td>71.00</td>\n      <td>2026.2</td>\n      <td>66.2</td>\n      <td>17.113</td>\n    </tr>\n    <tr>\n      <th>1</th>\n      <td>2022-04-03 10:36:18</td>\n      <td>157165.0</td>\n      <td>DRYING</td>\n      <td>66.2</td>\n      <td>2051.2</td>\n      <td>69.00</td>\n      <td>324.6</td>\n      <td>17.259</td>\n      <td>2022-04-03</td>\n      <td>6</td>\n      <td>...</td>\n      <td>322.6</td>\n      <td>70.55</td>\n      <td>2030.7</td>\n      <td>66.2</td>\n      <td>17.154</td>\n      <td>344.2</td>\n      <td>71.00</td>\n      <td>2026.9</td>\n      <td>66.2</td>\n      <td>17.156</td>\n    </tr>\n    <tr>\n      <th>2</th>\n      <td>2022-04-03 10:37:18</td>\n      <td>157165.0</td>\n      <td>DRYING</td>\n      <td>66.2</td>\n      <td>2048.8</td>\n      <td>69.00</td>\n      <td>325.5</td>\n      <td>17.245</td>\n      <td>2022-04-03</td>\n      <td>6</td>\n      <td>...</td>\n      <td>326.0</td>\n      <td>70.45</td>\n      <td>2029.7</td>\n      <td>66.2</td>\n      <td>17.130</td>\n      <td>354.0</td>\n      <td>71.00</td>\n      <td>2029.2</td>\n      <td>66.2</td>\n      <td>17.191</td>\n    </tr>\n    <tr>\n      <th>3</th>\n      <td>2022-04-03 10:38:18</td>\n      <td>157165.0</td>\n      <td>DRYING</td>\n      <td>66.2</td>\n      <td>2048.2</td>\n      <td>69.00</td>\n      <td>329.8</td>\n      <td>17.200</td>\n      <td>2022-04-03</td>\n      <td>6</td>\n      <td>...</td>\n      <td>330.1</td>\n      <td>71.00</td>\n      <td>2029.8</td>\n      <td>66.2</td>\n      <td>17.127</td>\n      <td>367.7</td>\n      <td>71.00</td>\n      <td>2034.0</td>\n      <td>66.2</td>\n      <td>17.214</td>\n    </tr>\n    <tr>\n      <th>4</th>\n      <td>2022-04-03 10:39:18</td>\n      <td>157165.0</td>\n      <td>DRYING</td>\n      <td>66.2</td>\n      <td>2049.2</td>\n      <td>69.00</td>\n      <td>330.8</td>\n      <td>17.138</td>\n      <td>2022-04-03</td>\n      <td>6</td>\n      <td>...</td>\n      <td>332.5</td>\n      <td>71.00</td>\n      <td>2024.5</td>\n      <td>66.2</td>\n      <td>17.126</td>\n      <td>378.5</td>\n      <td>71.00</td>\n      <td>2037.6</td>\n      <td>66.2</td>\n      <td>17.212</td>\n    </tr>\n    <tr>\n      <th>...</th>\n      <td>...</td>\n      <td>...</td>\n      <td>...</td>\n      <td>...</td>\n      <td>...</td>\n      <td>...</td>\n      <td>...</td>\n      <td>...</td>\n      <td>...</td>\n      <td>...</td>\n      <td>...</td>\n      <td>...</td>\n      <td>...</td>\n      <td>...</td>\n      <td>...</td>\n      <td>...</td>\n      <td>...</td>\n      <td>...</td>\n      <td>...</td>\n      <td>...</td>\n      <td>...</td>\n    </tr>\n    <tr>\n      <th>43011</th>\n      <td>2022-05-03 07:26:18</td>\n      <td>157260.0</td>\n      <td>DRYING</td>\n      <td>180.0</td>\n      <td>2952.3</td>\n      <td>69.29</td>\n      <td>395.0</td>\n      <td>21.745</td>\n      <td>2022-05-03</td>\n      <td>1</td>\n      <td>...</td>\n      <td>501.9</td>\n      <td>73.78</td>\n      <td>2942.4</td>\n      <td>180.0</td>\n      <td>21.309</td>\n      <td>727.0</td>\n      <td>56.72</td>\n      <td>2788.8</td>\n      <td>180.0</td>\n      <td>21.110</td>\n    </tr>\n    <tr>\n      <th>43012</th>\n      <td>2022-05-03 07:27:18</td>\n      <td>157260.0</td>\n      <td>DRYING</td>\n      <td>180.0</td>\n      <td>2950.6</td>\n      <td>70.00</td>\n      <td>395.4</td>\n      <td>21.733</td>\n      <td>2022-05-03</td>\n      <td>1</td>\n      <td>...</td>\n      <td>704.5</td>\n      <td>66.61</td>\n      <td>2956.7</td>\n      <td>180.0</td>\n      <td>21.439</td>\n      <td>727.0</td>\n      <td>55.45</td>\n      <td>2766.7</td>\n      <td>180.0</td>\n      <td>22.251</td>\n    </tr>\n    <tr>\n      <th>43013</th>\n      <td>2022-05-03 07:28:18</td>\n      <td>157260.0</td>\n      <td>DRYING</td>\n      <td>180.0</td>\n      <td>2953.1</td>\n      <td>70.29</td>\n      <td>410.9</td>\n      <td>21.751</td>\n      <td>2022-05-03</td>\n      <td>1</td>\n      <td>...</td>\n      <td>723.0</td>\n      <td>62.17</td>\n      <td>2947.2</td>\n      <td>180.0</td>\n      <td>21.536</td>\n      <td>727.0</td>\n      <td>53.73</td>\n      <td>2757.0</td>\n      <td>180.0</td>\n      <td>23.294</td>\n    </tr>\n    <tr>\n      <th>43014</th>\n      <td>2022-05-03 07:29:18</td>\n      <td>157260.0</td>\n      <td>DRYING</td>\n      <td>180.0</td>\n      <td>2954.3</td>\n      <td>71.00</td>\n      <td>437.3</td>\n      <td>21.710</td>\n      <td>2022-05-03</td>\n      <td>1</td>\n      <td>...</td>\n      <td>727.0</td>\n      <td>59.45</td>\n      <td>2924.6</td>\n      <td>180.0</td>\n      <td>21.542</td>\n      <td>727.0</td>\n      <td>52.73</td>\n      <td>2753.6</td>\n      <td>180.0</td>\n      <td>23.877</td>\n    </tr>\n    <tr>\n      <th>43015</th>\n      <td>2022-05-03 07:30:18</td>\n      <td>157260.0</td>\n      <td>DRYING</td>\n      <td>180.0</td>\n      <td>2953.5</td>\n      <td>71.00</td>\n      <td>442.7</td>\n      <td>21.735</td>\n      <td>2022-05-03</td>\n      <td>1</td>\n      <td>...</td>\n      <td>727.0</td>\n      <td>57.72</td>\n      <td>2838.4</td>\n      <td>180.0</td>\n      <td>21.019</td>\n      <td>718.3</td>\n      <td>50.37</td>\n      <td>2758.0</td>\n      <td>180.0</td>\n      <td>21.810</td>\n    </tr>\n  </tbody>\n</table>\n<p>20591 rows × 31 columns</p>\n</div>"
     },
     "execution_count": 42,
     "metadata": {},
     "output_type": "execute_result"
    }
   ],
   "source": [
    "df['head_pressure_20'] = df['head_pressure'].shift(-20)\n",
    "df['head_temp_20'] = df['head_temp'].shift(-20)\n",
    "df['weight_20'] = df['weight'].shift(-20)\n",
    "df['heat_time_20'] = df['heat_time'].shift(-20)\n",
    "df['vac_temp_20'] = df['vac_temp'].shift(-20)\n",
    "\n",
    "df['head_pressure_30'] = df['head_pressure'].shift(-30)\n",
    "df['head_temp_30'] = df['head_temp'].shift(-30)\n",
    "df['weight_30'] = df['weight'].shift(-30)\n",
    "df['heat_time_30'] = df['heat_time'].shift(-30)\n",
    "df['vac_temp_30'] = df['vac_temp'].shift(-30)\n",
    "\n",
    "df['head_pressure_35'] = df['head_pressure'].shift(-35)\n",
    "df['head_temp_35'] = df['head_temp'].shift(-35)\n",
    "df['weight_35'] = df['weight'].shift(-35)\n",
    "df['heat_time_35'] = df['heat_time'].shift(-35)\n",
    "df['vac_temp_35'] = df['vac_temp'].shift(-35)\n",
    "\n",
    "df['head_pressure_40'] = df['head_pressure'].shift(-40)\n",
    "df['head_temp_40'] = df['head_temp'].shift(-40)\n",
    "df['weight_40'] = df['weight'].shift(-40)\n",
    "df['heat_time_40'] = df['heat_time'].shift(-40)\n",
    "df['vac_temp_40'] = df['vac_temp'].shift(-40)\n",
    "df.dropna(inplace=True)\n",
    "df\n"
   ]
  },
  {
   "cell_type": "code",
   "execution_count": 43,
   "metadata": {
    "pycharm": {
     "name": "#%%\n"
    }
   },
   "outputs": [],
   "source": [
    "# def load_query(path):\n",
    "#     with open(path) as file:\n",
    "#         return file.read()"
   ]
  },
  {
   "cell_type": "code",
   "execution_count": 44,
   "metadata": {
    "pycharm": {
     "name": "#%%\n"
    }
   },
   "outputs": [],
   "source": [
    "# query = load_query('queries/daily_cycles.sql')\n",
    "# daily_cycles = pysqldf(query)"
   ]
  },
  {
   "cell_type": "code",
   "execution_count": 45,
   "metadata": {
    "pycharm": {
     "name": "#%%\n"
    }
   },
   "outputs": [],
   "source": [
    "# daily_cycles.sample(4)"
   ]
  },
  {
   "cell_type": "code",
   "execution_count": 46,
   "metadata": {
    "pycharm": {
     "name": "#%%\n"
    }
   },
   "outputs": [],
   "source": [
    "# daily_cycles.describe()"
   ]
  },
  {
   "cell_type": "code",
   "execution_count": 47,
   "metadata": {
    "pycharm": {
     "name": "#%%\n"
    }
   },
   "outputs": [],
   "source": [
    "import logging\n",
    "logging.getLogger().setLevel(logging.CRITICAL)"
   ]
  },
  {
   "cell_type": "code",
   "execution_count": 48,
   "metadata": {
    "pycharm": {
     "name": "#%%\n"
    }
   },
   "outputs": [],
   "source": [
    "# plt.rcParams.update({'figure.figsize': (17, 3), 'figure.dpi': 300})\n",
    "# fig, ax = plt.subplots()\n",
    "# sns.lineplot(data=daily_cycles.tail(50), x='DATE', y='num_cycles')\n",
    "# plt.grid(linestyle='-', linewidth=0.3)\n",
    "# ax.tick_params(axis='x', rotation=90)"
   ]
  },
  {
   "cell_type": "code",
   "execution_count": 49,
   "metadata": {
    "pycharm": {
     "name": "#%%\n"
    }
   },
   "outputs": [],
   "source": [
    "# query = load_query('queries/weekly_cycles.sql')\n",
    "# weekly_cycles = pysqldf(query)"
   ]
  },
  {
   "cell_type": "code",
   "execution_count": 50,
   "metadata": {
    "pycharm": {
     "name": "#%%\n"
    }
   },
   "outputs": [],
   "source": [
    "# weekly_cycles.tail()"
   ]
  },
  {
   "cell_type": "code",
   "execution_count": 51,
   "metadata": {
    "pycharm": {
     "name": "#%%\n"
    }
   },
   "outputs": [],
   "source": [
    "# plt.rcParams.update({'figure.figsize': (17, 3), 'figure.dpi': 300})\n",
    "# fig, ax = plt.subplots()\n",
    "# sns.lineplot(data=weekly_cycles.tail(50), x='week', y='num_cycles')\n",
    "# plt.grid(linestyle='-', linewidth=0.3)\n",
    "# ax.tick_params(axis='x', rotation=90)"
   ]
  },
  {
   "cell_type": "code",
   "execution_count": 52,
   "outputs": [],
   "source": [
    "df = df[df['ready'] < 2]"
   ],
   "metadata": {
    "collapsed": false,
    "pycharm": {
     "name": "#%%\n"
    }
   }
  },
  {
   "cell_type": "code",
   "execution_count": 53,
   "metadata": {
    "pycharm": {
     "name": "#%%\n"
    }
   },
   "outputs": [],
   "source": [
    "features = [\n",
    "            # 'heat_time', 'weight', 'head_temp', 'head_pressure', 'vac_temp',\n",
    "            # 'heat_time_20', 'weight_20', 'head_temp_20', 'head_pressure_20', 'vac_temp_20',\n",
    "            # 'heat_time_30', 'weight_30', 'head_temp_30', 'head_pressure_30', 'vac_temp_30',\n",
    "            'heat_time_35', 'weight_35', 'head_temp_35', 'head_pressure_35', 'vac_temp_35',\n",
    "            'heat_time_40', 'weight_40', 'head_temp_40', 'head_pressure_40', 'vac_temp_40'\n",
    "            ]\n",
    "label = ['ready']\n",
    "train_df = df.head(int(df.shape[0]*.75))\n",
    "test_df = df.tail(int(df.shape[0]*0.25))\n",
    "\n",
    "\n",
    "X_train, y_train = train_df[features], train_df[label]\n",
    "X_test, y_test = test_df[features], test_df[label]\n"
   ]
  },
  {
   "cell_type": "code",
   "execution_count": 54,
   "metadata": {
    "pycharm": {
     "name": "#%%\n"
    }
   },
   "outputs": [],
   "source": [
    "clf_xgb = xgb.XGBClassifier(objective='binary:logistic',\n",
    "                            # gamma=0.25,\n",
    "                            max_depth=8,\n",
    "                            seed=42)"
   ]
  },
  {
   "cell_type": "code",
   "execution_count": 55,
   "metadata": {
    "pycharm": {
     "name": "#%%\n"
    }
   },
   "outputs": [
    {
     "name": "stdout",
     "output_type": "stream",
     "text": [
      "[0]\tvalidation_0-aucpr:0.99651\tvalidation_1-aucpr:0.93771\n",
      "[1]\tvalidation_0-aucpr:0.99887\tvalidation_1-aucpr:0.93926\n",
      "[2]\tvalidation_0-aucpr:0.99913\tvalidation_1-aucpr:0.94278\n",
      "[3]\tvalidation_0-aucpr:0.99926\tvalidation_1-aucpr:0.94275\n",
      "[4]\tvalidation_0-aucpr:0.99977\tvalidation_1-aucpr:0.93650\n",
      "[5]\tvalidation_0-aucpr:0.99983\tvalidation_1-aucpr:0.94108\n",
      "[6]\tvalidation_0-aucpr:0.99991\tvalidation_1-aucpr:0.94336\n"
     ]
    },
    {
     "name": "stderr",
     "output_type": "stream",
     "text": [
      "C:\\Users\\lbushman\\.virtualenvs\\drayers-ZSJxV8Z-\\lib\\site-packages\\xgboost\\sklearn.py:1224: UserWarning: The use of label encoder in XGBClassifier is deprecated and will be removed in a future release. To remove this warning, do the following: 1) Pass option use_label_encoder=False when constructing XGBClassifier object; and 2) Encode your labels (y) as integers starting with 0, i.e. 0, 1, 2, ..., [num_class - 1].\n",
      "  warnings.warn(label_encoder_deprecation_msg, UserWarning)\n",
      "C:\\Users\\lbushman\\.virtualenvs\\drayers-ZSJxV8Z-\\lib\\site-packages\\sklearn\\preprocessing\\_label.py:98: DataConversionWarning: A column-vector y was passed when a 1d array was expected. Please change the shape of y to (n_samples, ), for example using ravel().\n",
      "  y = column_or_1d(y, warn=True)\n",
      "C:\\Users\\lbushman\\.virtualenvs\\drayers-ZSJxV8Z-\\lib\\site-packages\\sklearn\\preprocessing\\_label.py:133: DataConversionWarning: A column-vector y was passed when a 1d array was expected. Please change the shape of y to (n_samples, ), for example using ravel().\n",
      "  y = column_or_1d(y, warn=True)\n",
      "C:\\Users\\lbushman\\.virtualenvs\\drayers-ZSJxV8Z-\\lib\\site-packages\\xgboost\\data.py:262: FutureWarning: pandas.Int64Index is deprecated and will be removed from pandas in a future version. Use pandas.Index with the appropriate dtype instead.\n",
      "  elif isinstance(data.columns, (pd.Int64Index, pd.RangeIndex)):\n"
     ]
    },
    {
     "name": "stdout",
     "output_type": "stream",
     "text": [
      "[7]\tvalidation_0-aucpr:0.99995\tvalidation_1-aucpr:0.94718\n",
      "[8]\tvalidation_0-aucpr:0.99997\tvalidation_1-aucpr:0.95325\n",
      "[9]\tvalidation_0-aucpr:0.99999\tvalidation_1-aucpr:0.95536\n",
      "[10]\tvalidation_0-aucpr:0.99999\tvalidation_1-aucpr:0.95355\n",
      "[11]\tvalidation_0-aucpr:0.99999\tvalidation_1-aucpr:0.95470\n",
      "[12]\tvalidation_0-aucpr:0.99999\tvalidation_1-aucpr:0.95552\n",
      "[13]\tvalidation_0-aucpr:1.00000\tvalidation_1-aucpr:0.95430\n",
      "[14]\tvalidation_0-aucpr:1.00000\tvalidation_1-aucpr:0.95497\n",
      "[15]\tvalidation_0-aucpr:1.00000\tvalidation_1-aucpr:0.95748\n",
      "[16]\tvalidation_0-aucpr:1.00000\tvalidation_1-aucpr:0.95645\n",
      "[17]\tvalidation_0-aucpr:1.00000\tvalidation_1-aucpr:0.95915\n",
      "[18]\tvalidation_0-aucpr:1.00000\tvalidation_1-aucpr:0.95796\n",
      "[19]\tvalidation_0-aucpr:1.00000\tvalidation_1-aucpr:0.95867\n",
      "[20]\tvalidation_0-aucpr:1.00000\tvalidation_1-aucpr:0.95862\n",
      "[21]\tvalidation_0-aucpr:1.00000\tvalidation_1-aucpr:0.95680\n",
      "[22]\tvalidation_0-aucpr:1.00000\tvalidation_1-aucpr:0.96046\n",
      "[23]\tvalidation_0-aucpr:1.00000\tvalidation_1-aucpr:0.95895\n",
      "[24]\tvalidation_0-aucpr:1.00000\tvalidation_1-aucpr:0.95955\n",
      "[25]\tvalidation_0-aucpr:1.00000\tvalidation_1-aucpr:0.95797\n",
      "[26]\tvalidation_0-aucpr:1.00000\tvalidation_1-aucpr:0.95940\n",
      "[27]\tvalidation_0-aucpr:1.00000\tvalidation_1-aucpr:0.95831\n",
      "[28]\tvalidation_0-aucpr:1.00000\tvalidation_1-aucpr:0.96025\n",
      "[29]\tvalidation_0-aucpr:1.00000\tvalidation_1-aucpr:0.95847\n",
      "[30]\tvalidation_0-aucpr:1.00000\tvalidation_1-aucpr:0.96007\n",
      "[31]\tvalidation_0-aucpr:1.00000\tvalidation_1-aucpr:0.96014\n"
     ]
    },
    {
     "data": {
      "text/plain": "XGBClassifier(base_score=0.5, booster='gbtree', colsample_bylevel=1,\n              colsample_bynode=1, colsample_bytree=1, enable_categorical=False,\n              gamma=0, gpu_id=-1, importance_type=None,\n              interaction_constraints='', learning_rate=0.300000012,\n              max_delta_step=0, max_depth=8, min_child_weight=1, missing=nan,\n              monotone_constraints='()', n_estimators=100, n_jobs=8,\n              num_parallel_tree=1, predictor='auto', random_state=42,\n              reg_alpha=0, reg_lambda=1, scale_pos_weight=1, seed=42,\n              subsample=1, tree_method='exact', validate_parameters=1,\n              verbosity=None)"
     },
     "execution_count": 55,
     "metadata": {},
     "output_type": "execute_result"
    }
   ],
   "source": [
    "clf_xgb.fit(X_train,\n",
    "            y_train,\n",
    "            verbose=True,\n",
    "            early_stopping_rounds=10,\n",
    "            eval_metric='aucpr',\n",
    "            eval_set=[(X_train, y_train),(X_test, y_test)])"
   ]
  },
  {
   "cell_type": "code",
   "execution_count": 56,
   "metadata": {},
   "outputs": [
    {
     "data": {
      "text/plain": "<AxesSubplot:>"
     },
     "execution_count": 56,
     "metadata": {},
     "output_type": "execute_result"
    },
    {
     "data": {
      "text/plain": "<Figure size 432x288 with 2 Axes>",
      "image/png": "[encoded data removed]"
     },
     "metadata": {
      "needs_background": "light"
     },
     "output_type": "display_data"
    }
   ],
   "source": [
    "from sklearn.metrics import confusion_matrix\n",
    "import seaborn as sns\n",
    "\n",
    "pred = clf_xgb.predict_proba(X_test)[:,1]\n",
    "thr=0.7\n",
    "sns.heatmap(confusion_matrix(y_test,pred>thr),annot=True,fmt='', cmap='Blues')"
   ]
  },
  {
   "cell_type": "code",
   "execution_count": 57,
   "metadata": {},
   "outputs": [
    {
     "data": {
      "text/plain": "[<matplotlib.lines.Line2D at 0x294542fc3a0>]"
     },
     "execution_count": 57,
     "metadata": {},
     "output_type": "execute_result"
    },
    {
     "data": {
      "text/plain": "<Figure size 432x288 with 1 Axes>",
      "image/png": "[encoded data removed]"
     },
     "metadata": {
      "needs_background": "light"
     },
     "output_type": "display_data"
    }
   ],
   "source": [
    "plt.plot(pd.Series(pred[-1000:]))"
   ]
  },
  {
   "cell_type": "code",
   "execution_count": 58,
   "metadata": {
    "pycharm": {
     "name": "#%%\n"
    }
   },
   "outputs": [
    {
     "name": "stderr",
     "output_type": "stream",
     "text": [
      "C:\\Users\\lbushman\\.virtualenvs\\drayers-ZSJxV8Z-\\lib\\site-packages\\sklearn\\utils\\deprecation.py:87: FutureWarning: Function plot_confusion_matrix is deprecated; Function `plot_confusion_matrix` is deprecated in 1.0 and will be removed in 1.2. Use one of the class methods: ConfusionMatrixDisplay.from_predictions or ConfusionMatrixDisplay.from_estimator.\n",
      "  warnings.warn(msg, category=FutureWarning)\n",
      "C:\\Users\\lbushman\\.virtualenvs\\drayers-ZSJxV8Z-\\lib\\site-packages\\xgboost\\data.py:262: FutureWarning: pandas.Int64Index is deprecated and will be removed from pandas in a future version. Use pandas.Index with the appropriate dtype instead.\n",
      "  elif isinstance(data.columns, (pd.Int64Index, pd.RangeIndex)):\n"
     ]
    },
    {
     "data": {
      "text/plain": "<sklearn.metrics._plot.confusion_matrix.ConfusionMatrixDisplay at 0x294542ff1f0>"
     },
     "execution_count": 58,
     "metadata": {},
     "output_type": "execute_result"
    },
    {
     "data": {
      "text/plain": "<Figure size 432x288 with 2 Axes>",
      "image/png": "[encoded data removed]"
     },
     "metadata": {
      "needs_background": "light"
     },
     "output_type": "display_data"
    }
   ],
   "source": [
    "plot_confusion_matrix(clf_xgb,\n",
    "                      X_test,\n",
    "                      y_test,\n",
    "                      cmap='Blues',\n",
    "                      display_labels=['Ready', 'Not Ready'])"
   ]
  },
  {
   "cell_type": "code",
   "execution_count": 59,
   "metadata": {
    "pycharm": {
     "name": "#%%\n"
    }
   },
   "outputs": [
    {
     "name": "stdout",
     "output_type": "stream",
     "text": [
      "weight:  {'heat_time_35': 213.0, 'weight_35': 280.0, 'head_temp_35': 156.0, 'head_pressure_35': 107.0, 'vac_temp_35': 162.0, 'heat_time_40': 93.0, 'weight_40': 126.0, 'head_temp_40': 68.0, 'head_pressure_40': 166.0, 'vac_temp_40': 139.0}\n",
      "gain:  {'heat_time_35': 24.94470977783203, 'weight_35': 7.817847728729248, 'head_temp_35': 13.803007125854492, 'head_pressure_35': 4.852035999298096, 'vac_temp_35': 7.746304512023926, 'heat_time_40': 16.600141525268555, 'weight_40': 4.489468574523926, 'head_temp_40': 3.3621103763580322, 'head_pressure_40': 4.2697272300720215, 'vac_temp_40': 2.765622138977051}\n",
      "cover:  {'heat_time_35': 107.87401580810547, 'weight_35': 48.038333892822266, 'head_temp_35': 81.74525451660156, 'head_pressure_35': 33.28761672973633, 'vac_temp_35': 31.898380279541016, 'heat_time_40': 67.73614501953125, 'weight_40': 34.36109924316406, 'head_temp_40': 23.701126098632812, 'head_pressure_40': 47.55554962158203, 'vac_temp_40': 20.668001174926758}\n",
      "total_gain:  {'heat_time_35': 5313.22314453125, 'weight_35': 2188.997314453125, 'head_temp_35': 2153.26904296875, 'head_pressure_35': 519.1678466796875, 'vac_temp_35': 1254.9013671875, 'heat_time_40': 1543.8131103515625, 'weight_40': 565.6730346679688, 'head_temp_40': 228.62350463867188, 'head_pressure_40': 708.7747192382812, 'vac_temp_40': 384.4214782714844}\n",
      "total_cover:  {'heat_time_35': 22977.166015625, 'weight_35': 13450.7333984375, 'head_temp_35': 12752.259765625, 'head_pressure_35': 3561.775146484375, 'vac_temp_35': 5167.53759765625, 'heat_time_40': 6299.46142578125, 'weight_40': 4329.49853515625, 'head_temp_40': 1611.6766357421875, 'head_pressure_40': 7894.22119140625, 'vac_temp_40': 2872.852294921875}\n"
     ]
    }
   ],
   "source": [
    "bst = clf_xgb.get_booster()\n",
    "for importance_type in ('weight','gain', 'cover', 'total_gain','total_cover'):\n",
    "    print('%s: ' % importance_type, bst.get_score(importance_type=importance_type))"
   ]
  },
  {
   "cell_type": "code",
   "execution_count": 60,
   "outputs": [
    {
     "name": "stderr",
     "output_type": "stream",
     "text": [
      "C:\\Users\\lbushman\\.virtualenvs\\drayers-ZSJxV8Z-\\lib\\site-packages\\xgboost\\data.py:262: FutureWarning: pandas.Int64Index is deprecated and will be removed from pandas in a future version. Use pandas.Index with the appropriate dtype instead.\n",
      "  elif isinstance(data.columns, (pd.Int64Index, pd.RangeIndex)):\n"
     ]
    },
    {
     "data": {
      "text/plain": "0.8113207547169812"
     },
     "execution_count": 60,
     "metadata": {},
     "output_type": "execute_result"
    }
   ],
   "source": [
    " from sklearn.metrics import accuracy_score\n",
    "\n",
    "accuracy_score(y_true=y_test, y_pred=clf_xgb.predict_proba(X_test)[:,1]>0.5, normalize=True)"
   ],
   "metadata": {
    "collapsed": false,
    "pycharm": {
     "name": "#%%\n"
    }
   }
  },
  {
   "cell_type": "code",
   "execution_count": 61,
   "outputs": [
    {
     "name": "stdout",
     "output_type": "stream",
     "text": [
      "              precision    recall  f1-score   support\n",
      "\n",
      "       ready       0.53      0.57      0.55       484\n",
      "     not yet       0.89      0.87      0.88      1901\n",
      "\n",
      "    accuracy                           0.81      2385\n",
      "   macro avg       0.71      0.72      0.72      2385\n",
      "weighted avg       0.82      0.81      0.81      2385\n",
      "\n"
     ]
    },
    {
     "name": "stderr",
     "output_type": "stream",
     "text": [
      "C:\\Users\\lbushman\\.virtualenvs\\drayers-ZSJxV8Z-\\lib\\site-packages\\xgboost\\data.py:262: FutureWarning: pandas.Int64Index is deprecated and will be removed from pandas in a future version. Use pandas.Index with the appropriate dtype instead.\n",
      "  elif isinstance(data.columns, (pd.Int64Index, pd.RangeIndex)):\n"
     ]
    }
   ],
   "source": [
    "from sklearn.metrics import classification_report\n",
    "\n",
    "print(classification_report(y_true=y_test, y_pred=clf_xgb.predict_proba(X_test)[:,1]>0.5, target_names=['ready', 'not yet']))"
   ],
   "metadata": {
    "collapsed": false,
    "pycharm": {
     "name": "#%%\n"
    }
   }
  },
  {
   "cell_type": "code",
   "execution_count": 62,
   "outputs": [
    {
     "ename": "ExecutableNotFound",
     "evalue": "failed to execute WindowsPath('dot'), make sure the Graphviz executables are on your systems' PATH",
     "output_type": "error",
     "traceback": [
      "\u001B[1;31m---------------------------------------------------------------------------\u001B[0m",
      "\u001B[1;31mFileNotFoundError\u001B[0m                         Traceback (most recent call last)",
      "File \u001B[1;32m~\\.virtualenvs\\drayers-ZSJxV8Z-\\lib\\site-packages\\graphviz\\backend\\execute.py:83\u001B[0m, in \u001B[0;36mrun_check\u001B[1;34m(cmd, input_lines, encoding, capture_output, quiet, **kwargs)\u001B[0m\n\u001B[0;32m     82\u001B[0m     \u001B[38;5;28;01massert\u001B[39;00m \u001B[38;5;28miter\u001B[39m(input_lines) \u001B[38;5;129;01mis\u001B[39;00m input_lines\n\u001B[1;32m---> 83\u001B[0m     proc \u001B[38;5;241m=\u001B[39m \u001B[43m_run_input_lines\u001B[49m\u001B[43m(\u001B[49m\u001B[43mcmd\u001B[49m\u001B[43m,\u001B[49m\u001B[43m \u001B[49m\u001B[43minput_lines\u001B[49m\u001B[43m,\u001B[49m\u001B[43m \u001B[49m\u001B[43mkwargs\u001B[49m\u001B[38;5;241;43m=\u001B[39;49m\u001B[43mkwargs\u001B[49m\u001B[43m)\u001B[49m\n\u001B[0;32m     84\u001B[0m \u001B[38;5;28;01melse\u001B[39;00m:\n",
      "File \u001B[1;32m~\\.virtualenvs\\drayers-ZSJxV8Z-\\lib\\site-packages\\graphviz\\backend\\execute.py:103\u001B[0m, in \u001B[0;36m_run_input_lines\u001B[1;34m(cmd, input_lines, kwargs)\u001B[0m\n\u001B[0;32m    102\u001B[0m \u001B[38;5;28;01mdef\u001B[39;00m \u001B[38;5;21m_run_input_lines\u001B[39m(cmd, input_lines, \u001B[38;5;241m*\u001B[39m, kwargs):\n\u001B[1;32m--> 103\u001B[0m     popen \u001B[38;5;241m=\u001B[39m subprocess\u001B[38;5;241m.\u001B[39mPopen(cmd, stdin\u001B[38;5;241m=\u001B[39msubprocess\u001B[38;5;241m.\u001B[39mPIPE, \u001B[38;5;241m*\u001B[39m\u001B[38;5;241m*\u001B[39mkwargs)\n\u001B[0;32m    105\u001B[0m     stdin_write \u001B[38;5;241m=\u001B[39m popen\u001B[38;5;241m.\u001B[39mstdin\u001B[38;5;241m.\u001B[39mwrite\n",
      "File \u001B[1;32m~\\AppData\\Local\\Programs\\Python\\Python310\\lib\\subprocess.py:966\u001B[0m, in \u001B[0;36mPopen.__init__\u001B[1;34m(self, args, bufsize, executable, stdin, stdout, stderr, preexec_fn, close_fds, shell, cwd, env, universal_newlines, startupinfo, creationflags, restore_signals, start_new_session, pass_fds, user, group, extra_groups, encoding, errors, text, umask, pipesize)\u001B[0m\n\u001B[0;32m    963\u001B[0m             \u001B[38;5;28mself\u001B[39m\u001B[38;5;241m.\u001B[39mstderr \u001B[38;5;241m=\u001B[39m io\u001B[38;5;241m.\u001B[39mTextIOWrapper(\u001B[38;5;28mself\u001B[39m\u001B[38;5;241m.\u001B[39mstderr,\n\u001B[0;32m    964\u001B[0m                     encoding\u001B[38;5;241m=\u001B[39mencoding, errors\u001B[38;5;241m=\u001B[39merrors)\n\u001B[1;32m--> 966\u001B[0m     \u001B[38;5;28;43mself\u001B[39;49m\u001B[38;5;241;43m.\u001B[39;49m\u001B[43m_execute_child\u001B[49m\u001B[43m(\u001B[49m\u001B[43margs\u001B[49m\u001B[43m,\u001B[49m\u001B[43m \u001B[49m\u001B[43mexecutable\u001B[49m\u001B[43m,\u001B[49m\u001B[43m \u001B[49m\u001B[43mpreexec_fn\u001B[49m\u001B[43m,\u001B[49m\u001B[43m \u001B[49m\u001B[43mclose_fds\u001B[49m\u001B[43m,\u001B[49m\n\u001B[0;32m    967\u001B[0m \u001B[43m                        \u001B[49m\u001B[43mpass_fds\u001B[49m\u001B[43m,\u001B[49m\u001B[43m \u001B[49m\u001B[43mcwd\u001B[49m\u001B[43m,\u001B[49m\u001B[43m \u001B[49m\u001B[43menv\u001B[49m\u001B[43m,\u001B[49m\n\u001B[0;32m    968\u001B[0m \u001B[43m                        \u001B[49m\u001B[43mstartupinfo\u001B[49m\u001B[43m,\u001B[49m\u001B[43m \u001B[49m\u001B[43mcreationflags\u001B[49m\u001B[43m,\u001B[49m\u001B[43m \u001B[49m\u001B[43mshell\u001B[49m\u001B[43m,\u001B[49m\n\u001B[0;32m    969\u001B[0m \u001B[43m                        \u001B[49m\u001B[43mp2cread\u001B[49m\u001B[43m,\u001B[49m\u001B[43m \u001B[49m\u001B[43mp2cwrite\u001B[49m\u001B[43m,\u001B[49m\n\u001B[0;32m    970\u001B[0m \u001B[43m                        \u001B[49m\u001B[43mc2pread\u001B[49m\u001B[43m,\u001B[49m\u001B[43m \u001B[49m\u001B[43mc2pwrite\u001B[49m\u001B[43m,\u001B[49m\n\u001B[0;32m    971\u001B[0m \u001B[43m                        \u001B[49m\u001B[43merrread\u001B[49m\u001B[43m,\u001B[49m\u001B[43m \u001B[49m\u001B[43merrwrite\u001B[49m\u001B[43m,\u001B[49m\n\u001B[0;32m    972\u001B[0m \u001B[43m                        \u001B[49m\u001B[43mrestore_signals\u001B[49m\u001B[43m,\u001B[49m\n\u001B[0;32m    973\u001B[0m \u001B[43m                        \u001B[49m\u001B[43mgid\u001B[49m\u001B[43m,\u001B[49m\u001B[43m \u001B[49m\u001B[43mgids\u001B[49m\u001B[43m,\u001B[49m\u001B[43m \u001B[49m\u001B[43muid\u001B[49m\u001B[43m,\u001B[49m\u001B[43m \u001B[49m\u001B[43mumask\u001B[49m\u001B[43m,\u001B[49m\n\u001B[0;32m    974\u001B[0m \u001B[43m                        \u001B[49m\u001B[43mstart_new_session\u001B[49m\u001B[43m)\u001B[49m\n\u001B[0;32m    975\u001B[0m \u001B[38;5;28;01mexcept\u001B[39;00m:\n\u001B[0;32m    976\u001B[0m     \u001B[38;5;66;03m# Cleanup if the child failed starting.\u001B[39;00m\n",
      "File \u001B[1;32m~\\AppData\\Local\\Programs\\Python\\Python310\\lib\\subprocess.py:1435\u001B[0m, in \u001B[0;36mPopen._execute_child\u001B[1;34m(self, args, executable, preexec_fn, close_fds, pass_fds, cwd, env, startupinfo, creationflags, shell, p2cread, p2cwrite, c2pread, c2pwrite, errread, errwrite, unused_restore_signals, unused_gid, unused_gids, unused_uid, unused_umask, unused_start_new_session)\u001B[0m\n\u001B[0;32m   1434\u001B[0m \u001B[38;5;28;01mtry\u001B[39;00m:\n\u001B[1;32m-> 1435\u001B[0m     hp, ht, pid, tid \u001B[38;5;241m=\u001B[39m \u001B[43m_winapi\u001B[49m\u001B[38;5;241;43m.\u001B[39;49m\u001B[43mCreateProcess\u001B[49m\u001B[43m(\u001B[49m\u001B[43mexecutable\u001B[49m\u001B[43m,\u001B[49m\u001B[43m \u001B[49m\u001B[43margs\u001B[49m\u001B[43m,\u001B[49m\n\u001B[0;32m   1436\u001B[0m \u001B[43m                             \u001B[49m\u001B[38;5;66;43;03m# no special security\u001B[39;49;00m\n\u001B[0;32m   1437\u001B[0m \u001B[43m                             \u001B[49m\u001B[38;5;28;43;01mNone\u001B[39;49;00m\u001B[43m,\u001B[49m\u001B[43m \u001B[49m\u001B[38;5;28;43;01mNone\u001B[39;49;00m\u001B[43m,\u001B[49m\n\u001B[0;32m   1438\u001B[0m \u001B[43m                             \u001B[49m\u001B[38;5;28;43mint\u001B[39;49m\u001B[43m(\u001B[49m\u001B[38;5;129;43;01mnot\u001B[39;49;00m\u001B[43m \u001B[49m\u001B[43mclose_fds\u001B[49m\u001B[43m)\u001B[49m\u001B[43m,\u001B[49m\n\u001B[0;32m   1439\u001B[0m \u001B[43m                             \u001B[49m\u001B[43mcreationflags\u001B[49m\u001B[43m,\u001B[49m\n\u001B[0;32m   1440\u001B[0m \u001B[43m                             \u001B[49m\u001B[43menv\u001B[49m\u001B[43m,\u001B[49m\n\u001B[0;32m   1441\u001B[0m \u001B[43m                             \u001B[49m\u001B[43mcwd\u001B[49m\u001B[43m,\u001B[49m\n\u001B[0;32m   1442\u001B[0m \u001B[43m                             \u001B[49m\u001B[43mstartupinfo\u001B[49m\u001B[43m)\u001B[49m\n\u001B[0;32m   1443\u001B[0m \u001B[38;5;28;01mfinally\u001B[39;00m:\n\u001B[0;32m   1444\u001B[0m     \u001B[38;5;66;03m# Child is launched. Close the parent's copy of those pipe\u001B[39;00m\n\u001B[0;32m   1445\u001B[0m     \u001B[38;5;66;03m# handles that only the child should have open.  You need\u001B[39;00m\n\u001B[1;32m   (...)\u001B[0m\n\u001B[0;32m   1448\u001B[0m     \u001B[38;5;66;03m# pipe will not close when the child process exits and the\u001B[39;00m\n\u001B[0;32m   1449\u001B[0m     \u001B[38;5;66;03m# ReadFile will hang.\u001B[39;00m\n",
      "\u001B[1;31mFileNotFoundError\u001B[0m: [WinError 2] The system cannot find the file specified",
      "\nThe above exception was the direct cause of the following exception:\n",
      "\u001B[1;31mExecutableNotFound\u001B[0m                        Traceback (most recent call last)",
      "File \u001B[1;32m~\\.virtualenvs\\drayers-ZSJxV8Z-\\lib\\site-packages\\IPython\\core\\formatters.py:973\u001B[0m, in \u001B[0;36mMimeBundleFormatter.__call__\u001B[1;34m(self, obj, include, exclude)\u001B[0m\n\u001B[0;32m    970\u001B[0m     method \u001B[38;5;241m=\u001B[39m get_real_method(obj, \u001B[38;5;28mself\u001B[39m\u001B[38;5;241m.\u001B[39mprint_method)\n\u001B[0;32m    972\u001B[0m     \u001B[38;5;28;01mif\u001B[39;00m method \u001B[38;5;129;01mis\u001B[39;00m \u001B[38;5;129;01mnot\u001B[39;00m \u001B[38;5;28;01mNone\u001B[39;00m:\n\u001B[1;32m--> 973\u001B[0m         \u001B[38;5;28;01mreturn\u001B[39;00m \u001B[43mmethod\u001B[49m\u001B[43m(\u001B[49m\u001B[43minclude\u001B[49m\u001B[38;5;241;43m=\u001B[39;49m\u001B[43minclude\u001B[49m\u001B[43m,\u001B[49m\u001B[43m \u001B[49m\u001B[43mexclude\u001B[49m\u001B[38;5;241;43m=\u001B[39;49m\u001B[43mexclude\u001B[49m\u001B[43m)\u001B[49m\n\u001B[0;32m    974\u001B[0m     \u001B[38;5;28;01mreturn\u001B[39;00m \u001B[38;5;28;01mNone\u001B[39;00m\n\u001B[0;32m    975\u001B[0m \u001B[38;5;28;01melse\u001B[39;00m:\n",
      "File \u001B[1;32m~\\.virtualenvs\\drayers-ZSJxV8Z-\\lib\\site-packages\\graphviz\\jupyter_integration.py:98\u001B[0m, in \u001B[0;36mJupyterIntegration._repr_mimebundle_\u001B[1;34m(self, include, exclude, **_)\u001B[0m\n\u001B[0;32m     96\u001B[0m include \u001B[38;5;241m=\u001B[39m \u001B[38;5;28mset\u001B[39m(include) \u001B[38;5;28;01mif\u001B[39;00m include \u001B[38;5;129;01mis\u001B[39;00m \u001B[38;5;129;01mnot\u001B[39;00m \u001B[38;5;28;01mNone\u001B[39;00m \u001B[38;5;28;01melse\u001B[39;00m {\u001B[38;5;28mself\u001B[39m\u001B[38;5;241m.\u001B[39m_jupyter_mimetype}\n\u001B[0;32m     97\u001B[0m include \u001B[38;5;241m-\u001B[39m\u001B[38;5;241m=\u001B[39m \u001B[38;5;28mset\u001B[39m(exclude \u001B[38;5;129;01mor\u001B[39;00m [])\n\u001B[1;32m---> 98\u001B[0m \u001B[38;5;28;01mreturn\u001B[39;00m {mimetype: \u001B[38;5;28mgetattr\u001B[39m(\u001B[38;5;28mself\u001B[39m, method_name)()\n\u001B[0;32m     99\u001B[0m         \u001B[38;5;28;01mfor\u001B[39;00m mimetype, method_name \u001B[38;5;129;01min\u001B[39;00m MIME_TYPES\u001B[38;5;241m.\u001B[39mitems()\n\u001B[0;32m    100\u001B[0m         \u001B[38;5;28;01mif\u001B[39;00m mimetype \u001B[38;5;129;01min\u001B[39;00m include}\n",
      "File \u001B[1;32m~\\.virtualenvs\\drayers-ZSJxV8Z-\\lib\\site-packages\\graphviz\\jupyter_integration.py:98\u001B[0m, in \u001B[0;36m<dictcomp>\u001B[1;34m(.0)\u001B[0m\n\u001B[0;32m     96\u001B[0m include \u001B[38;5;241m=\u001B[39m \u001B[38;5;28mset\u001B[39m(include) \u001B[38;5;28;01mif\u001B[39;00m include \u001B[38;5;129;01mis\u001B[39;00m \u001B[38;5;129;01mnot\u001B[39;00m \u001B[38;5;28;01mNone\u001B[39;00m \u001B[38;5;28;01melse\u001B[39;00m {\u001B[38;5;28mself\u001B[39m\u001B[38;5;241m.\u001B[39m_jupyter_mimetype}\n\u001B[0;32m     97\u001B[0m include \u001B[38;5;241m-\u001B[39m\u001B[38;5;241m=\u001B[39m \u001B[38;5;28mset\u001B[39m(exclude \u001B[38;5;129;01mor\u001B[39;00m [])\n\u001B[1;32m---> 98\u001B[0m \u001B[38;5;28;01mreturn\u001B[39;00m {mimetype: \u001B[38;5;28;43mgetattr\u001B[39;49m\u001B[43m(\u001B[49m\u001B[38;5;28;43mself\u001B[39;49m\u001B[43m,\u001B[49m\u001B[43m \u001B[49m\u001B[43mmethod_name\u001B[49m\u001B[43m)\u001B[49m\u001B[43m(\u001B[49m\u001B[43m)\u001B[49m\n\u001B[0;32m     99\u001B[0m         \u001B[38;5;28;01mfor\u001B[39;00m mimetype, method_name \u001B[38;5;129;01min\u001B[39;00m MIME_TYPES\u001B[38;5;241m.\u001B[39mitems()\n\u001B[0;32m    100\u001B[0m         \u001B[38;5;28;01mif\u001B[39;00m mimetype \u001B[38;5;129;01min\u001B[39;00m include}\n",
      "File \u001B[1;32m~\\.virtualenvs\\drayers-ZSJxV8Z-\\lib\\site-packages\\graphviz\\jupyter_integration.py:112\u001B[0m, in \u001B[0;36mJupyterIntegration._repr_image_svg_xml\u001B[1;34m(self)\u001B[0m\n\u001B[0;32m    110\u001B[0m \u001B[38;5;28;01mdef\u001B[39;00m \u001B[38;5;21m_repr_image_svg_xml\u001B[39m(\u001B[38;5;28mself\u001B[39m) \u001B[38;5;241m-\u001B[39m\u001B[38;5;241m>\u001B[39m \u001B[38;5;28mstr\u001B[39m:\n\u001B[0;32m    111\u001B[0m     \u001B[38;5;124;03m\"\"\"Return the rendered graph as SVG string.\"\"\"\u001B[39;00m\n\u001B[1;32m--> 112\u001B[0m     \u001B[38;5;28;01mreturn\u001B[39;00m \u001B[38;5;28;43mself\u001B[39;49m\u001B[38;5;241;43m.\u001B[39;49m\u001B[43mpipe\u001B[49m\u001B[43m(\u001B[49m\u001B[38;5;28;43mformat\u001B[39;49m\u001B[38;5;241;43m=\u001B[39;49m\u001B[38;5;124;43m'\u001B[39;49m\u001B[38;5;124;43msvg\u001B[39;49m\u001B[38;5;124;43m'\u001B[39;49m\u001B[43m,\u001B[49m\u001B[43m \u001B[49m\u001B[43mencoding\u001B[49m\u001B[38;5;241;43m=\u001B[39;49m\u001B[43mSVG_ENCODING\u001B[49m\u001B[43m)\u001B[49m\n",
      "File \u001B[1;32m~\\.virtualenvs\\drayers-ZSJxV8Z-\\lib\\site-packages\\graphviz\\piping.py:99\u001B[0m, in \u001B[0;36mPipe.pipe\u001B[1;34m(self, format, renderer, formatter, quiet, engine, encoding)\u001B[0m\n\u001B[0;32m     52\u001B[0m \u001B[38;5;28;01mdef\u001B[39;00m \u001B[38;5;21mpipe\u001B[39m(\u001B[38;5;28mself\u001B[39m,\n\u001B[0;32m     53\u001B[0m          \u001B[38;5;28mformat\u001B[39m: typing\u001B[38;5;241m.\u001B[39mOptional[\u001B[38;5;28mstr\u001B[39m] \u001B[38;5;241m=\u001B[39m \u001B[38;5;28;01mNone\u001B[39;00m,\n\u001B[0;32m     54\u001B[0m          renderer: typing\u001B[38;5;241m.\u001B[39mOptional[\u001B[38;5;28mstr\u001B[39m] \u001B[38;5;241m=\u001B[39m \u001B[38;5;28;01mNone\u001B[39;00m,\n\u001B[1;32m   (...)\u001B[0m\n\u001B[0;32m     57\u001B[0m          engine: typing\u001B[38;5;241m.\u001B[39mOptional[\u001B[38;5;28mstr\u001B[39m] \u001B[38;5;241m=\u001B[39m \u001B[38;5;28;01mNone\u001B[39;00m,\n\u001B[0;32m     58\u001B[0m          encoding: typing\u001B[38;5;241m.\u001B[39mOptional[\u001B[38;5;28mstr\u001B[39m] \u001B[38;5;241m=\u001B[39m \u001B[38;5;28;01mNone\u001B[39;00m) \u001B[38;5;241m-\u001B[39m\u001B[38;5;241m>\u001B[39m typing\u001B[38;5;241m.\u001B[39mUnion[\u001B[38;5;28mbytes\u001B[39m, \u001B[38;5;28mstr\u001B[39m]:\n\u001B[0;32m     59\u001B[0m     \u001B[38;5;124;03m\"\"\"Return the source piped through the Graphviz layout command.\u001B[39;00m\n\u001B[0;32m     60\u001B[0m \n\u001B[0;32m     61\u001B[0m \u001B[38;5;124;03m    Args:\u001B[39;00m\n\u001B[1;32m   (...)\u001B[0m\n\u001B[0;32m     97\u001B[0m \u001B[38;5;124;03m        '<?xml version='\u001B[39;00m\n\u001B[0;32m     98\u001B[0m \u001B[38;5;124;03m    \"\"\"\u001B[39;00m\n\u001B[1;32m---> 99\u001B[0m     \u001B[38;5;28;01mreturn\u001B[39;00m \u001B[38;5;28;43mself\u001B[39;49m\u001B[38;5;241;43m.\u001B[39;49m\u001B[43m_pipe_legacy\u001B[49m\u001B[43m(\u001B[49m\u001B[38;5;28;43mformat\u001B[39;49m\u001B[43m,\u001B[49m\n\u001B[0;32m    100\u001B[0m \u001B[43m                             \u001B[49m\u001B[43mrenderer\u001B[49m\u001B[38;5;241;43m=\u001B[39;49m\u001B[43mrenderer\u001B[49m\u001B[43m,\u001B[49m\n\u001B[0;32m    101\u001B[0m \u001B[43m                             \u001B[49m\u001B[43mformatter\u001B[49m\u001B[38;5;241;43m=\u001B[39;49m\u001B[43mformatter\u001B[49m\u001B[43m,\u001B[49m\n\u001B[0;32m    102\u001B[0m \u001B[43m                             \u001B[49m\u001B[43mquiet\u001B[49m\u001B[38;5;241;43m=\u001B[39;49m\u001B[43mquiet\u001B[49m\u001B[43m,\u001B[49m\n\u001B[0;32m    103\u001B[0m \u001B[43m                             \u001B[49m\u001B[43mengine\u001B[49m\u001B[38;5;241;43m=\u001B[39;49m\u001B[43mengine\u001B[49m\u001B[43m,\u001B[49m\n\u001B[0;32m    104\u001B[0m \u001B[43m                             \u001B[49m\u001B[43mencoding\u001B[49m\u001B[38;5;241;43m=\u001B[39;49m\u001B[43mencoding\u001B[49m\u001B[43m)\u001B[49m\n",
      "File \u001B[1;32m~\\.virtualenvs\\drayers-ZSJxV8Z-\\lib\\site-packages\\graphviz\\_tools.py:172\u001B[0m, in \u001B[0;36mdeprecate_positional_args.<locals>.decorator.<locals>.wrapper\u001B[1;34m(*args, **kwargs)\u001B[0m\n\u001B[0;32m    163\u001B[0m     wanted \u001B[38;5;241m=\u001B[39m \u001B[38;5;124m'\u001B[39m\u001B[38;5;124m, \u001B[39m\u001B[38;5;124m'\u001B[39m\u001B[38;5;241m.\u001B[39mjoin(\u001B[38;5;124mf\u001B[39m\u001B[38;5;124m'\u001B[39m\u001B[38;5;132;01m{\u001B[39;00mname\u001B[38;5;132;01m}\u001B[39;00m\u001B[38;5;124m=\u001B[39m\u001B[38;5;132;01m{\u001B[39;00mvalue\u001B[38;5;132;01m!r}\u001B[39;00m\u001B[38;5;124m'\u001B[39m\n\u001B[0;32m    164\u001B[0m                        \u001B[38;5;28;01mfor\u001B[39;00m name, value \u001B[38;5;129;01min\u001B[39;00m deprecated\u001B[38;5;241m.\u001B[39mitems())\n\u001B[0;32m    165\u001B[0m     warnings\u001B[38;5;241m.\u001B[39mwarn(\u001B[38;5;124mf\u001B[39m\u001B[38;5;124m'\u001B[39m\u001B[38;5;124mThe signature of \u001B[39m\u001B[38;5;132;01m{\u001B[39;00mfunc\u001B[38;5;241m.\u001B[39m\u001B[38;5;18m__name__\u001B[39m\u001B[38;5;132;01m}\u001B[39;00m\u001B[38;5;124m will be reduced\u001B[39m\u001B[38;5;124m'\u001B[39m\n\u001B[0;32m    166\u001B[0m                   \u001B[38;5;124mf\u001B[39m\u001B[38;5;124m'\u001B[39m\u001B[38;5;124m to \u001B[39m\u001B[38;5;132;01m{\u001B[39;00msupported_number\u001B[38;5;132;01m}\u001B[39;00m\u001B[38;5;124m positional args\u001B[39m\u001B[38;5;124m'\u001B[39m\n\u001B[0;32m    167\u001B[0m                   \u001B[38;5;124mf\u001B[39m\u001B[38;5;124m'\u001B[39m\u001B[38;5;124m \u001B[39m\u001B[38;5;132;01m{\u001B[39;00m\u001B[38;5;28mlist\u001B[39m(supported)\u001B[38;5;132;01m}\u001B[39;00m\u001B[38;5;124m: pass \u001B[39m\u001B[38;5;132;01m{\u001B[39;00mwanted\u001B[38;5;132;01m}\u001B[39;00m\u001B[38;5;124m'\u001B[39m\n\u001B[0;32m    168\u001B[0m                   \u001B[38;5;124m'\u001B[39m\u001B[38;5;124m as keyword arg(s)\u001B[39m\u001B[38;5;124m'\u001B[39m,\n\u001B[0;32m    169\u001B[0m                   stacklevel\u001B[38;5;241m=\u001B[39mstacklevel,\n\u001B[0;32m    170\u001B[0m                   category\u001B[38;5;241m=\u001B[39mcategory)\n\u001B[1;32m--> 172\u001B[0m \u001B[38;5;28;01mreturn\u001B[39;00m func(\u001B[38;5;241m*\u001B[39margs, \u001B[38;5;241m*\u001B[39m\u001B[38;5;241m*\u001B[39mkwargs)\n",
      "File \u001B[1;32m~\\.virtualenvs\\drayers-ZSJxV8Z-\\lib\\site-packages\\graphviz\\piping.py:114\u001B[0m, in \u001B[0;36mPipe._pipe_legacy\u001B[1;34m(self, format, renderer, formatter, quiet, engine, encoding)\u001B[0m\n\u001B[0;32m    106\u001B[0m \u001B[38;5;129m@_tools\u001B[39m\u001B[38;5;241m.\u001B[39mdeprecate_positional_args(supported_number\u001B[38;5;241m=\u001B[39m\u001B[38;5;241m2\u001B[39m)\n\u001B[0;32m    107\u001B[0m \u001B[38;5;28;01mdef\u001B[39;00m \u001B[38;5;21m_pipe_legacy\u001B[39m(\u001B[38;5;28mself\u001B[39m,\n\u001B[0;32m    108\u001B[0m                  \u001B[38;5;28mformat\u001B[39m: typing\u001B[38;5;241m.\u001B[39mOptional[\u001B[38;5;28mstr\u001B[39m] \u001B[38;5;241m=\u001B[39m \u001B[38;5;28;01mNone\u001B[39;00m,\n\u001B[1;32m   (...)\u001B[0m\n\u001B[0;32m    112\u001B[0m                  engine: typing\u001B[38;5;241m.\u001B[39mOptional[\u001B[38;5;28mstr\u001B[39m] \u001B[38;5;241m=\u001B[39m \u001B[38;5;28;01mNone\u001B[39;00m,\n\u001B[0;32m    113\u001B[0m                  encoding: typing\u001B[38;5;241m.\u001B[39mOptional[\u001B[38;5;28mstr\u001B[39m] \u001B[38;5;241m=\u001B[39m \u001B[38;5;28;01mNone\u001B[39;00m) \u001B[38;5;241m-\u001B[39m\u001B[38;5;241m>\u001B[39m typing\u001B[38;5;241m.\u001B[39mUnion[\u001B[38;5;28mbytes\u001B[39m, \u001B[38;5;28mstr\u001B[39m]:\n\u001B[1;32m--> 114\u001B[0m     \u001B[38;5;28;01mreturn\u001B[39;00m \u001B[38;5;28;43mself\u001B[39;49m\u001B[38;5;241;43m.\u001B[39;49m\u001B[43m_pipe_future\u001B[49m\u001B[43m(\u001B[49m\u001B[38;5;28;43mformat\u001B[39;49m\u001B[43m,\u001B[49m\n\u001B[0;32m    115\u001B[0m \u001B[43m                             \u001B[49m\u001B[43mrenderer\u001B[49m\u001B[38;5;241;43m=\u001B[39;49m\u001B[43mrenderer\u001B[49m\u001B[43m,\u001B[49m\n\u001B[0;32m    116\u001B[0m \u001B[43m                             \u001B[49m\u001B[43mformatter\u001B[49m\u001B[38;5;241;43m=\u001B[39;49m\u001B[43mformatter\u001B[49m\u001B[43m,\u001B[49m\n\u001B[0;32m    117\u001B[0m \u001B[43m                             \u001B[49m\u001B[43mquiet\u001B[49m\u001B[38;5;241;43m=\u001B[39;49m\u001B[43mquiet\u001B[49m\u001B[43m,\u001B[49m\n\u001B[0;32m    118\u001B[0m \u001B[43m                             \u001B[49m\u001B[43mengine\u001B[49m\u001B[38;5;241;43m=\u001B[39;49m\u001B[43mengine\u001B[49m\u001B[43m,\u001B[49m\n\u001B[0;32m    119\u001B[0m \u001B[43m                             \u001B[49m\u001B[43mencoding\u001B[49m\u001B[38;5;241;43m=\u001B[39;49m\u001B[43mencoding\u001B[49m\u001B[43m)\u001B[49m\n",
      "File \u001B[1;32m~\\.virtualenvs\\drayers-ZSJxV8Z-\\lib\\site-packages\\graphviz\\piping.py:139\u001B[0m, in \u001B[0;36mPipe._pipe_future\u001B[1;34m(self, format, renderer, formatter, quiet, engine, encoding)\u001B[0m\n\u001B[0;32m    136\u001B[0m \u001B[38;5;28;01mif\u001B[39;00m encoding \u001B[38;5;129;01mis\u001B[39;00m \u001B[38;5;129;01mnot\u001B[39;00m \u001B[38;5;28;01mNone\u001B[39;00m:\n\u001B[0;32m    137\u001B[0m     \u001B[38;5;28;01mif\u001B[39;00m codecs\u001B[38;5;241m.\u001B[39mlookup(encoding) \u001B[38;5;129;01mis\u001B[39;00m codecs\u001B[38;5;241m.\u001B[39mlookup(\u001B[38;5;28mself\u001B[39m\u001B[38;5;241m.\u001B[39mencoding):\n\u001B[0;32m    138\u001B[0m         \u001B[38;5;66;03m# common case: both stdin and stdout need the same encoding\u001B[39;00m\n\u001B[1;32m--> 139\u001B[0m         \u001B[38;5;28;01mreturn\u001B[39;00m \u001B[38;5;28mself\u001B[39m\u001B[38;5;241m.\u001B[39m_pipe_lines_string(\u001B[38;5;241m*\u001B[39margs, encoding\u001B[38;5;241m=\u001B[39mencoding, \u001B[38;5;241m*\u001B[39m\u001B[38;5;241m*\u001B[39mkwargs)\n\u001B[0;32m    140\u001B[0m     \u001B[38;5;28;01mtry\u001B[39;00m:\n\u001B[0;32m    141\u001B[0m         raw \u001B[38;5;241m=\u001B[39m \u001B[38;5;28mself\u001B[39m\u001B[38;5;241m.\u001B[39m_pipe_lines(\u001B[38;5;241m*\u001B[39margs, input_encoding\u001B[38;5;241m=\u001B[39m\u001B[38;5;28mself\u001B[39m\u001B[38;5;241m.\u001B[39mencoding, \u001B[38;5;241m*\u001B[39m\u001B[38;5;241m*\u001B[39mkwargs)\n",
      "File \u001B[1;32m~\\.virtualenvs\\drayers-ZSJxV8Z-\\lib\\site-packages\\graphviz\\backend\\piping.py:196\u001B[0m, in \u001B[0;36mpipe_lines_string\u001B[1;34m(engine, format, input_lines, encoding, renderer, formatter, quiet)\u001B[0m\n\u001B[0;32m    192\u001B[0m cmd \u001B[38;5;241m=\u001B[39m dot_command\u001B[38;5;241m.\u001B[39mcommand(engine, \u001B[38;5;28mformat\u001B[39m,\n\u001B[0;32m    193\u001B[0m                           renderer\u001B[38;5;241m=\u001B[39mrenderer, formatter\u001B[38;5;241m=\u001B[39mformatter)\n\u001B[0;32m    194\u001B[0m kwargs \u001B[38;5;241m=\u001B[39m {\u001B[38;5;124m'\u001B[39m\u001B[38;5;124minput_lines\u001B[39m\u001B[38;5;124m'\u001B[39m: input_lines, \u001B[38;5;124m'\u001B[39m\u001B[38;5;124mencoding\u001B[39m\u001B[38;5;124m'\u001B[39m: encoding}\n\u001B[1;32m--> 196\u001B[0m proc \u001B[38;5;241m=\u001B[39m execute\u001B[38;5;241m.\u001B[39mrun_check(cmd, capture_output\u001B[38;5;241m=\u001B[39m\u001B[38;5;28;01mTrue\u001B[39;00m, quiet\u001B[38;5;241m=\u001B[39mquiet, \u001B[38;5;241m*\u001B[39m\u001B[38;5;241m*\u001B[39mkwargs)\n\u001B[0;32m    197\u001B[0m \u001B[38;5;28;01mreturn\u001B[39;00m proc\u001B[38;5;241m.\u001B[39mstdout\n",
      "File \u001B[1;32m~\\.virtualenvs\\drayers-ZSJxV8Z-\\lib\\site-packages\\graphviz\\backend\\execute.py:88\u001B[0m, in \u001B[0;36mrun_check\u001B[1;34m(cmd, input_lines, encoding, capture_output, quiet, **kwargs)\u001B[0m\n\u001B[0;32m     86\u001B[0m \u001B[38;5;28;01mexcept\u001B[39;00m \u001B[38;5;167;01mOSError\u001B[39;00m \u001B[38;5;28;01mas\u001B[39;00m e:\n\u001B[0;32m     87\u001B[0m     \u001B[38;5;28;01mif\u001B[39;00m e\u001B[38;5;241m.\u001B[39merrno \u001B[38;5;241m==\u001B[39m errno\u001B[38;5;241m.\u001B[39mENOENT:\n\u001B[1;32m---> 88\u001B[0m         \u001B[38;5;28;01mraise\u001B[39;00m ExecutableNotFound(cmd) \u001B[38;5;28;01mfrom\u001B[39;00m \u001B[38;5;21;01me\u001B[39;00m\n\u001B[0;32m     89\u001B[0m     \u001B[38;5;28;01mraise\u001B[39;00m\n\u001B[0;32m     91\u001B[0m \u001B[38;5;28;01mif\u001B[39;00m \u001B[38;5;129;01mnot\u001B[39;00m quiet \u001B[38;5;129;01mand\u001B[39;00m proc\u001B[38;5;241m.\u001B[39mstderr:\n",
      "\u001B[1;31mExecutableNotFound\u001B[0m: failed to execute WindowsPath('dot'), make sure the Graphviz executables are on your systems' PATH"
     ]
    },
    {
     "data": {
      "text/plain": "<graphviz.sources.Source at 0x2945437b1c0>"
     },
     "execution_count": 62,
     "metadata": {},
     "output_type": "execute_result"
    }
   ],
   "source": [
    "node_params = {'shape': 'box',\n",
    "               'style': 'filled, rounded',\n",
    "               'fillcolor': '#78cbe'}\n",
    "leaf_params = {'shape': 'box',\n",
    "               'style': 'filled',\n",
    "               'fillcolor': '#e48038'}\n",
    "xgb.to_graphviz(clf_xgb, num_trees=0, size=\"10,10\",\n",
    "                condition_node_params=node_params,\n",
    "                leaf_node_params=leaf_params)"
   ],
   "metadata": {
    "collapsed": false,
    "pycharm": {
     "name": "#%%\n"
    }
   }
  },
  {
   "cell_type": "code",
   "execution_count": 62,
   "outputs": [],
   "source": [],
   "metadata": {
    "collapsed": false,
    "pycharm": {
     "name": "#%%\n"
    }
   }
  }
 ],
 "metadata": {
  "kernelspec": {
   "display_name": "Python 3 (ipykernel)",
   "language": "python",
   "name": "python3"
  },
  "language_info": {
   "codemirror_mode": {
    "name": "ipython",
    "version": 3
   },
   "file_extension": ".py",
   "mimetype": "text/x-python",
   "name": "python",
   "nbconvert_exporter": "python",
   "pygments_lexer": "ipython3",
   "version": "3.10.4"
  }
 },
 "nbformat": 4,
 "nbformat_minor": 1
}