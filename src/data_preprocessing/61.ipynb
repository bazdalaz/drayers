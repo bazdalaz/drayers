{
 "cells": [
  {
   "cell_type": "code",
   "execution_count": 44,
   "metadata": {},
   "outputs": [],
   "source": [
    "import pandas as pd\n",
    "import numpy as np\n",
    "import matplotlib.pyplot as plt\n",
    "from scipy.signal import argrelextrema\n"
   ]
  },
  {
   "cell_type": "code",
   "execution_count": 45,
   "metadata": {
    "pycharm": {
     "name": "#%%\n"
    }
   },
   "outputs": [
    {
     "name": "stderr",
     "output_type": "stream",
     "text": [
      "C:\\Users\\lbushman\\AppData\\Local\\Temp/ipykernel_25668/3910682709.py:1: DtypeWarning: Columns (4,5,6,7) have mixed types. Specify dtype option on import or set low_memory=False.\n",
      "  df = pd.read_csv('../../data/H161.csv', parse_dates = [\"utc_time\"])\n"
     ]
    }
   ],
   "source": [
    "df = pd.read_csv('../../data/H161.csv', parse_dates = [\"utc_time\"])\n",
    "df[\"utc_time\"] = df[\"utc_time\"].dt.tz_localize(None)\n",
    "df.columns = ['time','phase', 'step', 'statement', 'heat_time', 'weight', 'temp', 'pressure']"
   ]
  },
  {
   "cell_type": "code",
   "execution_count": 46,
   "metadata": {
    "pycharm": {
     "name": "#%%\n"
    }
   },
   "outputs": [],
   "source": [
    "df = df.drop(['statement'], axis=1)"
   ]
  },
  {
   "cell_type": "code",
   "execution_count": 47,
   "metadata": {
    "pycharm": {
     "name": "#%%\n"
    }
   },
   "outputs": [],
   "source": [
    "df = df[df['phase'].str.contains ('DRYING|DISCHRG') == True]"
   ]
  },
  {
   "cell_type": "code",
   "execution_count": 48,
   "metadata": {
    "pycharm": {
     "name": "#%%\n"
    }
   },
   "outputs": [],
   "source": [
    "df.replace({'????????': None}, inplace=True)\n",
    "df.dropna(inplace=True)"
   ]
  },
  {
   "cell_type": "code",
   "execution_count": 49,
   "metadata": {
    "pycharm": {
     "name": "#%%\n"
    }
   },
   "outputs": [],
   "source": [
    "df['temp'] = df.temp.astype(float)\n",
    "df['weight'] = df.weight.astype(float)\n",
    "df['pressure'] = df.pressure.astype(float)\n",
    "df['heat_time'] = df.heat_time.astype(float)\n",
    "df.set_index('time', inplace=True)"
   ]
  },
  {
   "cell_type": "code",
   "execution_count": 50,
   "metadata": {
    "pycharm": {
     "name": "#%%\n"
    }
   },
   "outputs": [],
   "source": [
    "n = 180  # number of points to be checked before and after\n",
    "\n",
    "# Find local peaks\n",
    "df['max_temp'] = 0\n",
    "df['max_temp'] = df.iloc[argrelextrema(df.temp.values, np.greater_equal, order=n)]['temp']"
   ]
  },
  {
   "cell_type": "code",
   "execution_count": 51,
   "outputs": [],
   "source": [
    "df['ready'] = 0"
   ],
   "metadata": {
    "collapsed": false,
    "pycharm": {
     "name": "#%%\n"
    }
   }
  },
  {
   "cell_type": "code",
   "execution_count": 52,
   "outputs": [],
   "source": [
    "for i in range (1, len(df['ready']-1)):\n",
    "    if df.max_temp.values[i] > 0:\n",
    "            while df['phase'].values[i] == 'DRYING':\n",
    "                i += 1\n",
    "                df.ready.values[i] = 1"
   ],
   "metadata": {
    "collapsed": false,
    "pycharm": {
     "name": "#%%\n"
    }
   }
  },
  {
   "cell_type": "code",
   "execution_count": 58,
   "outputs": [
    {
     "data": {
      "text/plain": "                      phase  step  heat_time  weight  temp  pressure  \\\ntime                                                                   \n2020-03-23 05:19:27  DRYING  LP01       67.5  3799.5  60.3     270.9   \n2020-03-23 05:20:27  DRYING  LP01       68.5  3800.0  60.3     272.3   \n2020-03-23 05:21:27  DRYING  LP01       69.5  3799.8  60.1     290.7   \n2020-03-23 05:22:27  DRYING  LP01       70.5  3797.7  59.8     305.8   \n2020-03-23 05:23:27  DRYING  LP01       71.5  3795.8  60.0     280.7   \n...                     ...   ...        ...     ...   ...       ...   \n2020-03-23 10:38:27  DRYING  LP01       40.4  3530.1  23.8     761.3   \n2020-03-23 10:39:27  DRYING  LP01       41.4  3527.0  23.8     761.4   \n2020-03-23 10:40:27  DRYING  LP01       42.4  3528.0  23.7     761.4   \n2020-03-23 10:41:27  DRYING  LP01       43.4  3527.1  23.7     761.4   \n2020-03-23 10:42:27  DRYING  LP01       44.4  3528.0  23.6     761.4   \n\n                     max_temp  ready  \ntime                                  \n2020-03-23 05:19:27       NaN      0  \n2020-03-23 05:20:27       NaN      0  \n2020-03-23 05:21:27       NaN      0  \n2020-03-23 05:22:27       NaN      0  \n2020-03-23 05:23:27       NaN      0  \n...                       ...    ...  \n2020-03-23 10:38:27       NaN      1  \n2020-03-23 10:39:27       NaN      1  \n2020-03-23 10:40:27       NaN      1  \n2020-03-23 10:41:27       NaN      1  \n2020-03-23 10:42:27       NaN      1  \n\n[300 rows x 8 columns]",
      "text/html": "<div>\n<style scoped>\n    .dataframe tbody tr th:only-of-type {\n        vertical-align: middle;\n    }\n\n    .dataframe tbody tr th {\n        vertical-align: top;\n    }\n\n    .dataframe thead th {\n        text-align: right;\n    }\n</style>\n<table border=\"1\" class=\"dataframe\">\n  <thead>\n    <tr style=\"text-align: right;\">\n      <th></th>\n      <th>phase</th>\n      <th>step</th>\n      <th>heat_time</th>\n      <th>weight</th>\n      <th>temp</th>\n      <th>pressure</th>\n      <th>max_temp</th>\n      <th>ready</th>\n    </tr>\n    <tr>\n      <th>time</th>\n      <th></th>\n      <th></th>\n      <th></th>\n      <th></th>\n      <th></th>\n      <th></th>\n      <th></th>\n      <th></th>\n    </tr>\n  </thead>\n  <tbody>\n    <tr>\n      <th>2020-03-23 05:19:27</th>\n      <td>DRYING</td>\n      <td>LP01</td>\n      <td>67.5</td>\n      <td>3799.5</td>\n      <td>60.3</td>\n      <td>270.9</td>\n      <td>NaN</td>\n      <td>0</td>\n    </tr>\n    <tr>\n      <th>2020-03-23 05:20:27</th>\n      <td>DRYING</td>\n      <td>LP01</td>\n      <td>68.5</td>\n      <td>3800.0</td>\n      <td>60.3</td>\n      <td>272.3</td>\n      <td>NaN</td>\n      <td>0</td>\n    </tr>\n    <tr>\n      <th>2020-03-23 05:21:27</th>\n      <td>DRYING</td>\n      <td>LP01</td>\n      <td>69.5</td>\n      <td>3799.8</td>\n      <td>60.1</td>\n      <td>290.7</td>\n      <td>NaN</td>\n      <td>0</td>\n    </tr>\n    <tr>\n      <th>2020-03-23 05:22:27</th>\n      <td>DRYING</td>\n      <td>LP01</td>\n      <td>70.5</td>\n      <td>3797.7</td>\n      <td>59.8</td>\n      <td>305.8</td>\n      <td>NaN</td>\n      <td>0</td>\n    </tr>\n    <tr>\n      <th>2020-03-23 05:23:27</th>\n      <td>DRYING</td>\n      <td>LP01</td>\n      <td>71.5</td>\n      <td>3795.8</td>\n      <td>60.0</td>\n      <td>280.7</td>\n      <td>NaN</td>\n      <td>0</td>\n    </tr>\n    <tr>\n      <th>...</th>\n      <td>...</td>\n      <td>...</td>\n      <td>...</td>\n      <td>...</td>\n      <td>...</td>\n      <td>...</td>\n      <td>...</td>\n      <td>...</td>\n    </tr>\n    <tr>\n      <th>2020-03-23 10:38:27</th>\n      <td>DRYING</td>\n      <td>LP01</td>\n      <td>40.4</td>\n      <td>3530.1</td>\n      <td>23.8</td>\n      <td>761.3</td>\n      <td>NaN</td>\n      <td>1</td>\n    </tr>\n    <tr>\n      <th>2020-03-23 10:39:27</th>\n      <td>DRYING</td>\n      <td>LP01</td>\n      <td>41.4</td>\n      <td>3527.0</td>\n      <td>23.8</td>\n      <td>761.4</td>\n      <td>NaN</td>\n      <td>1</td>\n    </tr>\n    <tr>\n      <th>2020-03-23 10:40:27</th>\n      <td>DRYING</td>\n      <td>LP01</td>\n      <td>42.4</td>\n      <td>3528.0</td>\n      <td>23.7</td>\n      <td>761.4</td>\n      <td>NaN</td>\n      <td>1</td>\n    </tr>\n    <tr>\n      <th>2020-03-23 10:41:27</th>\n      <td>DRYING</td>\n      <td>LP01</td>\n      <td>43.4</td>\n      <td>3527.1</td>\n      <td>23.7</td>\n      <td>761.4</td>\n      <td>NaN</td>\n      <td>1</td>\n    </tr>\n    <tr>\n      <th>2020-03-23 10:42:27</th>\n      <td>DRYING</td>\n      <td>LP01</td>\n      <td>44.4</td>\n      <td>3528.0</td>\n      <td>23.6</td>\n      <td>761.4</td>\n      <td>NaN</td>\n      <td>1</td>\n    </tr>\n  </tbody>\n</table>\n<p>300 rows × 8 columns</p>\n</div>"
     },
     "execution_count": 58,
     "metadata": {},
     "output_type": "execute_result"
    }
   ],
   "source": [
    "df.head(300)"
   ],
   "metadata": {
    "collapsed": false,
    "pycharm": {
     "name": "#%%\n"
    }
   }
  },
  {
   "cell_type": "code",
   "execution_count": null,
   "outputs": [],
   "source": [],
   "metadata": {
    "collapsed": false,
    "pycharm": {
     "name": "#%%\n"
    }
   }
  }
 ],
 "metadata": {
  "kernelspec": {
   "display_name": "Python 3 (ipykernel)",
   "language": "python",
   "name": "python3"
  },
  "language_info": {
   "codemirror_mode": {
    "name": "ipython",
    "version": 3
   },
   "file_extension": ".py",
   "mimetype": "text/x-python",
   "name": "python",
   "nbconvert_exporter": "python",
   "pygments_lexer": "ipython3",
   "version": "3.8.2"
  }
 },
 "nbformat": 4,
 "nbformat_minor": 1
}