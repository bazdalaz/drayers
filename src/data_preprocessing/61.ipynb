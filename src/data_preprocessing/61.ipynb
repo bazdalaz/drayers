{
 "cells": [
  {
   "cell_type": "code",
   "execution_count": 10,
   "metadata": {},
   "outputs": [],
   "source": [
    "import pandas as pd\n",
    "import numpy as np\n",
    "import matplotlib.pyplot as plt\n",
    "from scipy.signal import argrelextrema\n",
    "from sklearn.preprocessing import StandardScaler\n"
   ]
  },
  {
   "cell_type": "code",
   "execution_count": 11,
   "metadata": {
    "pycharm": {
     "name": "#%%\n"
    }
   },
   "outputs": [
    {
     "name": "stderr",
     "output_type": "stream",
     "text": [
      "/tmp/ipykernel_9341/3083181869.py:1: DtypeWarning: Columns (4,5,6,7) have mixed types. Specify dtype option on import or set low_memory=False.\n",
      "  df = pd.read_csv('../../data/H161.csv', parse_dates = [\"utc_time\"])\n"
     ]
    }
   ],
   "source": [
    "df = pd.read_csv('../../data/H161.csv', parse_dates = [\"utc_time\"])\n",
    "df[\"utc_time\"] = df[\"utc_time\"].dt.tz_localize(None)\n",
    "\n",
    "df.columns = ['time','phase', 'step', 'statement', 'heat_time', 'weight', 'temp', 'pressure']"
   ]
  },
  {
   "cell_type": "code",
   "execution_count": 12,
   "metadata": {
    "pycharm": {
     "name": "#%%\n"
    }
   },
   "outputs": [],
   "source": [
    "df = df.drop(['statement','step'], axis=1)"
   ]
  },
  {
   "cell_type": "code",
   "execution_count": 13,
   "metadata": {},
   "outputs": [
    {
     "data": {
      "text/plain": "                       time    phase heat_time    weight      temp  pressure\n200274  2020-08-09 07:02:27  FEEDING       0.0    2259.0      69.6     750.3\n459907  2021-02-05 14:15:27  FEEDING       0.0    3160.8      61.8     752.2\n151254  2020-07-06 06:02:27   DRYING       0.0    3296.1      37.7     764.0\n163058  2020-07-14 10:46:27  PREPARE       0.0     158.3      57.4     222.9\n292662  2020-10-12 10:50:27  PREPARE      39.3      20.6      28.2     764.7\n717267  2021-08-03 07:35:27   DRYING      12.7    3668.9      71.2     535.3\n102025  2020-06-02 01:33:27   DRYING       0.0    3567.5      44.6     279.8\n660789  2021-06-25 02:17:27   DRYING       0.0    2478.8      63.3     760.9\n712636  2021-07-31 02:24:27   DRYING      81.7    3614.1      58.6     459.3\n769629  2021-09-08 16:17:27   DRYING       5.3    3394.3      58.4     653.2\n642789  2021-06-12 14:17:27  FEEDING       0.0    1049.6      64.1     477.8\n244908  2020-09-09 06:56:27   DRYING       6.6    3957.2      67.6     305.4\n1002522 2022-02-17 09:50:27  DISCHRG       0.0    1553.9      32.5     757.8\n998003  2022-02-14 06:31:27   DRYING     133.3    3536.2      48.2     499.5\n412858  2021-01-03 22:06:27  PREPARE       0.0      75.4      19.0     764.5\n988268  2022-02-07 12:16:27   DRYING      25.0    3545.1      25.3     761.3\n34984   2020-04-16 12:12:27   DRYING      89.6    3769.0      62.9     245.0\n204155  2020-08-11 23:43:27  FEEDING       0.0    2841.0      64.4     752.0\n1024100 2022-03-04 09:28:27   DRYING      12.4    2722.0      72.1     519.1\n894769  2021-12-04 13:57:27  FEEDING       0.0    3551.1      73.3     468.4\n689137  2021-07-14 18:45:27   DRYING      13.0    3813.6      55.6     758.7\n398574  2020-12-25 00:02:27   DRYING       0.0    3687.5      53.0     330.9\n491419  2021-02-27 11:27:27  DISCHRG       0.0      36.5      24.9     761.8\n412509  2021-01-03 16:17:27  DISCHRG       0.2      79.2      25.1     764.4\n627613  2021-06-02 01:21:27  FEEDING       0.3    3827.1      58.7     759.4\n754334  2021-08-29 01:22:27   DRYING      11.8    3764.8      78.0     774.7\n433351  2021-01-18 03:39:27   DRYING       0.0    3701.1      67.2     372.8\n926074  2021-12-26 07:42:27   DRYING       0.0    2330.9      39.8     450.0\n433444  2021-01-18 05:12:27   DRYING      40.7    3659.4      49.7     387.7\n558821  2021-04-15 06:49:27   DRYING      15.1    4057.7      68.2     471.9\n303731  2020-10-20 03:19:27   DRYING      53.6    3785.3      45.4     256.8\n456740  2021-02-03 09:28:27   DRYING      89.8    3690.8      47.3     336.0\n13877   2020-04-01 20:25:27   DRYING      51.3    3922.1      20.3     754.2\n639672  2021-06-10 10:20:27   DRYING     133.3    3727.2      64.3     469.9\n471346  2021-02-13 12:54:27  PREPARE       0.4    -200.0      20.2     766.1\n464302  2021-02-08 15:30:27  PREPARE       0.4    -200.0      23.2     764.3\n42111   2020-04-21 10:59:27  FEEDING       0.0    3300.3      60.3     749.1\n769601  2021-09-08 15:49:27   DRYING       5.5    3398.6      58.8     649.7\n329140  2020-11-06 18:48:27   DRYING     133.3    3830.2      46.1     228.5\n834357  2021-10-23 15:05:27   DRYING       0.0    3172.6      28.1     762.0",
      "text/html": "<div>\n<style scoped>\n    .dataframe tbody tr th:only-of-type {\n        vertical-align: middle;\n    }\n\n    .dataframe tbody tr th {\n        vertical-align: top;\n    }\n\n    .dataframe thead th {\n        text-align: right;\n    }\n</style>\n<table border=\"1\" class=\"dataframe\">\n  <thead>\n    <tr style=\"text-align: right;\">\n      <th></th>\n      <th>time</th>\n      <th>phase</th>\n      <th>heat_time</th>\n      <th>weight</th>\n      <th>temp</th>\n      <th>pressure</th>\n    </tr>\n  </thead>\n  <tbody>\n    <tr>\n      <th>200274</th>\n      <td>2020-08-09 07:02:27</td>\n      <td>FEEDING</td>\n      <td>0.0</td>\n      <td>2259.0</td>\n      <td>69.6</td>\n      <td>750.3</td>\n    </tr>\n    <tr>\n      <th>459907</th>\n      <td>2021-02-05 14:15:27</td>\n      <td>FEEDING</td>\n      <td>0.0</td>\n      <td>3160.8</td>\n      <td>61.8</td>\n      <td>752.2</td>\n    </tr>\n    <tr>\n      <th>151254</th>\n      <td>2020-07-06 06:02:27</td>\n      <td>DRYING</td>\n      <td>0.0</td>\n      <td>3296.1</td>\n      <td>37.7</td>\n      <td>764.0</td>\n    </tr>\n    <tr>\n      <th>163058</th>\n      <td>2020-07-14 10:46:27</td>\n      <td>PREPARE</td>\n      <td>0.0</td>\n      <td>158.3</td>\n      <td>57.4</td>\n      <td>222.9</td>\n    </tr>\n    <tr>\n      <th>292662</th>\n      <td>2020-10-12 10:50:27</td>\n      <td>PREPARE</td>\n      <td>39.3</td>\n      <td>20.6</td>\n      <td>28.2</td>\n      <td>764.7</td>\n    </tr>\n    <tr>\n      <th>717267</th>\n      <td>2021-08-03 07:35:27</td>\n      <td>DRYING</td>\n      <td>12.7</td>\n      <td>3668.9</td>\n      <td>71.2</td>\n      <td>535.3</td>\n    </tr>\n    <tr>\n      <th>102025</th>\n      <td>2020-06-02 01:33:27</td>\n      <td>DRYING</td>\n      <td>0.0</td>\n      <td>3567.5</td>\n      <td>44.6</td>\n      <td>279.8</td>\n    </tr>\n    <tr>\n      <th>660789</th>\n      <td>2021-06-25 02:17:27</td>\n      <td>DRYING</td>\n      <td>0.0</td>\n      <td>2478.8</td>\n      <td>63.3</td>\n      <td>760.9</td>\n    </tr>\n    <tr>\n      <th>712636</th>\n      <td>2021-07-31 02:24:27</td>\n      <td>DRYING</td>\n      <td>81.7</td>\n      <td>3614.1</td>\n      <td>58.6</td>\n      <td>459.3</td>\n    </tr>\n    <tr>\n      <th>769629</th>\n      <td>2021-09-08 16:17:27</td>\n      <td>DRYING</td>\n      <td>5.3</td>\n      <td>3394.3</td>\n      <td>58.4</td>\n      <td>653.2</td>\n    </tr>\n    <tr>\n      <th>642789</th>\n      <td>2021-06-12 14:17:27</td>\n      <td>FEEDING</td>\n      <td>0.0</td>\n      <td>1049.6</td>\n      <td>64.1</td>\n      <td>477.8</td>\n    </tr>\n    <tr>\n      <th>244908</th>\n      <td>2020-09-09 06:56:27</td>\n      <td>DRYING</td>\n      <td>6.6</td>\n      <td>3957.2</td>\n      <td>67.6</td>\n      <td>305.4</td>\n    </tr>\n    <tr>\n      <th>1002522</th>\n      <td>2022-02-17 09:50:27</td>\n      <td>DISCHRG</td>\n      <td>0.0</td>\n      <td>1553.9</td>\n      <td>32.5</td>\n      <td>757.8</td>\n    </tr>\n    <tr>\n      <th>998003</th>\n      <td>2022-02-14 06:31:27</td>\n      <td>DRYING</td>\n      <td>133.3</td>\n      <td>3536.2</td>\n      <td>48.2</td>\n      <td>499.5</td>\n    </tr>\n    <tr>\n      <th>412858</th>\n      <td>2021-01-03 22:06:27</td>\n      <td>PREPARE</td>\n      <td>0.0</td>\n      <td>75.4</td>\n      <td>19.0</td>\n      <td>764.5</td>\n    </tr>\n    <tr>\n      <th>988268</th>\n      <td>2022-02-07 12:16:27</td>\n      <td>DRYING</td>\n      <td>25.0</td>\n      <td>3545.1</td>\n      <td>25.3</td>\n      <td>761.3</td>\n    </tr>\n    <tr>\n      <th>34984</th>\n      <td>2020-04-16 12:12:27</td>\n      <td>DRYING</td>\n      <td>89.6</td>\n      <td>3769.0</td>\n      <td>62.9</td>\n      <td>245.0</td>\n    </tr>\n    <tr>\n      <th>204155</th>\n      <td>2020-08-11 23:43:27</td>\n      <td>FEEDING</td>\n      <td>0.0</td>\n      <td>2841.0</td>\n      <td>64.4</td>\n      <td>752.0</td>\n    </tr>\n    <tr>\n      <th>1024100</th>\n      <td>2022-03-04 09:28:27</td>\n      <td>DRYING</td>\n      <td>12.4</td>\n      <td>2722.0</td>\n      <td>72.1</td>\n      <td>519.1</td>\n    </tr>\n    <tr>\n      <th>894769</th>\n      <td>2021-12-04 13:57:27</td>\n      <td>FEEDING</td>\n      <td>0.0</td>\n      <td>3551.1</td>\n      <td>73.3</td>\n      <td>468.4</td>\n    </tr>\n    <tr>\n      <th>689137</th>\n      <td>2021-07-14 18:45:27</td>\n      <td>DRYING</td>\n      <td>13.0</td>\n      <td>3813.6</td>\n      <td>55.6</td>\n      <td>758.7</td>\n    </tr>\n    <tr>\n      <th>398574</th>\n      <td>2020-12-25 00:02:27</td>\n      <td>DRYING</td>\n      <td>0.0</td>\n      <td>3687.5</td>\n      <td>53.0</td>\n      <td>330.9</td>\n    </tr>\n    <tr>\n      <th>491419</th>\n      <td>2021-02-27 11:27:27</td>\n      <td>DISCHRG</td>\n      <td>0.0</td>\n      <td>36.5</td>\n      <td>24.9</td>\n      <td>761.8</td>\n    </tr>\n    <tr>\n      <th>412509</th>\n      <td>2021-01-03 16:17:27</td>\n      <td>DISCHRG</td>\n      <td>0.2</td>\n      <td>79.2</td>\n      <td>25.1</td>\n      <td>764.4</td>\n    </tr>\n    <tr>\n      <th>627613</th>\n      <td>2021-06-02 01:21:27</td>\n      <td>FEEDING</td>\n      <td>0.3</td>\n      <td>3827.1</td>\n      <td>58.7</td>\n      <td>759.4</td>\n    </tr>\n    <tr>\n      <th>754334</th>\n      <td>2021-08-29 01:22:27</td>\n      <td>DRYING</td>\n      <td>11.8</td>\n      <td>3764.8</td>\n      <td>78.0</td>\n      <td>774.7</td>\n    </tr>\n    <tr>\n      <th>433351</th>\n      <td>2021-01-18 03:39:27</td>\n      <td>DRYING</td>\n      <td>0.0</td>\n      <td>3701.1</td>\n      <td>67.2</td>\n      <td>372.8</td>\n    </tr>\n    <tr>\n      <th>926074</th>\n      <td>2021-12-26 07:42:27</td>\n      <td>DRYING</td>\n      <td>0.0</td>\n      <td>2330.9</td>\n      <td>39.8</td>\n      <td>450.0</td>\n    </tr>\n    <tr>\n      <th>433444</th>\n      <td>2021-01-18 05:12:27</td>\n      <td>DRYING</td>\n      <td>40.7</td>\n      <td>3659.4</td>\n      <td>49.7</td>\n      <td>387.7</td>\n    </tr>\n    <tr>\n      <th>558821</th>\n      <td>2021-04-15 06:49:27</td>\n      <td>DRYING</td>\n      <td>15.1</td>\n      <td>4057.7</td>\n      <td>68.2</td>\n      <td>471.9</td>\n    </tr>\n    <tr>\n      <th>303731</th>\n      <td>2020-10-20 03:19:27</td>\n      <td>DRYING</td>\n      <td>53.6</td>\n      <td>3785.3</td>\n      <td>45.4</td>\n      <td>256.8</td>\n    </tr>\n    <tr>\n      <th>456740</th>\n      <td>2021-02-03 09:28:27</td>\n      <td>DRYING</td>\n      <td>89.8</td>\n      <td>3690.8</td>\n      <td>47.3</td>\n      <td>336.0</td>\n    </tr>\n    <tr>\n      <th>13877</th>\n      <td>2020-04-01 20:25:27</td>\n      <td>DRYING</td>\n      <td>51.3</td>\n      <td>3922.1</td>\n      <td>20.3</td>\n      <td>754.2</td>\n    </tr>\n    <tr>\n      <th>639672</th>\n      <td>2021-06-10 10:20:27</td>\n      <td>DRYING</td>\n      <td>133.3</td>\n      <td>3727.2</td>\n      <td>64.3</td>\n      <td>469.9</td>\n    </tr>\n    <tr>\n      <th>471346</th>\n      <td>2021-02-13 12:54:27</td>\n      <td>PREPARE</td>\n      <td>0.4</td>\n      <td>-200.0</td>\n      <td>20.2</td>\n      <td>766.1</td>\n    </tr>\n    <tr>\n      <th>464302</th>\n      <td>2021-02-08 15:30:27</td>\n      <td>PREPARE</td>\n      <td>0.4</td>\n      <td>-200.0</td>\n      <td>23.2</td>\n      <td>764.3</td>\n    </tr>\n    <tr>\n      <th>42111</th>\n      <td>2020-04-21 10:59:27</td>\n      <td>FEEDING</td>\n      <td>0.0</td>\n      <td>3300.3</td>\n      <td>60.3</td>\n      <td>749.1</td>\n    </tr>\n    <tr>\n      <th>769601</th>\n      <td>2021-09-08 15:49:27</td>\n      <td>DRYING</td>\n      <td>5.5</td>\n      <td>3398.6</td>\n      <td>58.8</td>\n      <td>649.7</td>\n    </tr>\n    <tr>\n      <th>329140</th>\n      <td>2020-11-06 18:48:27</td>\n      <td>DRYING</td>\n      <td>133.3</td>\n      <td>3830.2</td>\n      <td>46.1</td>\n      <td>228.5</td>\n    </tr>\n    <tr>\n      <th>834357</th>\n      <td>2021-10-23 15:05:27</td>\n      <td>DRYING</td>\n      <td>0.0</td>\n      <td>3172.6</td>\n      <td>28.1</td>\n      <td>762.0</td>\n    </tr>\n  </tbody>\n</table>\n</div>"
     },
     "execution_count": 13,
     "metadata": {},
     "output_type": "execute_result"
    }
   ],
   "source": [
    "df.sample(40)"
   ]
  },
  {
   "cell_type": "code",
   "execution_count": 14,
   "metadata": {
    "pycharm": {
     "name": "#%%\n"
    }
   },
   "outputs": [],
   "source": [
    "df = df[df['phase'].str.contains ('DRYING|DISCHRG') == True]"
   ]
  },
  {
   "cell_type": "code",
   "execution_count": 15,
   "metadata": {
    "pycharm": {
     "name": "#%%\n"
    }
   },
   "outputs": [],
   "source": [
    "df.replace({'????????': None}, inplace=True)\n",
    "df.dropna(inplace=True)"
   ]
  },
  {
   "cell_type": "code",
   "execution_count": 16,
   "metadata": {
    "pycharm": {
     "name": "#%%\n"
    }
   },
   "outputs": [],
   "source": [
    "df['temp'] = df.temp.astype(float)\n",
    "df['weight'] = df.weight.astype(float)\n",
    "df['pressure'] = df.pressure.astype(float)\n",
    "df['heat_time'] = df.heat_time.astype(float)\n",
    "df['phase'] = df.phase.astype('category')\n",
    "# df.set_index('time', inplace=True)\n"
   ]
  },
  {
   "cell_type": "code",
   "execution_count": 17,
   "metadata": {
    "pycharm": {
     "name": "#%%\n"
    }
   },
   "outputs": [],
   "source": [
    "n = 180  # number of points to be checked before and after\n",
    "\n",
    "# Find local peaks\n",
    "df['max_temp'] = 0\n",
    "df['max_temp'] = df.iloc[argrelextrema(df.temp.values, np.greater_equal, order=n)]['temp']"
   ]
  },
  {
   "cell_type": "code",
   "execution_count": 18,
   "metadata": {
    "pycharm": {
     "name": "#%%\n"
    }
   },
   "outputs": [],
   "source": [
    "df['ready'] = 0"
   ]
  },
  {
   "cell_type": "code",
   "execution_count": 19,
   "metadata": {
    "pycharm": {
     "name": "#%%\n"
    }
   },
   "outputs": [],
   "source": [
    "for i in range (1, len(df['ready']-1)):\n",
    "    if df.max_temp.values[i] > 0:\n",
    "            while df['phase'].values[i] == 'DRYING':\n",
    "                i += 1\n",
    "                df.ready.values[i] = 1\n",
    "df = df.drop(['max_temp'], axis=1)"
   ]
  },
  {
   "cell_type": "code",
   "execution_count": 20,
   "metadata": {
    "pycharm": {
     "name": "#%%\n"
    },
    "scrolled": true
   },
   "outputs": [
    {
     "data": {
      "text/plain": "                   time   phase  heat_time  weight  temp  pressure  ready\n11  2020-03-23 05:19:27  DRYING       67.5  3799.5  60.3     270.9      0\n12  2020-03-23 05:20:27  DRYING       68.5  3800.0  60.3     272.3      0\n13  2020-03-23 05:21:27  DRYING       69.5  3799.8  60.1     290.7      0\n14  2020-03-23 05:22:27  DRYING       70.5  3797.7  59.8     305.8      0\n15  2020-03-23 05:23:27  DRYING       71.5  3795.8  60.0     280.7      0\n..                  ...     ...        ...     ...   ...       ...    ...\n330 2020-03-23 10:38:27  DRYING       40.4  3530.1  23.8     761.3      1\n331 2020-03-23 10:39:27  DRYING       41.4  3527.0  23.8     761.4      1\n332 2020-03-23 10:40:27  DRYING       42.4  3528.0  23.7     761.4      1\n333 2020-03-23 10:41:27  DRYING       43.4  3527.1  23.7     761.4      1\n334 2020-03-23 10:42:27  DRYING       44.4  3528.0  23.6     761.4      1\n\n[300 rows x 7 columns]",
      "text/html": "<div>\n<style scoped>\n    .dataframe tbody tr th:only-of-type {\n        vertical-align: middle;\n    }\n\n    .dataframe tbody tr th {\n        vertical-align: top;\n    }\n\n    .dataframe thead th {\n        text-align: right;\n    }\n</style>\n<table border=\"1\" class=\"dataframe\">\n  <thead>\n    <tr style=\"text-align: right;\">\n      <th></th>\n      <th>time</th>\n      <th>phase</th>\n      <th>heat_time</th>\n      <th>weight</th>\n      <th>temp</th>\n      <th>pressure</th>\n      <th>ready</th>\n    </tr>\n  </thead>\n  <tbody>\n    <tr>\n      <th>11</th>\n      <td>2020-03-23 05:19:27</td>\n      <td>DRYING</td>\n      <td>67.5</td>\n      <td>3799.5</td>\n      <td>60.3</td>\n      <td>270.9</td>\n      <td>0</td>\n    </tr>\n    <tr>\n      <th>12</th>\n      <td>2020-03-23 05:20:27</td>\n      <td>DRYING</td>\n      <td>68.5</td>\n      <td>3800.0</td>\n      <td>60.3</td>\n      <td>272.3</td>\n      <td>0</td>\n    </tr>\n    <tr>\n      <th>13</th>\n      <td>2020-03-23 05:21:27</td>\n      <td>DRYING</td>\n      <td>69.5</td>\n      <td>3799.8</td>\n      <td>60.1</td>\n      <td>290.7</td>\n      <td>0</td>\n    </tr>\n    <tr>\n      <th>14</th>\n      <td>2020-03-23 05:22:27</td>\n      <td>DRYING</td>\n      <td>70.5</td>\n      <td>3797.7</td>\n      <td>59.8</td>\n      <td>305.8</td>\n      <td>0</td>\n    </tr>\n    <tr>\n      <th>15</th>\n      <td>2020-03-23 05:23:27</td>\n      <td>DRYING</td>\n      <td>71.5</td>\n      <td>3795.8</td>\n      <td>60.0</td>\n      <td>280.7</td>\n      <td>0</td>\n    </tr>\n    <tr>\n      <th>...</th>\n      <td>...</td>\n      <td>...</td>\n      <td>...</td>\n      <td>...</td>\n      <td>...</td>\n      <td>...</td>\n      <td>...</td>\n    </tr>\n    <tr>\n      <th>330</th>\n      <td>2020-03-23 10:38:27</td>\n      <td>DRYING</td>\n      <td>40.4</td>\n      <td>3530.1</td>\n      <td>23.8</td>\n      <td>761.3</td>\n      <td>1</td>\n    </tr>\n    <tr>\n      <th>331</th>\n      <td>2020-03-23 10:39:27</td>\n      <td>DRYING</td>\n      <td>41.4</td>\n      <td>3527.0</td>\n      <td>23.8</td>\n      <td>761.4</td>\n      <td>1</td>\n    </tr>\n    <tr>\n      <th>332</th>\n      <td>2020-03-23 10:40:27</td>\n      <td>DRYING</td>\n      <td>42.4</td>\n      <td>3528.0</td>\n      <td>23.7</td>\n      <td>761.4</td>\n      <td>1</td>\n    </tr>\n    <tr>\n      <th>333</th>\n      <td>2020-03-23 10:41:27</td>\n      <td>DRYING</td>\n      <td>43.4</td>\n      <td>3527.1</td>\n      <td>23.7</td>\n      <td>761.4</td>\n      <td>1</td>\n    </tr>\n    <tr>\n      <th>334</th>\n      <td>2020-03-23 10:42:27</td>\n      <td>DRYING</td>\n      <td>44.4</td>\n      <td>3528.0</td>\n      <td>23.6</td>\n      <td>761.4</td>\n      <td>1</td>\n    </tr>\n  </tbody>\n</table>\n<p>300 rows × 7 columns</p>\n</div>"
     },
     "execution_count": 20,
     "metadata": {},
     "output_type": "execute_result"
    }
   ],
   "source": [
    "df.head(300)"
   ]
  },
  {
   "cell_type": "code",
   "execution_count": 21,
   "metadata": {
    "scrolled": false
   },
   "outputs": [
    {
     "data": {
      "text/plain": "                       time  phase  heat_time  weight  temp  pressure  ready\n11      2020-03-23 05:19:27      1       67.5  3799.5  60.3     270.9      0\n12      2020-03-23 05:20:27      1       68.5  3800.0  60.3     272.3      0\n13      2020-03-23 05:21:27      1       69.5  3799.8  60.1     290.7      0\n14      2020-03-23 05:22:27      1       70.5  3797.7  59.8     305.8      0\n15      2020-03-23 05:23:27      1       71.5  3795.8  60.0     280.7      0\n...                     ...    ...        ...     ...   ...       ...    ...\n1036772 2022-03-13 04:40:27      0        0.0   164.4  16.2     761.7      0\n1036773 2022-03-13 04:41:27      0        0.0   164.6  15.7     761.7      0\n1036774 2022-03-13 04:42:27      0        0.0   164.9  15.2     761.7      0\n1036775 2022-03-13 04:43:27      0        0.0   164.8  14.7     761.7      0\n1036776 2022-03-13 04:44:27      0        0.0   165.0  14.3     761.7      0\n\n[648323 rows x 7 columns]",
      "text/html": "<div>\n<style scoped>\n    .dataframe tbody tr th:only-of-type {\n        vertical-align: middle;\n    }\n\n    .dataframe tbody tr th {\n        vertical-align: top;\n    }\n\n    .dataframe thead th {\n        text-align: right;\n    }\n</style>\n<table border=\"1\" class=\"dataframe\">\n  <thead>\n    <tr style=\"text-align: right;\">\n      <th></th>\n      <th>time</th>\n      <th>phase</th>\n      <th>heat_time</th>\n      <th>weight</th>\n      <th>temp</th>\n      <th>pressure</th>\n      <th>ready</th>\n    </tr>\n  </thead>\n  <tbody>\n    <tr>\n      <th>11</th>\n      <td>2020-03-23 05:19:27</td>\n      <td>1</td>\n      <td>67.5</td>\n      <td>3799.5</td>\n      <td>60.3</td>\n      <td>270.9</td>\n      <td>0</td>\n    </tr>\n    <tr>\n      <th>12</th>\n      <td>2020-03-23 05:20:27</td>\n      <td>1</td>\n      <td>68.5</td>\n      <td>3800.0</td>\n      <td>60.3</td>\n      <td>272.3</td>\n      <td>0</td>\n    </tr>\n    <tr>\n      <th>13</th>\n      <td>2020-03-23 05:21:27</td>\n      <td>1</td>\n      <td>69.5</td>\n      <td>3799.8</td>\n      <td>60.1</td>\n      <td>290.7</td>\n      <td>0</td>\n    </tr>\n    <tr>\n      <th>14</th>\n      <td>2020-03-23 05:22:27</td>\n      <td>1</td>\n      <td>70.5</td>\n      <td>3797.7</td>\n      <td>59.8</td>\n      <td>305.8</td>\n      <td>0</td>\n    </tr>\n    <tr>\n      <th>15</th>\n      <td>2020-03-23 05:23:27</td>\n      <td>1</td>\n      <td>71.5</td>\n      <td>3795.8</td>\n      <td>60.0</td>\n      <td>280.7</td>\n      <td>0</td>\n    </tr>\n    <tr>\n      <th>...</th>\n      <td>...</td>\n      <td>...</td>\n      <td>...</td>\n      <td>...</td>\n      <td>...</td>\n      <td>...</td>\n      <td>...</td>\n    </tr>\n    <tr>\n      <th>1036772</th>\n      <td>2022-03-13 04:40:27</td>\n      <td>0</td>\n      <td>0.0</td>\n      <td>164.4</td>\n      <td>16.2</td>\n      <td>761.7</td>\n      <td>0</td>\n    </tr>\n    <tr>\n      <th>1036773</th>\n      <td>2022-03-13 04:41:27</td>\n      <td>0</td>\n      <td>0.0</td>\n      <td>164.6</td>\n      <td>15.7</td>\n      <td>761.7</td>\n      <td>0</td>\n    </tr>\n    <tr>\n      <th>1036774</th>\n      <td>2022-03-13 04:42:27</td>\n      <td>0</td>\n      <td>0.0</td>\n      <td>164.9</td>\n      <td>15.2</td>\n      <td>761.7</td>\n      <td>0</td>\n    </tr>\n    <tr>\n      <th>1036775</th>\n      <td>2022-03-13 04:43:27</td>\n      <td>0</td>\n      <td>0.0</td>\n      <td>164.8</td>\n      <td>14.7</td>\n      <td>761.7</td>\n      <td>0</td>\n    </tr>\n    <tr>\n      <th>1036776</th>\n      <td>2022-03-13 04:44:27</td>\n      <td>0</td>\n      <td>0.0</td>\n      <td>165.0</td>\n      <td>14.3</td>\n      <td>761.7</td>\n      <td>0</td>\n    </tr>\n  </tbody>\n</table>\n<p>648323 rows × 7 columns</p>\n</div>"
     },
     "execution_count": 21,
     "metadata": {},
     "output_type": "execute_result"
    }
   ],
   "source": [
    "# Labeel encoding\n",
    "df['phase'] = df['phase'].cat.codes\n",
    "df"
   ]
  },
  {
   "cell_type": "code",
   "execution_count": 22,
   "metadata": {},
   "outputs": [],
   "source": [
    "df['p_lagged_30'] = df['pressure'].shift(-30)\n",
    "df['t_lagged_30'] = df['temp'].shift(-30)\n",
    "df['w_lagged_30'] = df['weight'].shift(-30)\n",
    "df['ps_lagged_30'] = df['phase'].shift(-30)\n",
    "df['ht_lagged_30'] = df['heat_time'].shift(-30)\n",
    "\n",
    "df['p_lagged_25'] = df['pressure'].shift(-25)\n",
    "df['t_lagged_25'] = df['temp'].shift(-25)\n",
    "df['w_lagged_25'] = df['weight'].shift(-25)\n",
    "df['ps_lagged_25'] = df['phase'].shift(-25)\n",
    "df['ht_lagged_25'] = df['heat_time'].shift(-25)"
   ]
  },
  {
   "cell_type": "code",
   "execution_count": 23,
   "metadata": {
    "pycharm": {
     "name": "#%%\n"
    },
    "scrolled": false
   },
   "outputs": [
    {
     "name": "stdout",
     "output_type": "stream",
     "text": [
      "[[Timestamp('2021-03-16 12:41:27') 1 23.1 ... 66.3 3849.7 1.0]\n",
      " [Timestamp('2021-01-06 13:57:27') 1 77.9 ... 65.6 3581.2 1.0]\n",
      " [Timestamp('2021-01-25 18:11:27') 1 74.7 ... 67.0 3769.4 1.0]\n",
      " ...\n",
      " [Timestamp('2020-07-20 16:32:27') 1 133.3 ... 52.8 3699.8 1.0]\n",
      " [Timestamp('2021-07-09 10:54:27') 1 9.0 ... 72.9 3702.8 1.0]\n",
      " [Timestamp('2021-02-06 12:28:27') 1 53.7 ... 51.1 3731.3 1.0]]\n",
      "[ 48.  103.1  99.6 ... 133.3   7.9  73.8]\n",
      "[[Timestamp('2020-12-05 10:35:27') 1 15.3 ... 70.2 3737.5 1.0]\n",
      " [Timestamp('2020-08-19 17:07:27') 0 0.0 ... 29.7 -7.0 0.0]\n",
      " [Timestamp('2021-07-03 10:15:27') 0 0.0 ... 72.7 3776.4 1.0]\n",
      " ...\n",
      " [Timestamp('2020-10-09 20:28:27') 1 132.6 ... 55.1 3629.2 1.0]\n",
      " [Timestamp('2021-03-02 01:24:27') 1 92.0 ... 60.5 3656.2 1.0]\n",
      " [Timestamp('2022-02-17 10:21:27') 0 0.0 ... 46.9 2557.1 1.0]]\n",
      "[  0.    0.   22.6 ... 133.3 117.   25.5]\n"
     ]
    }
   ],
   "source": [
    "X = df.values[:,:-1]\n",
    "y = df.iloc[:, -1].values\n",
    "\n",
    "# Splitting the dataset into the Training set and Test set\n",
    "from sklearn.model_selection import train_test_split\n",
    "X_train, X_test, y_train, y_test = train_test_split(X, y, test_size = 0.25, random_state = 0)\n",
    "print(X_train)\n",
    "print(y_train)\n",
    "print(X_test)\n",
    "print(y_test)\n"
   ]
  },
  {
   "cell_type": "code",
   "execution_count": 24,
   "metadata": {},
   "outputs": [
    {
     "data": {
      "text/plain": "                       time  phase  heat_time  weight  temp  pressure  ready  \\\n1036737 2022-03-13 04:05:27      1      133.3  3405.5  42.9     535.4      1   \n1036738 2022-03-13 04:06:27      1      133.3  3399.6  42.8     480.8      1   \n1036739 2022-03-13 04:07:27      1      133.3  3405.5  42.7     464.1      1   \n1036740 2022-03-13 04:08:27      1      133.3  3405.1  42.6     479.7      1   \n1036741 2022-03-13 04:09:27      1      133.3  3400.1  42.5     487.9      1   \n1036742 2022-03-13 04:10:27      1      119.7  3396.0  42.4     467.2      1   \n1036743 2022-03-13 04:11:27      1      103.8  3402.0  42.3     491.7      1   \n1036744 2022-03-13 04:12:27      1       87.8  3402.3  42.3     502.8      1   \n1036745 2022-03-13 04:13:27      1       71.9  3398.9  42.3     471.3      1   \n1036746 2022-03-13 04:14:27      1       55.9  3402.9  42.4     507.6      1   \n1036747 2022-03-13 04:15:27      1       40.0  3401.4  42.4     523.6      1   \n1036748 2022-03-13 04:16:27      1       24.0  3397.9  42.4     478.0      1   \n1036749 2022-03-13 04:17:27      1        8.0  3403.7  42.4     521.9      1   \n1036750 2022-03-13 04:18:27      1        0.0  3437.5  42.3     646.3      1   \n1036751 2022-03-13 04:19:27      1        0.0  3437.3  41.3     754.0      1   \n1036752 2022-03-13 04:20:27      1        0.0  3440.5  39.5     761.1      1   \n1036753 2022-03-13 04:21:27      1        0.0  3443.3  37.5     761.7      1   \n1036754 2022-03-13 04:22:27      1        0.0  3446.2  35.7     761.7      1   \n1036755 2022-03-13 04:23:27      1        0.0  3449.0  33.9     761.7      1   \n1036756 2022-03-13 04:24:27      1        0.0  3447.2  32.2     761.7      1   \n1036757 2022-03-13 04:25:27      0        0.0  3442.7  30.7     761.7      1   \n1036758 2022-03-13 04:26:27      0        0.0  3444.2  29.3     761.7      0   \n1036759 2022-03-13 04:27:27      0        0.0  3441.4  27.9     761.7      0   \n1036760 2022-03-13 04:28:27      0        0.0  3441.4  26.7     761.7      0   \n1036761 2022-03-13 04:29:27      0        0.0  3443.8  25.2     761.7      0   \n1036762 2022-03-13 04:30:27      0        0.0  1928.2  24.4     756.5      0   \n1036763 2022-03-13 04:31:27      0        0.0   788.3  23.3     757.1      0   \n1036764 2022-03-13 04:32:27      0        0.0   496.7  22.4     760.3      0   \n1036765 2022-03-13 04:33:27      0        0.0   356.7  21.3     760.7      0   \n1036766 2022-03-13 04:34:27      0        0.0   260.7  20.3     761.1      0   \n1036767 2022-03-13 04:35:27      0        0.0   193.2  19.5     761.1      0   \n1036768 2022-03-13 04:36:27      0        0.0   164.0  18.9     761.1      0   \n1036769 2022-03-13 04:37:27      0        0.0   164.0  18.0     761.7      0   \n1036770 2022-03-13 04:38:27      0        0.0   164.0  17.5     761.7      0   \n1036771 2022-03-13 04:39:27      0        0.0   164.1  16.8     761.7      0   \n1036772 2022-03-13 04:40:27      0        0.0   164.4  16.2     761.7      0   \n1036773 2022-03-13 04:41:27      0        0.0   164.6  15.7     761.7      0   \n1036774 2022-03-13 04:42:27      0        0.0   164.9  15.2     761.7      0   \n1036775 2022-03-13 04:43:27      0        0.0   164.8  14.7     761.7      0   \n1036776 2022-03-13 04:44:27      0        0.0   165.0  14.3     761.7      0   \n\n         p_lagged_30  t_lagged_30  w_lagged_30  ps_lagged_30  ht_lagged_30  \\\n1036737        761.1         19.5        193.2           0.0           0.0   \n1036738        761.1         18.9        164.0           0.0           0.0   \n1036739        761.7         18.0        164.0           0.0           0.0   \n1036740        761.7         17.5        164.0           0.0           0.0   \n1036741        761.7         16.8        164.1           0.0           0.0   \n1036742        761.7         16.2        164.4           0.0           0.0   \n1036743        761.7         15.7        164.6           0.0           0.0   \n1036744        761.7         15.2        164.9           0.0           0.0   \n1036745        761.7         14.7        164.8           0.0           0.0   \n1036746        761.7         14.3        165.0           0.0           0.0   \n1036747          NaN          NaN          NaN           NaN           NaN   \n1036748          NaN          NaN          NaN           NaN           NaN   \n1036749          NaN          NaN          NaN           NaN           NaN   \n1036750          NaN          NaN          NaN           NaN           NaN   \n1036751          NaN          NaN          NaN           NaN           NaN   \n1036752          NaN          NaN          NaN           NaN           NaN   \n1036753          NaN          NaN          NaN           NaN           NaN   \n1036754          NaN          NaN          NaN           NaN           NaN   \n1036755          NaN          NaN          NaN           NaN           NaN   \n1036756          NaN          NaN          NaN           NaN           NaN   \n1036757          NaN          NaN          NaN           NaN           NaN   \n1036758          NaN          NaN          NaN           NaN           NaN   \n1036759          NaN          NaN          NaN           NaN           NaN   \n1036760          NaN          NaN          NaN           NaN           NaN   \n1036761          NaN          NaN          NaN           NaN           NaN   \n1036762          NaN          NaN          NaN           NaN           NaN   \n1036763          NaN          NaN          NaN           NaN           NaN   \n1036764          NaN          NaN          NaN           NaN           NaN   \n1036765          NaN          NaN          NaN           NaN           NaN   \n1036766          NaN          NaN          NaN           NaN           NaN   \n1036767          NaN          NaN          NaN           NaN           NaN   \n1036768          NaN          NaN          NaN           NaN           NaN   \n1036769          NaN          NaN          NaN           NaN           NaN   \n1036770          NaN          NaN          NaN           NaN           NaN   \n1036771          NaN          NaN          NaN           NaN           NaN   \n1036772          NaN          NaN          NaN           NaN           NaN   \n1036773          NaN          NaN          NaN           NaN           NaN   \n1036774          NaN          NaN          NaN           NaN           NaN   \n1036775          NaN          NaN          NaN           NaN           NaN   \n1036776          NaN          NaN          NaN           NaN           NaN   \n\n         p_lagged_25  t_lagged_25  w_lagged_25  ps_lagged_25  ht_lagged_25  \n1036737        756.5         24.4       1928.2           0.0           0.0  \n1036738        757.1         23.3        788.3           0.0           0.0  \n1036739        760.3         22.4        496.7           0.0           0.0  \n1036740        760.7         21.3        356.7           0.0           0.0  \n1036741        761.1         20.3        260.7           0.0           0.0  \n1036742        761.1         19.5        193.2           0.0           0.0  \n1036743        761.1         18.9        164.0           0.0           0.0  \n1036744        761.7         18.0        164.0           0.0           0.0  \n1036745        761.7         17.5        164.0           0.0           0.0  \n1036746        761.7         16.8        164.1           0.0           0.0  \n1036747        761.7         16.2        164.4           0.0           0.0  \n1036748        761.7         15.7        164.6           0.0           0.0  \n1036749        761.7         15.2        164.9           0.0           0.0  \n1036750        761.7         14.7        164.8           0.0           0.0  \n1036751        761.7         14.3        165.0           0.0           0.0  \n1036752          NaN          NaN          NaN           NaN           NaN  \n1036753          NaN          NaN          NaN           NaN           NaN  \n1036754          NaN          NaN          NaN           NaN           NaN  \n1036755          NaN          NaN          NaN           NaN           NaN  \n1036756          NaN          NaN          NaN           NaN           NaN  \n1036757          NaN          NaN          NaN           NaN           NaN  \n1036758          NaN          NaN          NaN           NaN           NaN  \n1036759          NaN          NaN          NaN           NaN           NaN  \n1036760          NaN          NaN          NaN           NaN           NaN  \n1036761          NaN          NaN          NaN           NaN           NaN  \n1036762          NaN          NaN          NaN           NaN           NaN  \n1036763          NaN          NaN          NaN           NaN           NaN  \n1036764          NaN          NaN          NaN           NaN           NaN  \n1036765          NaN          NaN          NaN           NaN           NaN  \n1036766          NaN          NaN          NaN           NaN           NaN  \n1036767          NaN          NaN          NaN           NaN           NaN  \n1036768          NaN          NaN          NaN           NaN           NaN  \n1036769          NaN          NaN          NaN           NaN           NaN  \n1036770          NaN          NaN          NaN           NaN           NaN  \n1036771          NaN          NaN          NaN           NaN           NaN  \n1036772          NaN          NaN          NaN           NaN           NaN  \n1036773          NaN          NaN          NaN           NaN           NaN  \n1036774          NaN          NaN          NaN           NaN           NaN  \n1036775          NaN          NaN          NaN           NaN           NaN  \n1036776          NaN          NaN          NaN           NaN           NaN  ",
      "text/html": "<div>\n<style scoped>\n    .dataframe tbody tr th:only-of-type {\n        vertical-align: middle;\n    }\n\n    .dataframe tbody tr th {\n        vertical-align: top;\n    }\n\n    .dataframe thead th {\n        text-align: right;\n    }\n</style>\n<table border=\"1\" class=\"dataframe\">\n  <thead>\n    <tr style=\"text-align: right;\">\n      <th></th>\n      <th>time</th>\n      <th>phase</th>\n      <th>heat_time</th>\n      <th>weight</th>\n      <th>temp</th>\n      <th>pressure</th>\n      <th>ready</th>\n      <th>p_lagged_30</th>\n      <th>t_lagged_30</th>\n      <th>w_lagged_30</th>\n      <th>ps_lagged_30</th>\n      <th>ht_lagged_30</th>\n      <th>p_lagged_25</th>\n      <th>t_lagged_25</th>\n      <th>w_lagged_25</th>\n      <th>ps_lagged_25</th>\n      <th>ht_lagged_25</th>\n    </tr>\n  </thead>\n  <tbody>\n    <tr>\n      <th>1036737</th>\n      <td>2022-03-13 04:05:27</td>\n      <td>1</td>\n      <td>133.3</td>\n      <td>3405.5</td>\n      <td>42.9</td>\n      <td>535.4</td>\n      <td>1</td>\n      <td>761.1</td>\n      <td>19.5</td>\n      <td>193.2</td>\n      <td>0.0</td>\n      <td>0.0</td>\n      <td>756.5</td>\n      <td>24.4</td>\n      <td>1928.2</td>\n      <td>0.0</td>\n      <td>0.0</td>\n    </tr>\n    <tr>\n      <th>1036738</th>\n      <td>2022-03-13 04:06:27</td>\n      <td>1</td>\n      <td>133.3</td>\n      <td>3399.6</td>\n      <td>42.8</td>\n      <td>480.8</td>\n      <td>1</td>\n      <td>761.1</td>\n      <td>18.9</td>\n      <td>164.0</td>\n      <td>0.0</td>\n      <td>0.0</td>\n      <td>757.1</td>\n      <td>23.3</td>\n      <td>788.3</td>\n      <td>0.0</td>\n      <td>0.0</td>\n    </tr>\n    <tr>\n      <th>1036739</th>\n      <td>2022-03-13 04:07:27</td>\n      <td>1</td>\n      <td>133.3</td>\n      <td>3405.5</td>\n      <td>42.7</td>\n      <td>464.1</td>\n      <td>1</td>\n      <td>761.7</td>\n      <td>18.0</td>\n      <td>164.0</td>\n      <td>0.0</td>\n      <td>0.0</td>\n      <td>760.3</td>\n      <td>22.4</td>\n      <td>496.7</td>\n      <td>0.0</td>\n      <td>0.0</td>\n    </tr>\n    <tr>\n      <th>1036740</th>\n      <td>2022-03-13 04:08:27</td>\n      <td>1</td>\n      <td>133.3</td>\n      <td>3405.1</td>\n      <td>42.6</td>\n      <td>479.7</td>\n      <td>1</td>\n      <td>761.7</td>\n      <td>17.5</td>\n      <td>164.0</td>\n      <td>0.0</td>\n      <td>0.0</td>\n      <td>760.7</td>\n      <td>21.3</td>\n      <td>356.7</td>\n      <td>0.0</td>\n      <td>0.0</td>\n    </tr>\n    <tr>\n      <th>1036741</th>\n      <td>2022-03-13 04:09:27</td>\n      <td>1</td>\n      <td>133.3</td>\n      <td>3400.1</td>\n      <td>42.5</td>\n      <td>487.9</td>\n      <td>1</td>\n      <td>761.7</td>\n      <td>16.8</td>\n      <td>164.1</td>\n      <td>0.0</td>\n      <td>0.0</td>\n      <td>761.1</td>\n      <td>20.3</td>\n      <td>260.7</td>\n      <td>0.0</td>\n      <td>0.0</td>\n    </tr>\n    <tr>\n      <th>1036742</th>\n      <td>2022-03-13 04:10:27</td>\n      <td>1</td>\n      <td>119.7</td>\n      <td>3396.0</td>\n      <td>42.4</td>\n      <td>467.2</td>\n      <td>1</td>\n      <td>761.7</td>\n      <td>16.2</td>\n      <td>164.4</td>\n      <td>0.0</td>\n      <td>0.0</td>\n      <td>761.1</td>\n      <td>19.5</td>\n      <td>193.2</td>\n      <td>0.0</td>\n      <td>0.0</td>\n    </tr>\n    <tr>\n      <th>1036743</th>\n      <td>2022-03-13 04:11:27</td>\n      <td>1</td>\n      <td>103.8</td>\n      <td>3402.0</td>\n      <td>42.3</td>\n      <td>491.7</td>\n      <td>1</td>\n      <td>761.7</td>\n      <td>15.7</td>\n      <td>164.6</td>\n      <td>0.0</td>\n      <td>0.0</td>\n      <td>761.1</td>\n      <td>18.9</td>\n      <td>164.0</td>\n      <td>0.0</td>\n      <td>0.0</td>\n    </tr>\n    <tr>\n      <th>1036744</th>\n      <td>2022-03-13 04:12:27</td>\n      <td>1</td>\n      <td>87.8</td>\n      <td>3402.3</td>\n      <td>42.3</td>\n      <td>502.8</td>\n      <td>1</td>\n      <td>761.7</td>\n      <td>15.2</td>\n      <td>164.9</td>\n      <td>0.0</td>\n      <td>0.0</td>\n      <td>761.7</td>\n      <td>18.0</td>\n      <td>164.0</td>\n      <td>0.0</td>\n      <td>0.0</td>\n    </tr>\n    <tr>\n      <th>1036745</th>\n      <td>2022-03-13 04:13:27</td>\n      <td>1</td>\n      <td>71.9</td>\n      <td>3398.9</td>\n      <td>42.3</td>\n      <td>471.3</td>\n      <td>1</td>\n      <td>761.7</td>\n      <td>14.7</td>\n      <td>164.8</td>\n      <td>0.0</td>\n      <td>0.0</td>\n      <td>761.7</td>\n      <td>17.5</td>\n      <td>164.0</td>\n      <td>0.0</td>\n      <td>0.0</td>\n    </tr>\n    <tr>\n      <th>1036746</th>\n      <td>2022-03-13 04:14:27</td>\n      <td>1</td>\n      <td>55.9</td>\n      <td>3402.9</td>\n      <td>42.4</td>\n      <td>507.6</td>\n      <td>1</td>\n      <td>761.7</td>\n      <td>14.3</td>\n      <td>165.0</td>\n      <td>0.0</td>\n      <td>0.0</td>\n      <td>761.7</td>\n      <td>16.8</td>\n      <td>164.1</td>\n      <td>0.0</td>\n      <td>0.0</td>\n    </tr>\n    <tr>\n      <th>1036747</th>\n      <td>2022-03-13 04:15:27</td>\n      <td>1</td>\n      <td>40.0</td>\n      <td>3401.4</td>\n      <td>42.4</td>\n      <td>523.6</td>\n      <td>1</td>\n      <td>NaN</td>\n      <td>NaN</td>\n      <td>NaN</td>\n      <td>NaN</td>\n      <td>NaN</td>\n      <td>761.7</td>\n      <td>16.2</td>\n      <td>164.4</td>\n      <td>0.0</td>\n      <td>0.0</td>\n    </tr>\n    <tr>\n      <th>1036748</th>\n      <td>2022-03-13 04:16:27</td>\n      <td>1</td>\n      <td>24.0</td>\n      <td>3397.9</td>\n      <td>42.4</td>\n      <td>478.0</td>\n      <td>1</td>\n      <td>NaN</td>\n      <td>NaN</td>\n      <td>NaN</td>\n      <td>NaN</td>\n      <td>NaN</td>\n      <td>761.7</td>\n      <td>15.7</td>\n      <td>164.6</td>\n      <td>0.0</td>\n      <td>0.0</td>\n    </tr>\n    <tr>\n      <th>1036749</th>\n      <td>2022-03-13 04:17:27</td>\n      <td>1</td>\n      <td>8.0</td>\n      <td>3403.7</td>\n      <td>42.4</td>\n      <td>521.9</td>\n      <td>1</td>\n      <td>NaN</td>\n      <td>NaN</td>\n      <td>NaN</td>\n      <td>NaN</td>\n      <td>NaN</td>\n      <td>761.7</td>\n      <td>15.2</td>\n      <td>164.9</td>\n      <td>0.0</td>\n      <td>0.0</td>\n    </tr>\n    <tr>\n      <th>1036750</th>\n      <td>2022-03-13 04:18:27</td>\n      <td>1</td>\n      <td>0.0</td>\n      <td>3437.5</td>\n      <td>42.3</td>\n      <td>646.3</td>\n      <td>1</td>\n      <td>NaN</td>\n      <td>NaN</td>\n      <td>NaN</td>\n      <td>NaN</td>\n      <td>NaN</td>\n      <td>761.7</td>\n      <td>14.7</td>\n      <td>164.8</td>\n      <td>0.0</td>\n      <td>0.0</td>\n    </tr>\n    <tr>\n      <th>1036751</th>\n      <td>2022-03-13 04:19:27</td>\n      <td>1</td>\n      <td>0.0</td>\n      <td>3437.3</td>\n      <td>41.3</td>\n      <td>754.0</td>\n      <td>1</td>\n      <td>NaN</td>\n      <td>NaN</td>\n      <td>NaN</td>\n      <td>NaN</td>\n      <td>NaN</td>\n      <td>761.7</td>\n      <td>14.3</td>\n      <td>165.0</td>\n      <td>0.0</td>\n      <td>0.0</td>\n    </tr>\n    <tr>\n      <th>1036752</th>\n      <td>2022-03-13 04:20:27</td>\n      <td>1</td>\n      <td>0.0</td>\n      <td>3440.5</td>\n      <td>39.5</td>\n      <td>761.1</td>\n      <td>1</td>\n      <td>NaN</td>\n      <td>NaN</td>\n      <td>NaN</td>\n      <td>NaN</td>\n      <td>NaN</td>\n      <td>NaN</td>\n      <td>NaN</td>\n      <td>NaN</td>\n      <td>NaN</td>\n      <td>NaN</td>\n    </tr>\n    <tr>\n      <th>1036753</th>\n      <td>2022-03-13 04:21:27</td>\n      <td>1</td>\n      <td>0.0</td>\n      <td>3443.3</td>\n      <td>37.5</td>\n      <td>761.7</td>\n      <td>1</td>\n      <td>NaN</td>\n      <td>NaN</td>\n      <td>NaN</td>\n      <td>NaN</td>\n      <td>NaN</td>\n      <td>NaN</td>\n      <td>NaN</td>\n      <td>NaN</td>\n      <td>NaN</td>\n      <td>NaN</td>\n    </tr>\n    <tr>\n      <th>1036754</th>\n      <td>2022-03-13 04:22:27</td>\n      <td>1</td>\n      <td>0.0</td>\n      <td>3446.2</td>\n      <td>35.7</td>\n      <td>761.7</td>\n      <td>1</td>\n      <td>NaN</td>\n      <td>NaN</td>\n      <td>NaN</td>\n      <td>NaN</td>\n      <td>NaN</td>\n      <td>NaN</td>\n      <td>NaN</td>\n      <td>NaN</td>\n      <td>NaN</td>\n      <td>NaN</td>\n    </tr>\n    <tr>\n      <th>1036755</th>\n      <td>2022-03-13 04:23:27</td>\n      <td>1</td>\n      <td>0.0</td>\n      <td>3449.0</td>\n      <td>33.9</td>\n      <td>761.7</td>\n      <td>1</td>\n      <td>NaN</td>\n      <td>NaN</td>\n      <td>NaN</td>\n      <td>NaN</td>\n      <td>NaN</td>\n      <td>NaN</td>\n      <td>NaN</td>\n      <td>NaN</td>\n      <td>NaN</td>\n      <td>NaN</td>\n    </tr>\n    <tr>\n      <th>1036756</th>\n      <td>2022-03-13 04:24:27</td>\n      <td>1</td>\n      <td>0.0</td>\n      <td>3447.2</td>\n      <td>32.2</td>\n      <td>761.7</td>\n      <td>1</td>\n      <td>NaN</td>\n      <td>NaN</td>\n      <td>NaN</td>\n      <td>NaN</td>\n      <td>NaN</td>\n      <td>NaN</td>\n      <td>NaN</td>\n      <td>NaN</td>\n      <td>NaN</td>\n      <td>NaN</td>\n    </tr>\n    <tr>\n      <th>1036757</th>\n      <td>2022-03-13 04:25:27</td>\n      <td>0</td>\n      <td>0.0</td>\n      <td>3442.7</td>\n      <td>30.7</td>\n      <td>761.7</td>\n      <td>1</td>\n      <td>NaN</td>\n      <td>NaN</td>\n      <td>NaN</td>\n      <td>NaN</td>\n      <td>NaN</td>\n      <td>NaN</td>\n      <td>NaN</td>\n      <td>NaN</td>\n      <td>NaN</td>\n      <td>NaN</td>\n    </tr>\n    <tr>\n      <th>1036758</th>\n      <td>2022-03-13 04:26:27</td>\n      <td>0</td>\n      <td>0.0</td>\n      <td>3444.2</td>\n      <td>29.3</td>\n      <td>761.7</td>\n      <td>0</td>\n      <td>NaN</td>\n      <td>NaN</td>\n      <td>NaN</td>\n      <td>NaN</td>\n      <td>NaN</td>\n      <td>NaN</td>\n      <td>NaN</td>\n      <td>NaN</td>\n      <td>NaN</td>\n      <td>NaN</td>\n    </tr>\n    <tr>\n      <th>1036759</th>\n      <td>2022-03-13 04:27:27</td>\n      <td>0</td>\n      <td>0.0</td>\n      <td>3441.4</td>\n      <td>27.9</td>\n      <td>761.7</td>\n      <td>0</td>\n      <td>NaN</td>\n      <td>NaN</td>\n      <td>NaN</td>\n      <td>NaN</td>\n      <td>NaN</td>\n      <td>NaN</td>\n      <td>NaN</td>\n      <td>NaN</td>\n      <td>NaN</td>\n      <td>NaN</td>\n    </tr>\n    <tr>\n      <th>1036760</th>\n      <td>2022-03-13 04:28:27</td>\n      <td>0</td>\n      <td>0.0</td>\n      <td>3441.4</td>\n      <td>26.7</td>\n      <td>761.7</td>\n      <td>0</td>\n      <td>NaN</td>\n      <td>NaN</td>\n      <td>NaN</td>\n      <td>NaN</td>\n      <td>NaN</td>\n      <td>NaN</td>\n      <td>NaN</td>\n      <td>NaN</td>\n      <td>NaN</td>\n      <td>NaN</td>\n    </tr>\n    <tr>\n      <th>1036761</th>\n      <td>2022-03-13 04:29:27</td>\n      <td>0</td>\n      <td>0.0</td>\n      <td>3443.8</td>\n      <td>25.2</td>\n      <td>761.7</td>\n      <td>0</td>\n      <td>NaN</td>\n      <td>NaN</td>\n      <td>NaN</td>\n      <td>NaN</td>\n      <td>NaN</td>\n      <td>NaN</td>\n      <td>NaN</td>\n      <td>NaN</td>\n      <td>NaN</td>\n      <td>NaN</td>\n    </tr>\n    <tr>\n      <th>1036762</th>\n      <td>2022-03-13 04:30:27</td>\n      <td>0</td>\n      <td>0.0</td>\n      <td>1928.2</td>\n      <td>24.4</td>\n      <td>756.5</td>\n      <td>0</td>\n      <td>NaN</td>\n      <td>NaN</td>\n      <td>NaN</td>\n      <td>NaN</td>\n      <td>NaN</td>\n      <td>NaN</td>\n      <td>NaN</td>\n      <td>NaN</td>\n      <td>NaN</td>\n      <td>NaN</td>\n    </tr>\n    <tr>\n      <th>1036763</th>\n      <td>2022-03-13 04:31:27</td>\n      <td>0</td>\n      <td>0.0</td>\n      <td>788.3</td>\n      <td>23.3</td>\n      <td>757.1</td>\n      <td>0</td>\n      <td>NaN</td>\n      <td>NaN</td>\n      <td>NaN</td>\n      <td>NaN</td>\n      <td>NaN</td>\n      <td>NaN</td>\n      <td>NaN</td>\n      <td>NaN</td>\n      <td>NaN</td>\n      <td>NaN</td>\n    </tr>\n    <tr>\n      <th>1036764</th>\n      <td>2022-03-13 04:32:27</td>\n      <td>0</td>\n      <td>0.0</td>\n      <td>496.7</td>\n      <td>22.4</td>\n      <td>760.3</td>\n      <td>0</td>\n      <td>NaN</td>\n      <td>NaN</td>\n      <td>NaN</td>\n      <td>NaN</td>\n      <td>NaN</td>\n      <td>NaN</td>\n      <td>NaN</td>\n      <td>NaN</td>\n      <td>NaN</td>\n      <td>NaN</td>\n    </tr>\n    <tr>\n      <th>1036765</th>\n      <td>2022-03-13 04:33:27</td>\n      <td>0</td>\n      <td>0.0</td>\n      <td>356.7</td>\n      <td>21.3</td>\n      <td>760.7</td>\n      <td>0</td>\n      <td>NaN</td>\n      <td>NaN</td>\n      <td>NaN</td>\n      <td>NaN</td>\n      <td>NaN</td>\n      <td>NaN</td>\n      <td>NaN</td>\n      <td>NaN</td>\n      <td>NaN</td>\n      <td>NaN</td>\n    </tr>\n    <tr>\n      <th>1036766</th>\n      <td>2022-03-13 04:34:27</td>\n      <td>0</td>\n      <td>0.0</td>\n      <td>260.7</td>\n      <td>20.3</td>\n      <td>761.1</td>\n      <td>0</td>\n      <td>NaN</td>\n      <td>NaN</td>\n      <td>NaN</td>\n      <td>NaN</td>\n      <td>NaN</td>\n      <td>NaN</td>\n      <td>NaN</td>\n      <td>NaN</td>\n      <td>NaN</td>\n      <td>NaN</td>\n    </tr>\n    <tr>\n      <th>1036767</th>\n      <td>2022-03-13 04:35:27</td>\n      <td>0</td>\n      <td>0.0</td>\n      <td>193.2</td>\n      <td>19.5</td>\n      <td>761.1</td>\n      <td>0</td>\n      <td>NaN</td>\n      <td>NaN</td>\n      <td>NaN</td>\n      <td>NaN</td>\n      <td>NaN</td>\n      <td>NaN</td>\n      <td>NaN</td>\n      <td>NaN</td>\n      <td>NaN</td>\n      <td>NaN</td>\n    </tr>\n    <tr>\n      <th>1036768</th>\n      <td>2022-03-13 04:36:27</td>\n      <td>0</td>\n      <td>0.0</td>\n      <td>164.0</td>\n      <td>18.9</td>\n      <td>761.1</td>\n      <td>0</td>\n      <td>NaN</td>\n      <td>NaN</td>\n      <td>NaN</td>\n      <td>NaN</td>\n      <td>NaN</td>\n      <td>NaN</td>\n      <td>NaN</td>\n      <td>NaN</td>\n      <td>NaN</td>\n      <td>NaN</td>\n    </tr>\n    <tr>\n      <th>1036769</th>\n      <td>2022-03-13 04:37:27</td>\n      <td>0</td>\n      <td>0.0</td>\n      <td>164.0</td>\n      <td>18.0</td>\n      <td>761.7</td>\n      <td>0</td>\n      <td>NaN</td>\n      <td>NaN</td>\n      <td>NaN</td>\n      <td>NaN</td>\n      <td>NaN</td>\n      <td>NaN</td>\n      <td>NaN</td>\n      <td>NaN</td>\n      <td>NaN</td>\n      <td>NaN</td>\n    </tr>\n    <tr>\n      <th>1036770</th>\n      <td>2022-03-13 04:38:27</td>\n      <td>0</td>\n      <td>0.0</td>\n      <td>164.0</td>\n      <td>17.5</td>\n      <td>761.7</td>\n      <td>0</td>\n      <td>NaN</td>\n      <td>NaN</td>\n      <td>NaN</td>\n      <td>NaN</td>\n      <td>NaN</td>\n      <td>NaN</td>\n      <td>NaN</td>\n      <td>NaN</td>\n      <td>NaN</td>\n      <td>NaN</td>\n    </tr>\n    <tr>\n      <th>1036771</th>\n      <td>2022-03-13 04:39:27</td>\n      <td>0</td>\n      <td>0.0</td>\n      <td>164.1</td>\n      <td>16.8</td>\n      <td>761.7</td>\n      <td>0</td>\n      <td>NaN</td>\n      <td>NaN</td>\n      <td>NaN</td>\n      <td>NaN</td>\n      <td>NaN</td>\n      <td>NaN</td>\n      <td>NaN</td>\n      <td>NaN</td>\n      <td>NaN</td>\n      <td>NaN</td>\n    </tr>\n    <tr>\n      <th>1036772</th>\n      <td>2022-03-13 04:40:27</td>\n      <td>0</td>\n      <td>0.0</td>\n      <td>164.4</td>\n      <td>16.2</td>\n      <td>761.7</td>\n      <td>0</td>\n      <td>NaN</td>\n      <td>NaN</td>\n      <td>NaN</td>\n      <td>NaN</td>\n      <td>NaN</td>\n      <td>NaN</td>\n      <td>NaN</td>\n      <td>NaN</td>\n      <td>NaN</td>\n      <td>NaN</td>\n    </tr>\n    <tr>\n      <th>1036773</th>\n      <td>2022-03-13 04:41:27</td>\n      <td>0</td>\n      <td>0.0</td>\n      <td>164.6</td>\n      <td>15.7</td>\n      <td>761.7</td>\n      <td>0</td>\n      <td>NaN</td>\n      <td>NaN</td>\n      <td>NaN</td>\n      <td>NaN</td>\n      <td>NaN</td>\n      <td>NaN</td>\n      <td>NaN</td>\n      <td>NaN</td>\n      <td>NaN</td>\n      <td>NaN</td>\n    </tr>\n    <tr>\n      <th>1036774</th>\n      <td>2022-03-13 04:42:27</td>\n      <td>0</td>\n      <td>0.0</td>\n      <td>164.9</td>\n      <td>15.2</td>\n      <td>761.7</td>\n      <td>0</td>\n      <td>NaN</td>\n      <td>NaN</td>\n      <td>NaN</td>\n      <td>NaN</td>\n      <td>NaN</td>\n      <td>NaN</td>\n      <td>NaN</td>\n      <td>NaN</td>\n      <td>NaN</td>\n      <td>NaN</td>\n    </tr>\n    <tr>\n      <th>1036775</th>\n      <td>2022-03-13 04:43:27</td>\n      <td>0</td>\n      <td>0.0</td>\n      <td>164.8</td>\n      <td>14.7</td>\n      <td>761.7</td>\n      <td>0</td>\n      <td>NaN</td>\n      <td>NaN</td>\n      <td>NaN</td>\n      <td>NaN</td>\n      <td>NaN</td>\n      <td>NaN</td>\n      <td>NaN</td>\n      <td>NaN</td>\n      <td>NaN</td>\n      <td>NaN</td>\n    </tr>\n    <tr>\n      <th>1036776</th>\n      <td>2022-03-13 04:44:27</td>\n      <td>0</td>\n      <td>0.0</td>\n      <td>165.0</td>\n      <td>14.3</td>\n      <td>761.7</td>\n      <td>0</td>\n      <td>NaN</td>\n      <td>NaN</td>\n      <td>NaN</td>\n      <td>NaN</td>\n      <td>NaN</td>\n      <td>NaN</td>\n      <td>NaN</td>\n      <td>NaN</td>\n      <td>NaN</td>\n      <td>NaN</td>\n    </tr>\n  </tbody>\n</table>\n</div>"
     },
     "execution_count": 24,
     "metadata": {},
     "output_type": "execute_result"
    }
   ],
   "source": [
    "df.tail(40)"
   ]
  },
  {
   "cell_type": "code",
   "execution_count": 24,
   "metadata": {},
   "outputs": [],
   "source": []
  }
 ],
 "metadata": {
  "kernelspec": {
   "display_name": "Python 3 (ipykernel)",
   "language": "python",
   "name": "python3"
  },
  "language_info": {
   "codemirror_mode": {
    "name": "ipython",
    "version": 3
   },
   "file_extension": ".py",
   "mimetype": "text/x-python",
   "name": "python",
   "nbconvert_exporter": "python",
   "pygments_lexer": "ipython3",
   "version": "3.8.2"
  }
 },
 "nbformat": 4,
 "nbformat_minor": 1
}