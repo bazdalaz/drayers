{
 "cells": [
  {
   "cell_type": "code",
   "execution_count": 13,
   "metadata": {},
   "outputs": [],
   "source": [
    "import pandas as pd\n",
    "import numpy as np\n",
    "import matplotlib.pyplot as plt\n",
    "from scipy.signal import argrelextrema\n",
    "from sklearn.preprocessing import StandardScaler\n"
   ]
  },
  {
   "cell_type": "code",
   "execution_count": 14,
   "metadata": {
    "pycharm": {
     "name": "#%%\n"
    }
   },
   "outputs": [
    {
     "name": "stderr",
     "output_type": "stream",
     "text": [
      "C:\\Users\\lbushman\\AppData\\Local\\Temp/ipykernel_2244/3083181869.py:1: DtypeWarning: Columns (4,5,6,7) have mixed types. Specify dtype option on import or set low_memory=False.\n",
      "  df = pd.read_csv('../../data/H161.csv', parse_dates = [\"utc_time\"])\n"
     ]
    }
   ],
   "source": [
    "df = pd.read_csv('../../data/H161.csv', parse_dates = [\"utc_time\"])\n",
    "df[\"utc_time\"] = df[\"utc_time\"].dt.tz_localize(None)\n",
    "\n",
    "df.columns = ['time','phase', 'step', 'statement', 'heat_time', 'weight', 'temp', 'pressure']"
   ]
  },
  {
   "cell_type": "code",
   "execution_count": 15,
   "metadata": {
    "pycharm": {
     "name": "#%%\n"
    }
   },
   "outputs": [],
   "source": [
    "df = df.drop(['statement','step'], axis=1)"
   ]
  },
  {
   "cell_type": "code",
   "execution_count": 16,
   "metadata": {},
   "outputs": [
    {
     "data": {
      "text/plain": "                       time    phase heat_time    weight      temp  pressure\n563306  2021-04-18 09:34:27  FEEDING       0.0    3316.7      73.5     554.3\n195948  2020-08-06 06:56:27   DRYING     105.3    3535.2      58.5     245.1\n75063   2020-05-14 08:11:27  DISCHRG       0.0     -13.4      30.4     759.9\n254059  2020-09-15 15:27:27   DRYING       5.1    3636.8      34.4     762.5\n329697  2020-11-07 04:05:27   DRYING     133.3    3702.0      46.2     247.1\n155031  2020-07-08 20:59:27  FEEDING       0.0    3286.0      62.4     754.2\n873595  2021-11-19 21:03:27  FEEDING       0.0    3274.2      73.6     487.3\n453449  2021-02-01 02:37:27   DRYING     109.8    3676.5      64.7     400.1\n194650  2020-08-05 09:18:27   DRYING      33.9    3871.0      54.5     255.5\n820059  2021-10-13 16:47:27   DRYING       0.0    3430.8      76.6     663.0\n395199  2020-12-22 15:47:27   DRYING      48.1    3579.1      66.6     300.6\n865048  2021-11-13 22:36:27   DRYING      12.6    3646.6      70.3     425.9\n261283  2020-09-20 15:51:27   DRYING      12.6    3830.1      61.1     185.3\n1000922 2022-02-16 07:10:27  FEEDING       0.0    2122.1      56.9     541.8\n90312   2020-05-24 22:20:27  FEEDING       0.0    1554.8      71.4     754.9\n681191  2021-07-09 06:19:27   DRYING      13.4    4021.5      72.1     520.6\n220673  2020-08-23 11:01:27  FEEDING       0.0    2815.8      68.7     753.5\n414698  2021-01-05 04:46:27  DISCHRG       0.3     247.3      23.6     761.0\n41742   2020-04-21 04:50:27   DRYING      50.2    4394.9      25.7     171.6\n973087  2022-01-27 23:15:27  DISCHRG       0.0     655.9      13.2     761.4\n858119  2021-11-09 03:07:27   DRYING       0.0    3473.8      51.2     417.5\n498117  2021-03-04 03:05:27   DRYING       2.2    2925.8      64.7     440.6\n129789  2020-06-21 08:17:27  FEEDING       0.0    1610.0      54.9     761.6\n807792  2021-10-05 04:20:27  FEEDING       0.2    2703.1      59.5     556.7\n944241  2022-01-07 22:29:27  FEEDING       0.0    2760.0      66.4     460.2\n265616  2020-09-23 16:04:27   DRYING      40.0    3705.6      63.0     244.0\n915037  2021-12-18 15:45:27   DRYING      12.4    3847.4      75.5     543.9\n160466  2020-07-12 15:34:27  FEEDING       0.5    3510.8      53.8     752.7\n43733   2020-04-22 14:01:27   DRYING       0.0    3707.1      68.0     145.1\n926130  2021-12-26 08:38:27  FEEDING       0.0    3324.7      62.2     751.6\n478202  2021-02-18 07:10:27   DRYING      66.1    3782.3      60.3     249.8\n380560  2020-12-12 11:48:27   DRYING     133.3    3552.7      58.6     316.5\n585057  2021-05-03 12:05:27   DRYING      80.7    3661.4      70.5     484.0\n271518  2020-09-27 18:26:27  PREPARE       0.0     -28.8      27.8     764.4\n35637   2020-04-16 23:05:27  FEEDING       4.9    3083.9      58.4     638.9\n14382   2020-04-02 04:50:27   DRYING      51.6    3886.0      15.3     763.1\n393776  2020-12-21 16:04:27   DRYING     111.6    3644.5      64.2     309.9\n470417  2021-02-12 21:25:27  PREPARE       0.4    -200.0      16.5     764.5\n614820  2021-05-24 04:08:27  FEEDING       0.0      18.5      26.0     761.3\n924280  2021-12-25 01:48:27   DRYING      17.2    3340.6      74.0     489.8",
      "text/html": "<div>\n<style scoped>\n    .dataframe tbody tr th:only-of-type {\n        vertical-align: middle;\n    }\n\n    .dataframe tbody tr th {\n        vertical-align: top;\n    }\n\n    .dataframe thead th {\n        text-align: right;\n    }\n</style>\n<table border=\"1\" class=\"dataframe\">\n  <thead>\n    <tr style=\"text-align: right;\">\n      <th></th>\n      <th>time</th>\n      <th>phase</th>\n      <th>heat_time</th>\n      <th>weight</th>\n      <th>temp</th>\n      <th>pressure</th>\n    </tr>\n  </thead>\n  <tbody>\n    <tr>\n      <th>563306</th>\n      <td>2021-04-18 09:34:27</td>\n      <td>FEEDING</td>\n      <td>0.0</td>\n      <td>3316.7</td>\n      <td>73.5</td>\n      <td>554.3</td>\n    </tr>\n    <tr>\n      <th>195948</th>\n      <td>2020-08-06 06:56:27</td>\n      <td>DRYING</td>\n      <td>105.3</td>\n      <td>3535.2</td>\n      <td>58.5</td>\n      <td>245.1</td>\n    </tr>\n    <tr>\n      <th>75063</th>\n      <td>2020-05-14 08:11:27</td>\n      <td>DISCHRG</td>\n      <td>0.0</td>\n      <td>-13.4</td>\n      <td>30.4</td>\n      <td>759.9</td>\n    </tr>\n    <tr>\n      <th>254059</th>\n      <td>2020-09-15 15:27:27</td>\n      <td>DRYING</td>\n      <td>5.1</td>\n      <td>3636.8</td>\n      <td>34.4</td>\n      <td>762.5</td>\n    </tr>\n    <tr>\n      <th>329697</th>\n      <td>2020-11-07 04:05:27</td>\n      <td>DRYING</td>\n      <td>133.3</td>\n      <td>3702.0</td>\n      <td>46.2</td>\n      <td>247.1</td>\n    </tr>\n    <tr>\n      <th>155031</th>\n      <td>2020-07-08 20:59:27</td>\n      <td>FEEDING</td>\n      <td>0.0</td>\n      <td>3286.0</td>\n      <td>62.4</td>\n      <td>754.2</td>\n    </tr>\n    <tr>\n      <th>873595</th>\n      <td>2021-11-19 21:03:27</td>\n      <td>FEEDING</td>\n      <td>0.0</td>\n      <td>3274.2</td>\n      <td>73.6</td>\n      <td>487.3</td>\n    </tr>\n    <tr>\n      <th>453449</th>\n      <td>2021-02-01 02:37:27</td>\n      <td>DRYING</td>\n      <td>109.8</td>\n      <td>3676.5</td>\n      <td>64.7</td>\n      <td>400.1</td>\n    </tr>\n    <tr>\n      <th>194650</th>\n      <td>2020-08-05 09:18:27</td>\n      <td>DRYING</td>\n      <td>33.9</td>\n      <td>3871.0</td>\n      <td>54.5</td>\n      <td>255.5</td>\n    </tr>\n    <tr>\n      <th>820059</th>\n      <td>2021-10-13 16:47:27</td>\n      <td>DRYING</td>\n      <td>0.0</td>\n      <td>3430.8</td>\n      <td>76.6</td>\n      <td>663.0</td>\n    </tr>\n    <tr>\n      <th>395199</th>\n      <td>2020-12-22 15:47:27</td>\n      <td>DRYING</td>\n      <td>48.1</td>\n      <td>3579.1</td>\n      <td>66.6</td>\n      <td>300.6</td>\n    </tr>\n    <tr>\n      <th>865048</th>\n      <td>2021-11-13 22:36:27</td>\n      <td>DRYING</td>\n      <td>12.6</td>\n      <td>3646.6</td>\n      <td>70.3</td>\n      <td>425.9</td>\n    </tr>\n    <tr>\n      <th>261283</th>\n      <td>2020-09-20 15:51:27</td>\n      <td>DRYING</td>\n      <td>12.6</td>\n      <td>3830.1</td>\n      <td>61.1</td>\n      <td>185.3</td>\n    </tr>\n    <tr>\n      <th>1000922</th>\n      <td>2022-02-16 07:10:27</td>\n      <td>FEEDING</td>\n      <td>0.0</td>\n      <td>2122.1</td>\n      <td>56.9</td>\n      <td>541.8</td>\n    </tr>\n    <tr>\n      <th>90312</th>\n      <td>2020-05-24 22:20:27</td>\n      <td>FEEDING</td>\n      <td>0.0</td>\n      <td>1554.8</td>\n      <td>71.4</td>\n      <td>754.9</td>\n    </tr>\n    <tr>\n      <th>681191</th>\n      <td>2021-07-09 06:19:27</td>\n      <td>DRYING</td>\n      <td>13.4</td>\n      <td>4021.5</td>\n      <td>72.1</td>\n      <td>520.6</td>\n    </tr>\n    <tr>\n      <th>220673</th>\n      <td>2020-08-23 11:01:27</td>\n      <td>FEEDING</td>\n      <td>0.0</td>\n      <td>2815.8</td>\n      <td>68.7</td>\n      <td>753.5</td>\n    </tr>\n    <tr>\n      <th>414698</th>\n      <td>2021-01-05 04:46:27</td>\n      <td>DISCHRG</td>\n      <td>0.3</td>\n      <td>247.3</td>\n      <td>23.6</td>\n      <td>761.0</td>\n    </tr>\n    <tr>\n      <th>41742</th>\n      <td>2020-04-21 04:50:27</td>\n      <td>DRYING</td>\n      <td>50.2</td>\n      <td>4394.9</td>\n      <td>25.7</td>\n      <td>171.6</td>\n    </tr>\n    <tr>\n      <th>973087</th>\n      <td>2022-01-27 23:15:27</td>\n      <td>DISCHRG</td>\n      <td>0.0</td>\n      <td>655.9</td>\n      <td>13.2</td>\n      <td>761.4</td>\n    </tr>\n    <tr>\n      <th>858119</th>\n      <td>2021-11-09 03:07:27</td>\n      <td>DRYING</td>\n      <td>0.0</td>\n      <td>3473.8</td>\n      <td>51.2</td>\n      <td>417.5</td>\n    </tr>\n    <tr>\n      <th>498117</th>\n      <td>2021-03-04 03:05:27</td>\n      <td>DRYING</td>\n      <td>2.2</td>\n      <td>2925.8</td>\n      <td>64.7</td>\n      <td>440.6</td>\n    </tr>\n    <tr>\n      <th>129789</th>\n      <td>2020-06-21 08:17:27</td>\n      <td>FEEDING</td>\n      <td>0.0</td>\n      <td>1610.0</td>\n      <td>54.9</td>\n      <td>761.6</td>\n    </tr>\n    <tr>\n      <th>807792</th>\n      <td>2021-10-05 04:20:27</td>\n      <td>FEEDING</td>\n      <td>0.2</td>\n      <td>2703.1</td>\n      <td>59.5</td>\n      <td>556.7</td>\n    </tr>\n    <tr>\n      <th>944241</th>\n      <td>2022-01-07 22:29:27</td>\n      <td>FEEDING</td>\n      <td>0.0</td>\n      <td>2760.0</td>\n      <td>66.4</td>\n      <td>460.2</td>\n    </tr>\n    <tr>\n      <th>265616</th>\n      <td>2020-09-23 16:04:27</td>\n      <td>DRYING</td>\n      <td>40.0</td>\n      <td>3705.6</td>\n      <td>63.0</td>\n      <td>244.0</td>\n    </tr>\n    <tr>\n      <th>915037</th>\n      <td>2021-12-18 15:45:27</td>\n      <td>DRYING</td>\n      <td>12.4</td>\n      <td>3847.4</td>\n      <td>75.5</td>\n      <td>543.9</td>\n    </tr>\n    <tr>\n      <th>160466</th>\n      <td>2020-07-12 15:34:27</td>\n      <td>FEEDING</td>\n      <td>0.5</td>\n      <td>3510.8</td>\n      <td>53.8</td>\n      <td>752.7</td>\n    </tr>\n    <tr>\n      <th>43733</th>\n      <td>2020-04-22 14:01:27</td>\n      <td>DRYING</td>\n      <td>0.0</td>\n      <td>3707.1</td>\n      <td>68.0</td>\n      <td>145.1</td>\n    </tr>\n    <tr>\n      <th>926130</th>\n      <td>2021-12-26 08:38:27</td>\n      <td>FEEDING</td>\n      <td>0.0</td>\n      <td>3324.7</td>\n      <td>62.2</td>\n      <td>751.6</td>\n    </tr>\n    <tr>\n      <th>478202</th>\n      <td>2021-02-18 07:10:27</td>\n      <td>DRYING</td>\n      <td>66.1</td>\n      <td>3782.3</td>\n      <td>60.3</td>\n      <td>249.8</td>\n    </tr>\n    <tr>\n      <th>380560</th>\n      <td>2020-12-12 11:48:27</td>\n      <td>DRYING</td>\n      <td>133.3</td>\n      <td>3552.7</td>\n      <td>58.6</td>\n      <td>316.5</td>\n    </tr>\n    <tr>\n      <th>585057</th>\n      <td>2021-05-03 12:05:27</td>\n      <td>DRYING</td>\n      <td>80.7</td>\n      <td>3661.4</td>\n      <td>70.5</td>\n      <td>484.0</td>\n    </tr>\n    <tr>\n      <th>271518</th>\n      <td>2020-09-27 18:26:27</td>\n      <td>PREPARE</td>\n      <td>0.0</td>\n      <td>-28.8</td>\n      <td>27.8</td>\n      <td>764.4</td>\n    </tr>\n    <tr>\n      <th>35637</th>\n      <td>2020-04-16 23:05:27</td>\n      <td>FEEDING</td>\n      <td>4.9</td>\n      <td>3083.9</td>\n      <td>58.4</td>\n      <td>638.9</td>\n    </tr>\n    <tr>\n      <th>14382</th>\n      <td>2020-04-02 04:50:27</td>\n      <td>DRYING</td>\n      <td>51.6</td>\n      <td>3886.0</td>\n      <td>15.3</td>\n      <td>763.1</td>\n    </tr>\n    <tr>\n      <th>393776</th>\n      <td>2020-12-21 16:04:27</td>\n      <td>DRYING</td>\n      <td>111.6</td>\n      <td>3644.5</td>\n      <td>64.2</td>\n      <td>309.9</td>\n    </tr>\n    <tr>\n      <th>470417</th>\n      <td>2021-02-12 21:25:27</td>\n      <td>PREPARE</td>\n      <td>0.4</td>\n      <td>-200.0</td>\n      <td>16.5</td>\n      <td>764.5</td>\n    </tr>\n    <tr>\n      <th>614820</th>\n      <td>2021-05-24 04:08:27</td>\n      <td>FEEDING</td>\n      <td>0.0</td>\n      <td>18.5</td>\n      <td>26.0</td>\n      <td>761.3</td>\n    </tr>\n    <tr>\n      <th>924280</th>\n      <td>2021-12-25 01:48:27</td>\n      <td>DRYING</td>\n      <td>17.2</td>\n      <td>3340.6</td>\n      <td>74.0</td>\n      <td>489.8</td>\n    </tr>\n  </tbody>\n</table>\n</div>"
     },
     "execution_count": 16,
     "metadata": {},
     "output_type": "execute_result"
    }
   ],
   "source": [
    "df.sample(40)"
   ]
  },
  {
   "cell_type": "code",
   "execution_count": 17,
   "metadata": {
    "pycharm": {
     "name": "#%%\n"
    }
   },
   "outputs": [],
   "source": [
    "df = df[df['phase'].str.contains ('DRYING|DISCHRG') == True]"
   ]
  },
  {
   "cell_type": "code",
   "execution_count": 18,
   "metadata": {
    "pycharm": {
     "name": "#%%\n"
    }
   },
   "outputs": [],
   "source": [
    "df.replace({'????????': None}, inplace=True)\n",
    "df.dropna(inplace=True)"
   ]
  },
  {
   "cell_type": "code",
   "execution_count": 19,
   "metadata": {
    "pycharm": {
     "name": "#%%\n"
    }
   },
   "outputs": [],
   "source": [
    "df['temp'] = df.temp.astype(float)\n",
    "df['weight'] = df.weight.astype(float)\n",
    "df['pressure'] = df.pressure.astype(float)\n",
    "df['heat_time'] = df.heat_time.astype(float)\n",
    "df['phase'] = df.phase.astype('category')\n",
    "# df.set_index('time', inplace=True)\n"
   ]
  },
  {
   "cell_type": "code",
   "execution_count": 20,
   "metadata": {
    "pycharm": {
     "name": "#%%\n"
    }
   },
   "outputs": [],
   "source": [
    "n = 180  # number of points to be checked before and after\n",
    "\n",
    "# Find local peaks\n",
    "df['max_temp'] = 0\n",
    "df['max_temp'] = df.iloc[argrelextrema(df.temp.values, np.greater_equal, order=n)]['temp']"
   ]
  },
  {
   "cell_type": "code",
   "execution_count": 21,
   "metadata": {
    "pycharm": {
     "name": "#%%\n"
    }
   },
   "outputs": [],
   "source": [
    "df['ready'] = 0"
   ]
  },
  {
   "cell_type": "code",
   "execution_count": 22,
   "metadata": {
    "pycharm": {
     "name": "#%%\n"
    }
   },
   "outputs": [],
   "source": [
    "for i in range (1, len(df['ready']-1)):\n",
    "    if df.max_temp.values[i] > 0:\n",
    "            while df['phase'].values[i] == 'DRYING':\n",
    "                i += 1\n",
    "                df.ready.values[i] = 1\n",
    "df = df.drop(['max_temp'], axis=1)"
   ]
  },
  {
   "cell_type": "code",
   "execution_count": 23,
   "metadata": {
    "pycharm": {
     "name": "#%%\n"
    },
    "scrolled": true
   },
   "outputs": [
    {
     "data": {
      "text/plain": "                   time   phase  heat_time  weight  temp  pressure  ready\n11  2020-03-23 05:19:27  DRYING       67.5  3799.5  60.3     270.9      0\n12  2020-03-23 05:20:27  DRYING       68.5  3800.0  60.3     272.3      0\n13  2020-03-23 05:21:27  DRYING       69.5  3799.8  60.1     290.7      0\n14  2020-03-23 05:22:27  DRYING       70.5  3797.7  59.8     305.8      0\n15  2020-03-23 05:23:27  DRYING       71.5  3795.8  60.0     280.7      0\n..                  ...     ...        ...     ...   ...       ...    ...\n330 2020-03-23 10:38:27  DRYING       40.4  3530.1  23.8     761.3      1\n331 2020-03-23 10:39:27  DRYING       41.4  3527.0  23.8     761.4      1\n332 2020-03-23 10:40:27  DRYING       42.4  3528.0  23.7     761.4      1\n333 2020-03-23 10:41:27  DRYING       43.4  3527.1  23.7     761.4      1\n334 2020-03-23 10:42:27  DRYING       44.4  3528.0  23.6     761.4      1\n\n[300 rows x 7 columns]",
      "text/html": "<div>\n<style scoped>\n    .dataframe tbody tr th:only-of-type {\n        vertical-align: middle;\n    }\n\n    .dataframe tbody tr th {\n        vertical-align: top;\n    }\n\n    .dataframe thead th {\n        text-align: right;\n    }\n</style>\n<table border=\"1\" class=\"dataframe\">\n  <thead>\n    <tr style=\"text-align: right;\">\n      <th></th>\n      <th>time</th>\n      <th>phase</th>\n      <th>heat_time</th>\n      <th>weight</th>\n      <th>temp</th>\n      <th>pressure</th>\n      <th>ready</th>\n    </tr>\n  </thead>\n  <tbody>\n    <tr>\n      <th>11</th>\n      <td>2020-03-23 05:19:27</td>\n      <td>DRYING</td>\n      <td>67.5</td>\n      <td>3799.5</td>\n      <td>60.3</td>\n      <td>270.9</td>\n      <td>0</td>\n    </tr>\n    <tr>\n      <th>12</th>\n      <td>2020-03-23 05:20:27</td>\n      <td>DRYING</td>\n      <td>68.5</td>\n      <td>3800.0</td>\n      <td>60.3</td>\n      <td>272.3</td>\n      <td>0</td>\n    </tr>\n    <tr>\n      <th>13</th>\n      <td>2020-03-23 05:21:27</td>\n      <td>DRYING</td>\n      <td>69.5</td>\n      <td>3799.8</td>\n      <td>60.1</td>\n      <td>290.7</td>\n      <td>0</td>\n    </tr>\n    <tr>\n      <th>14</th>\n      <td>2020-03-23 05:22:27</td>\n      <td>DRYING</td>\n      <td>70.5</td>\n      <td>3797.7</td>\n      <td>59.8</td>\n      <td>305.8</td>\n      <td>0</td>\n    </tr>\n    <tr>\n      <th>15</th>\n      <td>2020-03-23 05:23:27</td>\n      <td>DRYING</td>\n      <td>71.5</td>\n      <td>3795.8</td>\n      <td>60.0</td>\n      <td>280.7</td>\n      <td>0</td>\n    </tr>\n    <tr>\n      <th>...</th>\n      <td>...</td>\n      <td>...</td>\n      <td>...</td>\n      <td>...</td>\n      <td>...</td>\n      <td>...</td>\n      <td>...</td>\n    </tr>\n    <tr>\n      <th>330</th>\n      <td>2020-03-23 10:38:27</td>\n      <td>DRYING</td>\n      <td>40.4</td>\n      <td>3530.1</td>\n      <td>23.8</td>\n      <td>761.3</td>\n      <td>1</td>\n    </tr>\n    <tr>\n      <th>331</th>\n      <td>2020-03-23 10:39:27</td>\n      <td>DRYING</td>\n      <td>41.4</td>\n      <td>3527.0</td>\n      <td>23.8</td>\n      <td>761.4</td>\n      <td>1</td>\n    </tr>\n    <tr>\n      <th>332</th>\n      <td>2020-03-23 10:40:27</td>\n      <td>DRYING</td>\n      <td>42.4</td>\n      <td>3528.0</td>\n      <td>23.7</td>\n      <td>761.4</td>\n      <td>1</td>\n    </tr>\n    <tr>\n      <th>333</th>\n      <td>2020-03-23 10:41:27</td>\n      <td>DRYING</td>\n      <td>43.4</td>\n      <td>3527.1</td>\n      <td>23.7</td>\n      <td>761.4</td>\n      <td>1</td>\n    </tr>\n    <tr>\n      <th>334</th>\n      <td>2020-03-23 10:42:27</td>\n      <td>DRYING</td>\n      <td>44.4</td>\n      <td>3528.0</td>\n      <td>23.6</td>\n      <td>761.4</td>\n      <td>1</td>\n    </tr>\n  </tbody>\n</table>\n<p>300 rows × 7 columns</p>\n</div>"
     },
     "execution_count": 23,
     "metadata": {},
     "output_type": "execute_result"
    }
   ],
   "source": [
    "df.head(300)"
   ]
  },
  {
   "cell_type": "code",
   "execution_count": 24,
   "metadata": {
    "scrolled": false
   },
   "outputs": [
    {
     "data": {
      "text/plain": "                       time  phase  heat_time  weight  temp  pressure  ready\n11      2020-03-23 05:19:27      1       67.5  3799.5  60.3     270.9      0\n12      2020-03-23 05:20:27      1       68.5  3800.0  60.3     272.3      0\n13      2020-03-23 05:21:27      1       69.5  3799.8  60.1     290.7      0\n14      2020-03-23 05:22:27      1       70.5  3797.7  59.8     305.8      0\n15      2020-03-23 05:23:27      1       71.5  3795.8  60.0     280.7      0\n...                     ...    ...        ...     ...   ...       ...    ...\n1036772 2022-03-13 04:40:27      0        0.0   164.4  16.2     761.7      0\n1036773 2022-03-13 04:41:27      0        0.0   164.6  15.7     761.7      0\n1036774 2022-03-13 04:42:27      0        0.0   164.9  15.2     761.7      0\n1036775 2022-03-13 04:43:27      0        0.0   164.8  14.7     761.7      0\n1036776 2022-03-13 04:44:27      0        0.0   165.0  14.3     761.7      0\n\n[648323 rows x 7 columns]",
      "text/html": "<div>\n<style scoped>\n    .dataframe tbody tr th:only-of-type {\n        vertical-align: middle;\n    }\n\n    .dataframe tbody tr th {\n        vertical-align: top;\n    }\n\n    .dataframe thead th {\n        text-align: right;\n    }\n</style>\n<table border=\"1\" class=\"dataframe\">\n  <thead>\n    <tr style=\"text-align: right;\">\n      <th></th>\n      <th>time</th>\n      <th>phase</th>\n      <th>heat_time</th>\n      <th>weight</th>\n      <th>temp</th>\n      <th>pressure</th>\n      <th>ready</th>\n    </tr>\n  </thead>\n  <tbody>\n    <tr>\n      <th>11</th>\n      <td>2020-03-23 05:19:27</td>\n      <td>1</td>\n      <td>67.5</td>\n      <td>3799.5</td>\n      <td>60.3</td>\n      <td>270.9</td>\n      <td>0</td>\n    </tr>\n    <tr>\n      <th>12</th>\n      <td>2020-03-23 05:20:27</td>\n      <td>1</td>\n      <td>68.5</td>\n      <td>3800.0</td>\n      <td>60.3</td>\n      <td>272.3</td>\n      <td>0</td>\n    </tr>\n    <tr>\n      <th>13</th>\n      <td>2020-03-23 05:21:27</td>\n      <td>1</td>\n      <td>69.5</td>\n      <td>3799.8</td>\n      <td>60.1</td>\n      <td>290.7</td>\n      <td>0</td>\n    </tr>\n    <tr>\n      <th>14</th>\n      <td>2020-03-23 05:22:27</td>\n      <td>1</td>\n      <td>70.5</td>\n      <td>3797.7</td>\n      <td>59.8</td>\n      <td>305.8</td>\n      <td>0</td>\n    </tr>\n    <tr>\n      <th>15</th>\n      <td>2020-03-23 05:23:27</td>\n      <td>1</td>\n      <td>71.5</td>\n      <td>3795.8</td>\n      <td>60.0</td>\n      <td>280.7</td>\n      <td>0</td>\n    </tr>\n    <tr>\n      <th>...</th>\n      <td>...</td>\n      <td>...</td>\n      <td>...</td>\n      <td>...</td>\n      <td>...</td>\n      <td>...</td>\n      <td>...</td>\n    </tr>\n    <tr>\n      <th>1036772</th>\n      <td>2022-03-13 04:40:27</td>\n      <td>0</td>\n      <td>0.0</td>\n      <td>164.4</td>\n      <td>16.2</td>\n      <td>761.7</td>\n      <td>0</td>\n    </tr>\n    <tr>\n      <th>1036773</th>\n      <td>2022-03-13 04:41:27</td>\n      <td>0</td>\n      <td>0.0</td>\n      <td>164.6</td>\n      <td>15.7</td>\n      <td>761.7</td>\n      <td>0</td>\n    </tr>\n    <tr>\n      <th>1036774</th>\n      <td>2022-03-13 04:42:27</td>\n      <td>0</td>\n      <td>0.0</td>\n      <td>164.9</td>\n      <td>15.2</td>\n      <td>761.7</td>\n      <td>0</td>\n    </tr>\n    <tr>\n      <th>1036775</th>\n      <td>2022-03-13 04:43:27</td>\n      <td>0</td>\n      <td>0.0</td>\n      <td>164.8</td>\n      <td>14.7</td>\n      <td>761.7</td>\n      <td>0</td>\n    </tr>\n    <tr>\n      <th>1036776</th>\n      <td>2022-03-13 04:44:27</td>\n      <td>0</td>\n      <td>0.0</td>\n      <td>165.0</td>\n      <td>14.3</td>\n      <td>761.7</td>\n      <td>0</td>\n    </tr>\n  </tbody>\n</table>\n<p>648323 rows × 7 columns</p>\n</div>"
     },
     "execution_count": 24,
     "metadata": {},
     "output_type": "execute_result"
    }
   ],
   "source": [
    "# Labeel encoding\n",
    "df['phase'] = df['phase'].cat.codes\n",
    "df"
   ]
  },
  {
   "cell_type": "code",
   "execution_count": 25,
   "metadata": {},
   "outputs": [],
   "source": [
    "df['p_lagged_30'] = df['pressure'].shift(-30)\n",
    "df['t_lagged_30'] = df['temp'].shift(-30)\n",
    "df['w_lagged_30'] = df['weight'].shift(-30)\n",
    "df['ps_lagged_30'] = df['phase'].shift(-30)\n",
    "df['ht_lagged_30'] = df['heat_time'].shift(-30)\n",
    "\n",
    "df['p_lagged_25'] = df['pressure'].shift(-25)\n",
    "df['t_lagged_25'] = df['temp'].shift(-25)\n",
    "df['w_lagged_25'] = df['weight'].shift(-25)\n",
    "df['ps_lagged_25'] = df['phase'].shift(-25)\n",
    "df['ht_lagged_25'] = df['heat_time'].shift(-25)"
   ]
  },
  {
   "cell_type": "code",
   "execution_count": 26,
   "metadata": {
    "pycharm": {
     "name": "#%%\n"
    },
    "scrolled": false
   },
   "outputs": [
    {
     "name": "stdout",
     "output_type": "stream",
     "text": [
      "[[Timestamp('2021-03-16 12:41:27') 1 23.1 ... 66.3 3849.7 1.0]\n",
      " [Timestamp('2021-01-06 13:57:27') 1 77.9 ... 65.6 3581.2 1.0]\n",
      " [Timestamp('2021-01-25 18:11:27') 1 74.7 ... 67.0 3769.4 1.0]\n",
      " ...\n",
      " [Timestamp('2020-07-20 16:32:27') 1 133.3 ... 52.8 3699.8 1.0]\n",
      " [Timestamp('2021-07-09 10:54:27') 1 9.0 ... 72.9 3702.8 1.0]\n",
      " [Timestamp('2021-02-06 12:28:27') 1 53.7 ... 51.1 3731.3 1.0]]\n",
      "[ 48.  103.1  99.6 ... 133.3   7.9  73.8]\n",
      "[[Timestamp('2020-12-05 10:35:27') 1 15.3 ... 70.2 3737.5 1.0]\n",
      " [Timestamp('2020-08-19 17:07:27') 0 0.0 ... 29.7 -7.0 0.0]\n",
      " [Timestamp('2021-07-03 10:15:27') 0 0.0 ... 72.7 3776.4 1.0]\n",
      " ...\n",
      " [Timestamp('2020-10-09 20:28:27') 1 132.6 ... 55.1 3629.2 1.0]\n",
      " [Timestamp('2021-03-02 01:24:27') 1 92.0 ... 60.5 3656.2 1.0]\n",
      " [Timestamp('2022-02-17 10:21:27') 0 0.0 ... 46.9 2557.1 1.0]]\n",
      "[  0.    0.   22.6 ... 133.3 117.   25.5]\n"
     ]
    }
   ],
   "source": [
    "X = df.values[:,:-1]\n",
    "y = df.iloc[:, -1].values\n",
    "\n",
    "# Splitting the dataset into the Training set and Test set\n",
    "from sklearn.model_selection import train_test_split\n",
    "X_train, X_test, y_train, y_test = train_test_split(X, y, test_size = 0.25, random_state = 0)\n",
    "print(X_train)\n",
    "print(y_train)\n",
    "print(X_test)\n",
    "print(y_test)\n"
   ]
  },
  {
   "cell_type": "code",
   "execution_count": 27,
   "metadata": {},
   "outputs": [
    {
     "data": {
      "text/plain": "                       time  phase  heat_time  weight  temp  pressure  ready  \\\n1036737 2022-03-13 04:05:27      1      133.3  3405.5  42.9     535.4      1   \n1036738 2022-03-13 04:06:27      1      133.3  3399.6  42.8     480.8      1   \n1036739 2022-03-13 04:07:27      1      133.3  3405.5  42.7     464.1      1   \n1036740 2022-03-13 04:08:27      1      133.3  3405.1  42.6     479.7      1   \n1036741 2022-03-13 04:09:27      1      133.3  3400.1  42.5     487.9      1   \n1036742 2022-03-13 04:10:27      1      119.7  3396.0  42.4     467.2      1   \n1036743 2022-03-13 04:11:27      1      103.8  3402.0  42.3     491.7      1   \n1036744 2022-03-13 04:12:27      1       87.8  3402.3  42.3     502.8      1   \n1036745 2022-03-13 04:13:27      1       71.9  3398.9  42.3     471.3      1   \n1036746 2022-03-13 04:14:27      1       55.9  3402.9  42.4     507.6      1   \n1036747 2022-03-13 04:15:27      1       40.0  3401.4  42.4     523.6      1   \n1036748 2022-03-13 04:16:27      1       24.0  3397.9  42.4     478.0      1   \n1036749 2022-03-13 04:17:27      1        8.0  3403.7  42.4     521.9      1   \n1036750 2022-03-13 04:18:27      1        0.0  3437.5  42.3     646.3      1   \n1036751 2022-03-13 04:19:27      1        0.0  3437.3  41.3     754.0      1   \n1036752 2022-03-13 04:20:27      1        0.0  3440.5  39.5     761.1      1   \n1036753 2022-03-13 04:21:27      1        0.0  3443.3  37.5     761.7      1   \n1036754 2022-03-13 04:22:27      1        0.0  3446.2  35.7     761.7      1   \n1036755 2022-03-13 04:23:27      1        0.0  3449.0  33.9     761.7      1   \n1036756 2022-03-13 04:24:27      1        0.0  3447.2  32.2     761.7      1   \n1036757 2022-03-13 04:25:27      0        0.0  3442.7  30.7     761.7      1   \n1036758 2022-03-13 04:26:27      0        0.0  3444.2  29.3     761.7      0   \n1036759 2022-03-13 04:27:27      0        0.0  3441.4  27.9     761.7      0   \n1036760 2022-03-13 04:28:27      0        0.0  3441.4  26.7     761.7      0   \n1036761 2022-03-13 04:29:27      0        0.0  3443.8  25.2     761.7      0   \n1036762 2022-03-13 04:30:27      0        0.0  1928.2  24.4     756.5      0   \n1036763 2022-03-13 04:31:27      0        0.0   788.3  23.3     757.1      0   \n1036764 2022-03-13 04:32:27      0        0.0   496.7  22.4     760.3      0   \n1036765 2022-03-13 04:33:27      0        0.0   356.7  21.3     760.7      0   \n1036766 2022-03-13 04:34:27      0        0.0   260.7  20.3     761.1      0   \n1036767 2022-03-13 04:35:27      0        0.0   193.2  19.5     761.1      0   \n1036768 2022-03-13 04:36:27      0        0.0   164.0  18.9     761.1      0   \n1036769 2022-03-13 04:37:27      0        0.0   164.0  18.0     761.7      0   \n1036770 2022-03-13 04:38:27      0        0.0   164.0  17.5     761.7      0   \n1036771 2022-03-13 04:39:27      0        0.0   164.1  16.8     761.7      0   \n1036772 2022-03-13 04:40:27      0        0.0   164.4  16.2     761.7      0   \n1036773 2022-03-13 04:41:27      0        0.0   164.6  15.7     761.7      0   \n1036774 2022-03-13 04:42:27      0        0.0   164.9  15.2     761.7      0   \n1036775 2022-03-13 04:43:27      0        0.0   164.8  14.7     761.7      0   \n1036776 2022-03-13 04:44:27      0        0.0   165.0  14.3     761.7      0   \n\n         p_lagged_30  t_lagged_30  w_lagged_30  ps_lagged_30  ht_lagged_30  \\\n1036737        761.1         19.5        193.2           0.0           0.0   \n1036738        761.1         18.9        164.0           0.0           0.0   \n1036739        761.7         18.0        164.0           0.0           0.0   \n1036740        761.7         17.5        164.0           0.0           0.0   \n1036741        761.7         16.8        164.1           0.0           0.0   \n1036742        761.7         16.2        164.4           0.0           0.0   \n1036743        761.7         15.7        164.6           0.0           0.0   \n1036744        761.7         15.2        164.9           0.0           0.0   \n1036745        761.7         14.7        164.8           0.0           0.0   \n1036746        761.7         14.3        165.0           0.0           0.0   \n1036747          NaN          NaN          NaN           NaN           NaN   \n1036748          NaN          NaN          NaN           NaN           NaN   \n1036749          NaN          NaN          NaN           NaN           NaN   \n1036750          NaN          NaN          NaN           NaN           NaN   \n1036751          NaN          NaN          NaN           NaN           NaN   \n1036752          NaN          NaN          NaN           NaN           NaN   \n1036753          NaN          NaN          NaN           NaN           NaN   \n1036754          NaN          NaN          NaN           NaN           NaN   \n1036755          NaN          NaN          NaN           NaN           NaN   \n1036756          NaN          NaN          NaN           NaN           NaN   \n1036757          NaN          NaN          NaN           NaN           NaN   \n1036758          NaN          NaN          NaN           NaN           NaN   \n1036759          NaN          NaN          NaN           NaN           NaN   \n1036760          NaN          NaN          NaN           NaN           NaN   \n1036761          NaN          NaN          NaN           NaN           NaN   \n1036762          NaN          NaN          NaN           NaN           NaN   \n1036763          NaN          NaN          NaN           NaN           NaN   \n1036764          NaN          NaN          NaN           NaN           NaN   \n1036765          NaN          NaN          NaN           NaN           NaN   \n1036766          NaN          NaN          NaN           NaN           NaN   \n1036767          NaN          NaN          NaN           NaN           NaN   \n1036768          NaN          NaN          NaN           NaN           NaN   \n1036769          NaN          NaN          NaN           NaN           NaN   \n1036770          NaN          NaN          NaN           NaN           NaN   \n1036771          NaN          NaN          NaN           NaN           NaN   \n1036772          NaN          NaN          NaN           NaN           NaN   \n1036773          NaN          NaN          NaN           NaN           NaN   \n1036774          NaN          NaN          NaN           NaN           NaN   \n1036775          NaN          NaN          NaN           NaN           NaN   \n1036776          NaN          NaN          NaN           NaN           NaN   \n\n         p_lagged_25  t_lagged_25  w_lagged_25  ps_lagged_25  ht_lagged_25  \n1036737        756.5         24.4       1928.2           0.0           0.0  \n1036738        757.1         23.3        788.3           0.0           0.0  \n1036739        760.3         22.4        496.7           0.0           0.0  \n1036740        760.7         21.3        356.7           0.0           0.0  \n1036741        761.1         20.3        260.7           0.0           0.0  \n1036742        761.1         19.5        193.2           0.0           0.0  \n1036743        761.1         18.9        164.0           0.0           0.0  \n1036744        761.7         18.0        164.0           0.0           0.0  \n1036745        761.7         17.5        164.0           0.0           0.0  \n1036746        761.7         16.8        164.1           0.0           0.0  \n1036747        761.7         16.2        164.4           0.0           0.0  \n1036748        761.7         15.7        164.6           0.0           0.0  \n1036749        761.7         15.2        164.9           0.0           0.0  \n1036750        761.7         14.7        164.8           0.0           0.0  \n1036751        761.7         14.3        165.0           0.0           0.0  \n1036752          NaN          NaN          NaN           NaN           NaN  \n1036753          NaN          NaN          NaN           NaN           NaN  \n1036754          NaN          NaN          NaN           NaN           NaN  \n1036755          NaN          NaN          NaN           NaN           NaN  \n1036756          NaN          NaN          NaN           NaN           NaN  \n1036757          NaN          NaN          NaN           NaN           NaN  \n1036758          NaN          NaN          NaN           NaN           NaN  \n1036759          NaN          NaN          NaN           NaN           NaN  \n1036760          NaN          NaN          NaN           NaN           NaN  \n1036761          NaN          NaN          NaN           NaN           NaN  \n1036762          NaN          NaN          NaN           NaN           NaN  \n1036763          NaN          NaN          NaN           NaN           NaN  \n1036764          NaN          NaN          NaN           NaN           NaN  \n1036765          NaN          NaN          NaN           NaN           NaN  \n1036766          NaN          NaN          NaN           NaN           NaN  \n1036767          NaN          NaN          NaN           NaN           NaN  \n1036768          NaN          NaN          NaN           NaN           NaN  \n1036769          NaN          NaN          NaN           NaN           NaN  \n1036770          NaN          NaN          NaN           NaN           NaN  \n1036771          NaN          NaN          NaN           NaN           NaN  \n1036772          NaN          NaN          NaN           NaN           NaN  \n1036773          NaN          NaN          NaN           NaN           NaN  \n1036774          NaN          NaN          NaN           NaN           NaN  \n1036775          NaN          NaN          NaN           NaN           NaN  \n1036776          NaN          NaN          NaN           NaN           NaN  ",
      "text/html": "<div>\n<style scoped>\n    .dataframe tbody tr th:only-of-type {\n        vertical-align: middle;\n    }\n\n    .dataframe tbody tr th {\n        vertical-align: top;\n    }\n\n    .dataframe thead th {\n        text-align: right;\n    }\n</style>\n<table border=\"1\" class=\"dataframe\">\n  <thead>\n    <tr style=\"text-align: right;\">\n      <th></th>\n      <th>time</th>\n      <th>phase</th>\n      <th>heat_time</th>\n      <th>weight</th>\n      <th>temp</th>\n      <th>pressure</th>\n      <th>ready</th>\n      <th>p_lagged_30</th>\n      <th>t_lagged_30</th>\n      <th>w_lagged_30</th>\n      <th>ps_lagged_30</th>\n      <th>ht_lagged_30</th>\n      <th>p_lagged_25</th>\n      <th>t_lagged_25</th>\n      <th>w_lagged_25</th>\n      <th>ps_lagged_25</th>\n      <th>ht_lagged_25</th>\n    </tr>\n  </thead>\n  <tbody>\n    <tr>\n      <th>1036737</th>\n      <td>2022-03-13 04:05:27</td>\n      <td>1</td>\n      <td>133.3</td>\n      <td>3405.5</td>\n      <td>42.9</td>\n      <td>535.4</td>\n      <td>1</td>\n      <td>761.1</td>\n      <td>19.5</td>\n      <td>193.2</td>\n      <td>0.0</td>\n      <td>0.0</td>\n      <td>756.5</td>\n      <td>24.4</td>\n      <td>1928.2</td>\n      <td>0.0</td>\n      <td>0.0</td>\n    </tr>\n    <tr>\n      <th>1036738</th>\n      <td>2022-03-13 04:06:27</td>\n      <td>1</td>\n      <td>133.3</td>\n      <td>3399.6</td>\n      <td>42.8</td>\n      <td>480.8</td>\n      <td>1</td>\n      <td>761.1</td>\n      <td>18.9</td>\n      <td>164.0</td>\n      <td>0.0</td>\n      <td>0.0</td>\n      <td>757.1</td>\n      <td>23.3</td>\n      <td>788.3</td>\n      <td>0.0</td>\n      <td>0.0</td>\n    </tr>\n    <tr>\n      <th>1036739</th>\n      <td>2022-03-13 04:07:27</td>\n      <td>1</td>\n      <td>133.3</td>\n      <td>3405.5</td>\n      <td>42.7</td>\n      <td>464.1</td>\n      <td>1</td>\n      <td>761.7</td>\n      <td>18.0</td>\n      <td>164.0</td>\n      <td>0.0</td>\n      <td>0.0</td>\n      <td>760.3</td>\n      <td>22.4</td>\n      <td>496.7</td>\n      <td>0.0</td>\n      <td>0.0</td>\n    </tr>\n    <tr>\n      <th>1036740</th>\n      <td>2022-03-13 04:08:27</td>\n      <td>1</td>\n      <td>133.3</td>\n      <td>3405.1</td>\n      <td>42.6</td>\n      <td>479.7</td>\n      <td>1</td>\n      <td>761.7</td>\n      <td>17.5</td>\n      <td>164.0</td>\n      <td>0.0</td>\n      <td>0.0</td>\n      <td>760.7</td>\n      <td>21.3</td>\n      <td>356.7</td>\n      <td>0.0</td>\n      <td>0.0</td>\n    </tr>\n    <tr>\n      <th>1036741</th>\n      <td>2022-03-13 04:09:27</td>\n      <td>1</td>\n      <td>133.3</td>\n      <td>3400.1</td>\n      <td>42.5</td>\n      <td>487.9</td>\n      <td>1</td>\n      <td>761.7</td>\n      <td>16.8</td>\n      <td>164.1</td>\n      <td>0.0</td>\n      <td>0.0</td>\n      <td>761.1</td>\n      <td>20.3</td>\n      <td>260.7</td>\n      <td>0.0</td>\n      <td>0.0</td>\n    </tr>\n    <tr>\n      <th>1036742</th>\n      <td>2022-03-13 04:10:27</td>\n      <td>1</td>\n      <td>119.7</td>\n      <td>3396.0</td>\n      <td>42.4</td>\n      <td>467.2</td>\n      <td>1</td>\n      <td>761.7</td>\n      <td>16.2</td>\n      <td>164.4</td>\n      <td>0.0</td>\n      <td>0.0</td>\n      <td>761.1</td>\n      <td>19.5</td>\n      <td>193.2</td>\n      <td>0.0</td>\n      <td>0.0</td>\n    </tr>\n    <tr>\n      <th>1036743</th>\n      <td>2022-03-13 04:11:27</td>\n      <td>1</td>\n      <td>103.8</td>\n      <td>3402.0</td>\n      <td>42.3</td>\n      <td>491.7</td>\n      <td>1</td>\n      <td>761.7</td>\n      <td>15.7</td>\n      <td>164.6</td>\n      <td>0.0</td>\n      <td>0.0</td>\n      <td>761.1</td>\n      <td>18.9</td>\n      <td>164.0</td>\n      <td>0.0</td>\n      <td>0.0</td>\n    </tr>\n    <tr>\n      <th>1036744</th>\n      <td>2022-03-13 04:12:27</td>\n      <td>1</td>\n      <td>87.8</td>\n      <td>3402.3</td>\n      <td>42.3</td>\n      <td>502.8</td>\n      <td>1</td>\n      <td>761.7</td>\n      <td>15.2</td>\n      <td>164.9</td>\n      <td>0.0</td>\n      <td>0.0</td>\n      <td>761.7</td>\n      <td>18.0</td>\n      <td>164.0</td>\n      <td>0.0</td>\n      <td>0.0</td>\n    </tr>\n    <tr>\n      <th>1036745</th>\n      <td>2022-03-13 04:13:27</td>\n      <td>1</td>\n      <td>71.9</td>\n      <td>3398.9</td>\n      <td>42.3</td>\n      <td>471.3</td>\n      <td>1</td>\n      <td>761.7</td>\n      <td>14.7</td>\n      <td>164.8</td>\n      <td>0.0</td>\n      <td>0.0</td>\n      <td>761.7</td>\n      <td>17.5</td>\n      <td>164.0</td>\n      <td>0.0</td>\n      <td>0.0</td>\n    </tr>\n    <tr>\n      <th>1036746</th>\n      <td>2022-03-13 04:14:27</td>\n      <td>1</td>\n      <td>55.9</td>\n      <td>3402.9</td>\n      <td>42.4</td>\n      <td>507.6</td>\n      <td>1</td>\n      <td>761.7</td>\n      <td>14.3</td>\n      <td>165.0</td>\n      <td>0.0</td>\n      <td>0.0</td>\n      <td>761.7</td>\n      <td>16.8</td>\n      <td>164.1</td>\n      <td>0.0</td>\n      <td>0.0</td>\n    </tr>\n    <tr>\n      <th>1036747</th>\n      <td>2022-03-13 04:15:27</td>\n      <td>1</td>\n      <td>40.0</td>\n      <td>3401.4</td>\n      <td>42.4</td>\n      <td>523.6</td>\n      <td>1</td>\n      <td>NaN</td>\n      <td>NaN</td>\n      <td>NaN</td>\n      <td>NaN</td>\n      <td>NaN</td>\n      <td>761.7</td>\n      <td>16.2</td>\n      <td>164.4</td>\n      <td>0.0</td>\n      <td>0.0</td>\n    </tr>\n    <tr>\n      <th>1036748</th>\n      <td>2022-03-13 04:16:27</td>\n      <td>1</td>\n      <td>24.0</td>\n      <td>3397.9</td>\n      <td>42.4</td>\n      <td>478.0</td>\n      <td>1</td>\n      <td>NaN</td>\n      <td>NaN</td>\n      <td>NaN</td>\n      <td>NaN</td>\n      <td>NaN</td>\n      <td>761.7</td>\n      <td>15.7</td>\n      <td>164.6</td>\n      <td>0.0</td>\n      <td>0.0</td>\n    </tr>\n    <tr>\n      <th>1036749</th>\n      <td>2022-03-13 04:17:27</td>\n      <td>1</td>\n      <td>8.0</td>\n      <td>3403.7</td>\n      <td>42.4</td>\n      <td>521.9</td>\n      <td>1</td>\n      <td>NaN</td>\n      <td>NaN</td>\n      <td>NaN</td>\n      <td>NaN</td>\n      <td>NaN</td>\n      <td>761.7</td>\n      <td>15.2</td>\n      <td>164.9</td>\n      <td>0.0</td>\n      <td>0.0</td>\n    </tr>\n    <tr>\n      <th>1036750</th>\n      <td>2022-03-13 04:18:27</td>\n      <td>1</td>\n      <td>0.0</td>\n      <td>3437.5</td>\n      <td>42.3</td>\n      <td>646.3</td>\n      <td>1</td>\n      <td>NaN</td>\n      <td>NaN</td>\n      <td>NaN</td>\n      <td>NaN</td>\n      <td>NaN</td>\n      <td>761.7</td>\n      <td>14.7</td>\n      <td>164.8</td>\n      <td>0.0</td>\n      <td>0.0</td>\n    </tr>\n    <tr>\n      <th>1036751</th>\n      <td>2022-03-13 04:19:27</td>\n      <td>1</td>\n      <td>0.0</td>\n      <td>3437.3</td>\n      <td>41.3</td>\n      <td>754.0</td>\n      <td>1</td>\n      <td>NaN</td>\n      <td>NaN</td>\n      <td>NaN</td>\n      <td>NaN</td>\n      <td>NaN</td>\n      <td>761.7</td>\n      <td>14.3</td>\n      <td>165.0</td>\n      <td>0.0</td>\n      <td>0.0</td>\n    </tr>\n    <tr>\n      <th>1036752</th>\n      <td>2022-03-13 04:20:27</td>\n      <td>1</td>\n      <td>0.0</td>\n      <td>3440.5</td>\n      <td>39.5</td>\n      <td>761.1</td>\n      <td>1</td>\n      <td>NaN</td>\n      <td>NaN</td>\n      <td>NaN</td>\n      <td>NaN</td>\n      <td>NaN</td>\n      <td>NaN</td>\n      <td>NaN</td>\n      <td>NaN</td>\n      <td>NaN</td>\n      <td>NaN</td>\n    </tr>\n    <tr>\n      <th>1036753</th>\n      <td>2022-03-13 04:21:27</td>\n      <td>1</td>\n      <td>0.0</td>\n      <td>3443.3</td>\n      <td>37.5</td>\n      <td>761.7</td>\n      <td>1</td>\n      <td>NaN</td>\n      <td>NaN</td>\n      <td>NaN</td>\n      <td>NaN</td>\n      <td>NaN</td>\n      <td>NaN</td>\n      <td>NaN</td>\n      <td>NaN</td>\n      <td>NaN</td>\n      <td>NaN</td>\n    </tr>\n    <tr>\n      <th>1036754</th>\n      <td>2022-03-13 04:22:27</td>\n      <td>1</td>\n      <td>0.0</td>\n      <td>3446.2</td>\n      <td>35.7</td>\n      <td>761.7</td>\n      <td>1</td>\n      <td>NaN</td>\n      <td>NaN</td>\n      <td>NaN</td>\n      <td>NaN</td>\n      <td>NaN</td>\n      <td>NaN</td>\n      <td>NaN</td>\n      <td>NaN</td>\n      <td>NaN</td>\n      <td>NaN</td>\n    </tr>\n    <tr>\n      <th>1036755</th>\n      <td>2022-03-13 04:23:27</td>\n      <td>1</td>\n      <td>0.0</td>\n      <td>3449.0</td>\n      <td>33.9</td>\n      <td>761.7</td>\n      <td>1</td>\n      <td>NaN</td>\n      <td>NaN</td>\n      <td>NaN</td>\n      <td>NaN</td>\n      <td>NaN</td>\n      <td>NaN</td>\n      <td>NaN</td>\n      <td>NaN</td>\n      <td>NaN</td>\n      <td>NaN</td>\n    </tr>\n    <tr>\n      <th>1036756</th>\n      <td>2022-03-13 04:24:27</td>\n      <td>1</td>\n      <td>0.0</td>\n      <td>3447.2</td>\n      <td>32.2</td>\n      <td>761.7</td>\n      <td>1</td>\n      <td>NaN</td>\n      <td>NaN</td>\n      <td>NaN</td>\n      <td>NaN</td>\n      <td>NaN</td>\n      <td>NaN</td>\n      <td>NaN</td>\n      <td>NaN</td>\n      <td>NaN</td>\n      <td>NaN</td>\n    </tr>\n    <tr>\n      <th>1036757</th>\n      <td>2022-03-13 04:25:27</td>\n      <td>0</td>\n      <td>0.0</td>\n      <td>3442.7</td>\n      <td>30.7</td>\n      <td>761.7</td>\n      <td>1</td>\n      <td>NaN</td>\n      <td>NaN</td>\n      <td>NaN</td>\n      <td>NaN</td>\n      <td>NaN</td>\n      <td>NaN</td>\n      <td>NaN</td>\n      <td>NaN</td>\n      <td>NaN</td>\n      <td>NaN</td>\n    </tr>\n    <tr>\n      <th>1036758</th>\n      <td>2022-03-13 04:26:27</td>\n      <td>0</td>\n      <td>0.0</td>\n      <td>3444.2</td>\n      <td>29.3</td>\n      <td>761.7</td>\n      <td>0</td>\n      <td>NaN</td>\n      <td>NaN</td>\n      <td>NaN</td>\n      <td>NaN</td>\n      <td>NaN</td>\n      <td>NaN</td>\n      <td>NaN</td>\n      <td>NaN</td>\n      <td>NaN</td>\n      <td>NaN</td>\n    </tr>\n    <tr>\n      <th>1036759</th>\n      <td>2022-03-13 04:27:27</td>\n      <td>0</td>\n      <td>0.0</td>\n      <td>3441.4</td>\n      <td>27.9</td>\n      <td>761.7</td>\n      <td>0</td>\n      <td>NaN</td>\n      <td>NaN</td>\n      <td>NaN</td>\n      <td>NaN</td>\n      <td>NaN</td>\n      <td>NaN</td>\n      <td>NaN</td>\n      <td>NaN</td>\n      <td>NaN</td>\n      <td>NaN</td>\n    </tr>\n    <tr>\n      <th>1036760</th>\n      <td>2022-03-13 04:28:27</td>\n      <td>0</td>\n      <td>0.0</td>\n      <td>3441.4</td>\n      <td>26.7</td>\n      <td>761.7</td>\n      <td>0</td>\n      <td>NaN</td>\n      <td>NaN</td>\n      <td>NaN</td>\n      <td>NaN</td>\n      <td>NaN</td>\n      <td>NaN</td>\n      <td>NaN</td>\n      <td>NaN</td>\n      <td>NaN</td>\n      <td>NaN</td>\n    </tr>\n    <tr>\n      <th>1036761</th>\n      <td>2022-03-13 04:29:27</td>\n      <td>0</td>\n      <td>0.0</td>\n      <td>3443.8</td>\n      <td>25.2</td>\n      <td>761.7</td>\n      <td>0</td>\n      <td>NaN</td>\n      <td>NaN</td>\n      <td>NaN</td>\n      <td>NaN</td>\n      <td>NaN</td>\n      <td>NaN</td>\n      <td>NaN</td>\n      <td>NaN</td>\n      <td>NaN</td>\n      <td>NaN</td>\n    </tr>\n    <tr>\n      <th>1036762</th>\n      <td>2022-03-13 04:30:27</td>\n      <td>0</td>\n      <td>0.0</td>\n      <td>1928.2</td>\n      <td>24.4</td>\n      <td>756.5</td>\n      <td>0</td>\n      <td>NaN</td>\n      <td>NaN</td>\n      <td>NaN</td>\n      <td>NaN</td>\n      <td>NaN</td>\n      <td>NaN</td>\n      <td>NaN</td>\n      <td>NaN</td>\n      <td>NaN</td>\n      <td>NaN</td>\n    </tr>\n    <tr>\n      <th>1036763</th>\n      <td>2022-03-13 04:31:27</td>\n      <td>0</td>\n      <td>0.0</td>\n      <td>788.3</td>\n      <td>23.3</td>\n      <td>757.1</td>\n      <td>0</td>\n      <td>NaN</td>\n      <td>NaN</td>\n      <td>NaN</td>\n      <td>NaN</td>\n      <td>NaN</td>\n      <td>NaN</td>\n      <td>NaN</td>\n      <td>NaN</td>\n      <td>NaN</td>\n      <td>NaN</td>\n    </tr>\n    <tr>\n      <th>1036764</th>\n      <td>2022-03-13 04:32:27</td>\n      <td>0</td>\n      <td>0.0</td>\n      <td>496.7</td>\n      <td>22.4</td>\n      <td>760.3</td>\n      <td>0</td>\n      <td>NaN</td>\n      <td>NaN</td>\n      <td>NaN</td>\n      <td>NaN</td>\n      <td>NaN</td>\n      <td>NaN</td>\n      <td>NaN</td>\n      <td>NaN</td>\n      <td>NaN</td>\n      <td>NaN</td>\n    </tr>\n    <tr>\n      <th>1036765</th>\n      <td>2022-03-13 04:33:27</td>\n      <td>0</td>\n      <td>0.0</td>\n      <td>356.7</td>\n      <td>21.3</td>\n      <td>760.7</td>\n      <td>0</td>\n      <td>NaN</td>\n      <td>NaN</td>\n      <td>NaN</td>\n      <td>NaN</td>\n      <td>NaN</td>\n      <td>NaN</td>\n      <td>NaN</td>\n      <td>NaN</td>\n      <td>NaN</td>\n      <td>NaN</td>\n    </tr>\n    <tr>\n      <th>1036766</th>\n      <td>2022-03-13 04:34:27</td>\n      <td>0</td>\n      <td>0.0</td>\n      <td>260.7</td>\n      <td>20.3</td>\n      <td>761.1</td>\n      <td>0</td>\n      <td>NaN</td>\n      <td>NaN</td>\n      <td>NaN</td>\n      <td>NaN</td>\n      <td>NaN</td>\n      <td>NaN</td>\n      <td>NaN</td>\n      <td>NaN</td>\n      <td>NaN</td>\n      <td>NaN</td>\n    </tr>\n    <tr>\n      <th>1036767</th>\n      <td>2022-03-13 04:35:27</td>\n      <td>0</td>\n      <td>0.0</td>\n      <td>193.2</td>\n      <td>19.5</td>\n      <td>761.1</td>\n      <td>0</td>\n      <td>NaN</td>\n      <td>NaN</td>\n      <td>NaN</td>\n      <td>NaN</td>\n      <td>NaN</td>\n      <td>NaN</td>\n      <td>NaN</td>\n      <td>NaN</td>\n      <td>NaN</td>\n      <td>NaN</td>\n    </tr>\n    <tr>\n      <th>1036768</th>\n      <td>2022-03-13 04:36:27</td>\n      <td>0</td>\n      <td>0.0</td>\n      <td>164.0</td>\n      <td>18.9</td>\n      <td>761.1</td>\n      <td>0</td>\n      <td>NaN</td>\n      <td>NaN</td>\n      <td>NaN</td>\n      <td>NaN</td>\n      <td>NaN</td>\n      <td>NaN</td>\n      <td>NaN</td>\n      <td>NaN</td>\n      <td>NaN</td>\n      <td>NaN</td>\n    </tr>\n    <tr>\n      <th>1036769</th>\n      <td>2022-03-13 04:37:27</td>\n      <td>0</td>\n      <td>0.0</td>\n      <td>164.0</td>\n      <td>18.0</td>\n      <td>761.7</td>\n      <td>0</td>\n      <td>NaN</td>\n      <td>NaN</td>\n      <td>NaN</td>\n      <td>NaN</td>\n      <td>NaN</td>\n      <td>NaN</td>\n      <td>NaN</td>\n      <td>NaN</td>\n      <td>NaN</td>\n      <td>NaN</td>\n    </tr>\n    <tr>\n      <th>1036770</th>\n      <td>2022-03-13 04:38:27</td>\n      <td>0</td>\n      <td>0.0</td>\n      <td>164.0</td>\n      <td>17.5</td>\n      <td>761.7</td>\n      <td>0</td>\n      <td>NaN</td>\n      <td>NaN</td>\n      <td>NaN</td>\n      <td>NaN</td>\n      <td>NaN</td>\n      <td>NaN</td>\n      <td>NaN</td>\n      <td>NaN</td>\n      <td>NaN</td>\n      <td>NaN</td>\n    </tr>\n    <tr>\n      <th>1036771</th>\n      <td>2022-03-13 04:39:27</td>\n      <td>0</td>\n      <td>0.0</td>\n      <td>164.1</td>\n      <td>16.8</td>\n      <td>761.7</td>\n      <td>0</td>\n      <td>NaN</td>\n      <td>NaN</td>\n      <td>NaN</td>\n      <td>NaN</td>\n      <td>NaN</td>\n      <td>NaN</td>\n      <td>NaN</td>\n      <td>NaN</td>\n      <td>NaN</td>\n      <td>NaN</td>\n    </tr>\n    <tr>\n      <th>1036772</th>\n      <td>2022-03-13 04:40:27</td>\n      <td>0</td>\n      <td>0.0</td>\n      <td>164.4</td>\n      <td>16.2</td>\n      <td>761.7</td>\n      <td>0</td>\n      <td>NaN</td>\n      <td>NaN</td>\n      <td>NaN</td>\n      <td>NaN</td>\n      <td>NaN</td>\n      <td>NaN</td>\n      <td>NaN</td>\n      <td>NaN</td>\n      <td>NaN</td>\n      <td>NaN</td>\n    </tr>\n    <tr>\n      <th>1036773</th>\n      <td>2022-03-13 04:41:27</td>\n      <td>0</td>\n      <td>0.0</td>\n      <td>164.6</td>\n      <td>15.7</td>\n      <td>761.7</td>\n      <td>0</td>\n      <td>NaN</td>\n      <td>NaN</td>\n      <td>NaN</td>\n      <td>NaN</td>\n      <td>NaN</td>\n      <td>NaN</td>\n      <td>NaN</td>\n      <td>NaN</td>\n      <td>NaN</td>\n      <td>NaN</td>\n    </tr>\n    <tr>\n      <th>1036774</th>\n      <td>2022-03-13 04:42:27</td>\n      <td>0</td>\n      <td>0.0</td>\n      <td>164.9</td>\n      <td>15.2</td>\n      <td>761.7</td>\n      <td>0</td>\n      <td>NaN</td>\n      <td>NaN</td>\n      <td>NaN</td>\n      <td>NaN</td>\n      <td>NaN</td>\n      <td>NaN</td>\n      <td>NaN</td>\n      <td>NaN</td>\n      <td>NaN</td>\n      <td>NaN</td>\n    </tr>\n    <tr>\n      <th>1036775</th>\n      <td>2022-03-13 04:43:27</td>\n      <td>0</td>\n      <td>0.0</td>\n      <td>164.8</td>\n      <td>14.7</td>\n      <td>761.7</td>\n      <td>0</td>\n      <td>NaN</td>\n      <td>NaN</td>\n      <td>NaN</td>\n      <td>NaN</td>\n      <td>NaN</td>\n      <td>NaN</td>\n      <td>NaN</td>\n      <td>NaN</td>\n      <td>NaN</td>\n      <td>NaN</td>\n    </tr>\n    <tr>\n      <th>1036776</th>\n      <td>2022-03-13 04:44:27</td>\n      <td>0</td>\n      <td>0.0</td>\n      <td>165.0</td>\n      <td>14.3</td>\n      <td>761.7</td>\n      <td>0</td>\n      <td>NaN</td>\n      <td>NaN</td>\n      <td>NaN</td>\n      <td>NaN</td>\n      <td>NaN</td>\n      <td>NaN</td>\n      <td>NaN</td>\n      <td>NaN</td>\n      <td>NaN</td>\n      <td>NaN</td>\n    </tr>\n  </tbody>\n</table>\n</div>"
     },
     "execution_count": 27,
     "metadata": {},
     "output_type": "execute_result"
    }
   ],
   "source": [
    "df.tail(40)"
   ]
  },
  {
   "cell_type": "code",
   "execution_count": 27,
   "metadata": {},
   "outputs": [],
   "source": []
  }
 ],
 "metadata": {
  "kernelspec": {
   "display_name": "Python 3 (ipykernel)",
   "language": "python",
   "name": "python3"
  },
  "language_info": {
   "codemirror_mode": {
    "name": "ipython",
    "version": 3
   },
   "file_extension": ".py",
   "mimetype": "text/x-python",
   "name": "python",
   "nbconvert_exporter": "python",
   "pygments_lexer": "ipython3",
   "version": "3.8.2"
  }
 },
 "nbformat": 4,
 "nbformat_minor": 1
}